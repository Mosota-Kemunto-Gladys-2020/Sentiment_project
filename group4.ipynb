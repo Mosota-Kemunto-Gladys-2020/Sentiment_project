{
 "cells": [
  {
   "cell_type": "markdown",
   "metadata": {},
   "source": [
    "# NLP twitter Sentiments about Apple and Google Products"
   ]
  },
  {
   "cell_type": "markdown",
   "metadata": {},
   "source": [
    "## 1. Project Overview\n",
    "\n",
    "This project aims to develop a Natural Language Processing (NLP) model to analyze sentiment in Tweets related to Apple and Google products. By classifying the sentiment of these Tweets as positive, negative, or neutral, the model will provide valuable insights into public perception, aiding businesses in marketing strategies and product development."
   ]
  },
  {
   "cell_type": "markdown",
   "metadata": {},
   "source": [
    "\n",
    "**Business Problem:**\n",
    "\n",
    "In an era dominated by social media, brands must continuously track customer sentiments expressed online. Twitter, in particular, has become a critical platform where users voice their opinions about products and brands. However, the vast volume and rapid pace of tweets make it impractical for businesses to manually analyze these opinions for insights. To address this, a Natural Language Processing (NLP) model needs to be developed to automatically classify the sentiment of tweets and determine which brand or product is the target of those sentiments.\n",
    "\n",
    "The dataset from CrowdFlower includes over 9,000 tweets that have been evaluated for sentiment (positive, negative, or no emotion) and tagged with the associated brand or product. The goal is to build an NLP model that can accurately and efficiently:\n",
    "\n",
    "1. **Classify Sentiments**: Identify whether a tweet expresses positive, negative, or no emotion.\n",
    "2. **Identify Brand/Product**: Recognize which brand or product is being referred to in the tweet.\n",
    "3. **Handle Ambiguity**: Deal with tweets that might reference multiple brands or unclear sentiments.\n",
    "\n",
    "Key challenges include:\n",
    "\n",
    "- **Textual Variations**: Dealing with informal language, abbreviations, emojis, and slang used on social media.\n",
    "- **Context Understanding**: Ensuring the model understands subtle and implicit expressions of sentiment.\n",
    "- **Real-Time Processing**: Building a scalable solution that can process large volumes of data in real time for timely insights.\n",
    "\n",
    "Solving this problem will help brands enhance their reputation management, respond promptly to consumer feedback, and optimize their marketing strategies based on real-time sentiment analysis."
   ]
  },
  {
   "cell_type": "markdown",
   "metadata": {},
   "source": [
    "#### Project Objectives\n",
    "\n",
    "1.**Binary Classification Model:** The first objective is to develop a binary classification model to classify tweets as either positive or negative. Using Logistic Regression, this model aims to achieve a benchmark accuracy of 85%, serving as a proof of concept.\n",
    "\n",
    "2.**Multiclass Classification Expansion:** After establishing a successful binary classification, we will develop a multiclass classifier to include neutral sentiments. This will provide a more comprehensive understanding of consumer sentiment and will be built using models like XGBoost and Multinomial Naive Bayes, with a target accuracy of 70%.\n",
    "\n",
    "3.**Sentiment Comparison Between Apple and Google Products:** A final objective is to compare sentiment across the brands by analyzing the distribution of sentiments in tweets mentioning Apple, Google, and other products. This comparison will provide valuable insights for stakeholders to refine their strategies."
   ]
  },
  {
   "cell_type": "markdown",
   "metadata": {},
   "source": [
    "#### Stakeholders\n",
    "\n",
    "Key stakeholders who would benefit from this project include:\n",
    "\n",
    "**1. Product Managers** at Apple and Google, who can use the insights to tweak product features based on consumer sentiment.\n",
    "\n",
    "**2. Marketing Teams** looking to assess the effectiveness of campaigns or brand perception.\n",
    "\n",
    "**3. Customer Support Teams**, who can use the analysis to proactively address negative sentiment or capitalize on positive feedback.\n",
    "\n",
    "**4. Consultants and market analysts** seeking to provide data-driven advice to tech companies on consumer perceptions."
   ]
  },
  {
   "cell_type": "markdown",
   "metadata": {},
   "source": [
    "##### Methodology Overview\n",
    "\n",
    "\n",
    "1.**Data Understanding**\n",
    "   - Familiarizing with the structure of the dataset (e.g., columns like `tweet_text`, `emotion_in_tweet_is_directed_at`, and `is_there_an_emotion_directed_at_a_brand_or_product`).\n",
    "   - Identifying any initial anomalies (e.g., missing values, duplicates) that need cleaning.\n",
    "\n",
    "2.**Data Preparation**\n",
    "- Preprocessing steps:\n",
    "\n",
    "    - Removed duplicate entries.\n",
    "    - Addressed missing values by populating the emotion_in_tweet_is_directed_at column with \"none\" and removed entries     lacking tweet_text.\n",
    "    - Applied text preprocessing techniques: tokenization, lowercasing, stopword removal, and lemmatization.\n",
    "\n",
    "3.**Modeling**\n",
    "    - Utilized key libraries: NLTK (for tokenization, stopword removal, lemmatization), sklearn's CountVectorizer (for vectorization), and pandas (for data handling).\n",
    "    - Developed a logistic regression model for binary classification (positive/negative sentiment), aiming for 70% accuracy.\n",
    "    - Expanded to a multiclass classifier to include neutral sentiments.\n",
    "\n",
    "4.**Evaluation**\n",
    "    - Accuracy was used as the main evaluation metric, measuring the model's overall ability to classify sentiments correctly.\n",
    "    - While the model performed satisfactorily, missing values and data quality issues are potential limitations."
   ]
  },
  {
   "cell_type": "markdown",
   "metadata": {},
   "source": [
    "#### Data Understanding\n",
    "\n",
    "We are using a dataset sourced from **CrowdFlower via Data.world,** containing approximately 9,000 tweets expressing sentiments about Apple and Google products. This dataset includes columns such as `tweet_text`, `emotion_in_tweet_is_directed_at`, and `is_there_an_emotion_directed_at_a_brand_or_product`. The main objective is to accurately classify each tweet into one of three sentiment categories: positive, negative, or neutral."
   ]
  },
  {
   "cell_type": "code",
   "execution_count": 221,
   "metadata": {},
   "outputs": [
    {
     "name": "stderr",
     "output_type": "stream",
     "text": [
      "[nltk_data] Downloading package punkt to c:\\Users\\Augustine\n",
      "[nltk_data]     Wanyonyi\\anaconda3\\envs\\learn-env\\lib\\nltk_data...\n",
      "[nltk_data]   Package punkt is already up-to-date!\n"
     ]
    }
   ],
   "source": [
    "import pandas as pd\n",
    "import numpy as np\n",
    "import matplotlib.pyplot as plt\n",
    "import seaborn as sns\n",
    "\n",
    "import nltk\n",
    "from nltk.tokenize import RegexpTokenizer, TweetTokenizer\n",
    "from nltk.corpus import stopwords\n",
    "from nltk.stem import WordNetLemmatizer\n",
    "from nltk.stem import SnowballStemmer\n",
    "import re\n",
    "\n",
    "from sklearn.model_selection import train_test_split, cross_validate\n",
    "from numpy import array\n",
    "from sklearn.feature_extraction.text import CountVectorizer, TfidfVectorizer\n",
    "from sklearn.preprocessing import StandardScaler\n",
    "from sklearn.decomposition import PCA\n",
    "from sklearn.naive_bayes import MultinomialNB\n",
    "from sklearn.linear_model import LogisticRegression\n",
    "from sklearn.pipeline import Pipeline\n",
    "from sklearn.impute import SimpleImputer\n",
    "from sklearn.preprocessing import LabelEncoder, OneHotEncoder\n",
    "from sklearn.compose import ColumnTransformer\n",
    "from sklearn.naive_bayes import MultinomialNB\n",
    "from sklearn.preprocessing import LabelEncoder, OneHotEncoder\n",
    "from sklearn.compose import ColumnTransformer\n",
    "from sklearn.pipeline import Pipeline\n",
    "from sklearn.linear_model import LogisticRegression\n",
    "from sklearn.ensemble import RandomForestClassifier\n",
    "from sklearn.svm import SVC\n",
    "from sklearn.ensemble import GradientBoostingClassifier\n",
    "from sklearn.metrics import classification_report, confusion_matrix, accuracy_score\n",
    "\n",
    "import tensorflow as tf\n",
    "from tensorflow import keras\n",
    "from tensorflow.keras import layers, models, Sequential\n",
    "from tensorflow.keras.preprocessing.text import Tokenizer\n",
    "from tensorflow.keras.preprocessing.sequence import pad_sequences\n",
    "from tensorflow.keras.losses import CategoricalCrossentropy\n",
    "from tensorflow.keras.optimizers import Adam\n",
    "from tensorflow.keras.callbacks import EarlyStopping, ModelCheckpoint\n",
    "from tqdm import tqdm\n",
    "\n",
    "import nltk\n",
    "nltk.download('punkt')  # Download the tokenizer data\n",
    "from nltk.tokenize import word_tokenize"
   ]
  },
  {
   "cell_type": "code",
   "execution_count": 222,
   "metadata": {},
   "outputs": [
    {
     "data": {
      "text/html": [
       "<div>\n",
       "<style scoped>\n",
       "    .dataframe tbody tr th:only-of-type {\n",
       "        vertical-align: middle;\n",
       "    }\n",
       "\n",
       "    .dataframe tbody tr th {\n",
       "        vertical-align: top;\n",
       "    }\n",
       "\n",
       "    .dataframe thead th {\n",
       "        text-align: right;\n",
       "    }\n",
       "</style>\n",
       "<table border=\"1\" class=\"dataframe\">\n",
       "  <thead>\n",
       "    <tr style=\"text-align: right;\">\n",
       "      <th></th>\n",
       "      <th>tweet_text</th>\n",
       "      <th>emotion_in_tweet_is_directed_at</th>\n",
       "      <th>is_there_an_emotion_directed_at_a_brand_or_product</th>\n",
       "    </tr>\n",
       "  </thead>\n",
       "  <tbody>\n",
       "    <tr>\n",
       "      <th>0</th>\n",
       "      <td>.@wesley83 I have a 3G iPhone. After 3 hrs twe...</td>\n",
       "      <td>iPhone</td>\n",
       "      <td>Negative emotion</td>\n",
       "    </tr>\n",
       "    <tr>\n",
       "      <th>1</th>\n",
       "      <td>@jessedee Know about @fludapp ? Awesome iPad/i...</td>\n",
       "      <td>iPad or iPhone App</td>\n",
       "      <td>Positive emotion</td>\n",
       "    </tr>\n",
       "    <tr>\n",
       "      <th>2</th>\n",
       "      <td>@swonderlin Can not wait for #iPad 2 also. The...</td>\n",
       "      <td>iPad</td>\n",
       "      <td>Positive emotion</td>\n",
       "    </tr>\n",
       "    <tr>\n",
       "      <th>3</th>\n",
       "      <td>@sxsw I hope this year's festival isn't as cra...</td>\n",
       "      <td>iPad or iPhone App</td>\n",
       "      <td>Negative emotion</td>\n",
       "    </tr>\n",
       "    <tr>\n",
       "      <th>4</th>\n",
       "      <td>@sxtxstate great stuff on Fri #SXSW: Marissa M...</td>\n",
       "      <td>Google</td>\n",
       "      <td>Positive emotion</td>\n",
       "    </tr>\n",
       "    <tr>\n",
       "      <th>...</th>\n",
       "      <td>...</td>\n",
       "      <td>...</td>\n",
       "      <td>...</td>\n",
       "    </tr>\n",
       "    <tr>\n",
       "      <th>9088</th>\n",
       "      <td>Ipad everywhere. #SXSW {link}</td>\n",
       "      <td>iPad</td>\n",
       "      <td>Positive emotion</td>\n",
       "    </tr>\n",
       "    <tr>\n",
       "      <th>9089</th>\n",
       "      <td>Wave, buzz... RT @mention We interrupt your re...</td>\n",
       "      <td>NaN</td>\n",
       "      <td>No emotion toward brand or product</td>\n",
       "    </tr>\n",
       "    <tr>\n",
       "      <th>9090</th>\n",
       "      <td>Google's Zeiger, a physician never reported po...</td>\n",
       "      <td>NaN</td>\n",
       "      <td>No emotion toward brand or product</td>\n",
       "    </tr>\n",
       "    <tr>\n",
       "      <th>9091</th>\n",
       "      <td>Some Verizon iPhone customers complained their...</td>\n",
       "      <td>NaN</td>\n",
       "      <td>No emotion toward brand or product</td>\n",
       "    </tr>\n",
       "    <tr>\n",
       "      <th>9092</th>\n",
       "      <td>Ï¡Ïàü_ÊÎÒ£Áââ_£â_ÛâRT @...</td>\n",
       "      <td>NaN</td>\n",
       "      <td>No emotion toward brand or product</td>\n",
       "    </tr>\n",
       "  </tbody>\n",
       "</table>\n",
       "<p>9093 rows × 3 columns</p>\n",
       "</div>"
      ],
      "text/plain": [
       "                                             tweet_text  \\\n",
       "0     .@wesley83 I have a 3G iPhone. After 3 hrs twe...   \n",
       "1     @jessedee Know about @fludapp ? Awesome iPad/i...   \n",
       "2     @swonderlin Can not wait for #iPad 2 also. The...   \n",
       "3     @sxsw I hope this year's festival isn't as cra...   \n",
       "4     @sxtxstate great stuff on Fri #SXSW: Marissa M...   \n",
       "...                                                 ...   \n",
       "9088                      Ipad everywhere. #SXSW {link}   \n",
       "9089  Wave, buzz... RT @mention We interrupt your re...   \n",
       "9090  Google's Zeiger, a physician never reported po...   \n",
       "9091  Some Verizon iPhone customers complained their...   \n",
       "9092  Ï¡Ïàü_ÊÎÒ£Áââ_£â_ÛâRT @...   \n",
       "\n",
       "     emotion_in_tweet_is_directed_at  \\\n",
       "0                             iPhone   \n",
       "1                 iPad or iPhone App   \n",
       "2                               iPad   \n",
       "3                 iPad or iPhone App   \n",
       "4                             Google   \n",
       "...                              ...   \n",
       "9088                            iPad   \n",
       "9089                             NaN   \n",
       "9090                             NaN   \n",
       "9091                             NaN   \n",
       "9092                             NaN   \n",
       "\n",
       "     is_there_an_emotion_directed_at_a_brand_or_product  \n",
       "0                                      Negative emotion  \n",
       "1                                      Positive emotion  \n",
       "2                                      Positive emotion  \n",
       "3                                      Negative emotion  \n",
       "4                                      Positive emotion  \n",
       "...                                                 ...  \n",
       "9088                                   Positive emotion  \n",
       "9089                 No emotion toward brand or product  \n",
       "9090                 No emotion toward brand or product  \n",
       "9091                 No emotion toward brand or product  \n",
       "9092                 No emotion toward brand or product  \n",
       "\n",
       "[9093 rows x 3 columns]"
      ]
     },
     "execution_count": 222,
     "metadata": {},
     "output_type": "execute_result"
    }
   ],
   "source": [
    "#load the dataset\n",
    "df = pd.read_csv('Data\\Sentiments_analysis.csv', encoding = 'unicode_escape')\n",
    "df"
   ]
  },
  {
   "cell_type": "code",
   "execution_count": 223,
   "metadata": {},
   "outputs": [
    {
     "name": "stdout",
     "output_type": "stream",
     "text": [
      "<class 'pandas.core.frame.DataFrame'>\n",
      "RangeIndex: 9093 entries, 0 to 9092\n",
      "Data columns (total 3 columns):\n",
      " #   Column                                              Non-Null Count  Dtype \n",
      "---  ------                                              --------------  ----- \n",
      " 0   tweet_text                                          9092 non-null   object\n",
      " 1   emotion_in_tweet_is_directed_at                     3291 non-null   object\n",
      " 2   is_there_an_emotion_directed_at_a_brand_or_product  9093 non-null   object\n",
      "dtypes: object(3)\n",
      "memory usage: 213.2+ KB\n",
      "None\n",
      "--------------------\n",
      "Total duplicated rows\n",
      "22\n",
      "--------------------\n",
      "Total null values\n",
      "tweet_text                                               1\n",
      "emotion_in_tweet_is_directed_at                       5802\n",
      "is_there_an_emotion_directed_at_a_brand_or_product       0\n",
      "dtype: int64\n"
     ]
    }
   ],
   "source": [
    "#looking at data, duplicates and null valuesprint\n",
    "def data_summary(df):\n",
    "    # Print the DataFrame info\n",
    "    print(df.info())\n",
    "    print((\"-\" * 20))\n",
    "    \n",
    "    # Print the total number of duplicated rows\n",
    "    print('Total duplicated rows')\n",
    "    print(df.duplicated().sum())\n",
    "    print((\"-\" * 20))\n",
    "    # Print the total number of null values in each column\n",
    "    print('Total null values')\n",
    "    \n",
    "    print(df.isna().sum())    \n",
    "data_summary(df)\n"
   ]
  },
  {
   "cell_type": "code",
   "execution_count": 224,
   "metadata": {},
   "outputs": [
    {
     "data": {
      "text/plain": [
       "is_there_an_emotion_directed_at_a_brand_or_product\n",
       "No emotion toward brand or product    5389\n",
       "Positive emotion                      2978\n",
       "Negative emotion                       570\n",
       "I can't tell                           156\n",
       "Name: count, dtype: int64"
      ]
     },
     "execution_count": 224,
     "metadata": {},
     "output_type": "execute_result"
    }
   ],
   "source": [
    "#sentiment breakdown\n",
    "df['is_there_an_emotion_directed_at_a_brand_or_product'].value_counts() "
   ]
  },
  {
   "cell_type": "code",
   "execution_count": 225,
   "metadata": {},
   "outputs": [
    {
     "data": {
      "text/plain": [
       "<Axes: xlabel='is_there_an_emotion_directed_at_a_brand_or_product', ylabel='count'>"
      ]
     },
     "execution_count": 225,
     "metadata": {},
     "output_type": "execute_result"
    },
    {
     "data": {
      "image/png": "[encoded data removed]",
      "text/plain": [
       "<Figure size 1200x600 with 1 Axes>"
      ]
     },
     "metadata": {},
     "output_type": "display_data"
    }
   ],
   "source": [
    "fig =  plt.figure(figsize=(12,6))\n",
    "sns.countplot(x='is_there_an_emotion_directed_at_a_brand_or_product', data=df)"
   ]
  },
  {
   "cell_type": "code",
   "execution_count": 226,
   "metadata": {},
   "outputs": [
    {
     "data": {
      "image/png": "[encoded data removed]",
      "text/plain": [
       "<Figure size 1200x600 with 1 Axes>"
      ]
     },
     "metadata": {},
     "output_type": "display_data"
    }
   ],
   "source": [
    "fig =  plt.figure(figsize=(12,6))\n",
    "sns.countplot(x='emotion_in_tweet_is_directed_at', data=df)\n",
    "plt.xticks(rotation=45);"
   ]
  },
  {
   "cell_type": "markdown",
   "metadata": {},
   "source": [
    "There are altogether four sentiment classes in which neutral type of emotion ('No emotion...') is more prevalent. We can also see the sentiment 'I can't tell' constitutes only tiny portion of the data. Sentiment wise, this might be closer to the neutral type in which case we may  combine this to the neutral class. However, this class is already a majority class which is already causing huge imbalance in the dataset. So, we will drop the data with this class label."
   ]
  },
  {
   "cell_type": "markdown",
   "metadata": {},
   "source": [
    "##### Summary - Renaming long column names\n",
    "\n",
    "We renamed  the column ```emotion_in_tweet_is_directed_at``` to ```product_brand``` and the column ```is_there_an_emotion_directed_at_a_brand_or_product``` to ```sentiment``` to enhance clarity and facilitate their usage in our subsequent computation"
   ]
  },
  {
   "cell_type": "code",
   "execution_count": 227,
   "metadata": {},
   "outputs": [
    {
     "name": "stdout",
     "output_type": "stream",
     "text": [
      "Index(['tweet_text', 'product_brand', 'sentiment'], dtype='object')\n"
     ]
    }
   ],
   "source": [
    "# Renaming the columns\n",
    "data_renamed = df.rename(columns={\n",
    "    'emotion_in_tweet_is_directed_at':'product_brand',\n",
    "    'is_there_an_emotion_directed_at_a_brand_or_product': 'sentiment'\n",
    "})\n",
    "\n",
    "# Display the updated columns\n",
    "print(data_renamed.columns)"
   ]
  },
  {
   "cell_type": "code",
   "execution_count": 228,
   "metadata": {},
   "outputs": [
    {
     "name": "stdout",
     "output_type": "stream",
     "text": [
      "                                          tweet_text       product_brand  \\\n",
      "0  .@wesley83 I have a 3G iPhone. After 3 hrs twe...              iPhone   \n",
      "1  @jessedee Know about @fludapp ? Awesome iPad/i...  iPad or iPhone App   \n",
      "2  @swonderlin Can not wait for #iPad 2 also. The...                iPad   \n",
      "3  @sxsw I hope this year's festival isn't as cra...  iPad or iPhone App   \n",
      "4  @sxtxstate great stuff on Fri #SXSW: Marissa M...              Google   \n",
      "\n",
      "          sentiment  \n",
      "0  Negative emotion  \n",
      "1  Positive emotion  \n",
      "2  Positive emotion  \n",
      "3  Negative emotion  \n",
      "4  Positive emotion  \n"
     ]
    }
   ],
   "source": [
    "# Displaying the first few rows of the DataFrame\n",
    "print(data_renamed.head())"
   ]
  },
  {
   "cell_type": "code",
   "execution_count": 229,
   "metadata": {},
   "outputs": [
    {
     "data": {
      "text/plain": [
       "tweet_text       0\n",
       "product_brand    0\n",
       "sentiment        0\n",
       "dtype: int64"
      ]
     },
     "execution_count": 229,
     "metadata": {},
     "output_type": "execute_result"
    }
   ],
   "source": [
    "imputer_mode = SimpleImputer(strategy='constant')\n",
    "data_renamed = pd.DataFrame(imputer_mode.fit_transform(data_renamed), columns=data_renamed.columns)\n",
    "data_renamed.isna().sum()"
   ]
  },
  {
   "cell_type": "code",
   "execution_count": 230,
   "metadata": {},
   "outputs": [
    {
     "data": {
      "text/html": [
       "<div>\n",
       "<style scoped>\n",
       "    .dataframe tbody tr th:only-of-type {\n",
       "        vertical-align: middle;\n",
       "    }\n",
       "\n",
       "    .dataframe tbody tr th {\n",
       "        vertical-align: top;\n",
       "    }\n",
       "\n",
       "    .dataframe thead th {\n",
       "        text-align: right;\n",
       "    }\n",
       "</style>\n",
       "<table border=\"1\" class=\"dataframe\">\n",
       "  <thead>\n",
       "    <tr style=\"text-align: right;\">\n",
       "      <th></th>\n",
       "      <th>tweet_text</th>\n",
       "      <th>product_brand</th>\n",
       "      <th>sentiment</th>\n",
       "    </tr>\n",
       "  </thead>\n",
       "  <tbody>\n",
       "    <tr>\n",
       "      <th>0</th>\n",
       "      <td>.@wesley83 I have a 3G iPhone. After 3 hrs twe...</td>\n",
       "      <td>iPhone</td>\n",
       "      <td>Negative emotion</td>\n",
       "    </tr>\n",
       "    <tr>\n",
       "      <th>1</th>\n",
       "      <td>@jessedee Know about @fludapp ? Awesome iPad/i...</td>\n",
       "      <td>iPad or iPhone App</td>\n",
       "      <td>Positive emotion</td>\n",
       "    </tr>\n",
       "    <tr>\n",
       "      <th>2</th>\n",
       "      <td>@swonderlin Can not wait for #iPad 2 also. The...</td>\n",
       "      <td>iPad</td>\n",
       "      <td>Positive emotion</td>\n",
       "    </tr>\n",
       "    <tr>\n",
       "      <th>3</th>\n",
       "      <td>@sxsw I hope this year's festival isn't as cra...</td>\n",
       "      <td>iPad or iPhone App</td>\n",
       "      <td>Negative emotion</td>\n",
       "    </tr>\n",
       "    <tr>\n",
       "      <th>4</th>\n",
       "      <td>@sxtxstate great stuff on Fri #SXSW: Marissa M...</td>\n",
       "      <td>Google</td>\n",
       "      <td>Positive emotion</td>\n",
       "    </tr>\n",
       "  </tbody>\n",
       "</table>\n",
       "</div>"
      ],
      "text/plain": [
       "                                          tweet_text       product_brand  \\\n",
       "0  .@wesley83 I have a 3G iPhone. After 3 hrs twe...              iPhone   \n",
       "1  @jessedee Know about @fludapp ? Awesome iPad/i...  iPad or iPhone App   \n",
       "2  @swonderlin Can not wait for #iPad 2 also. The...                iPad   \n",
       "3  @sxsw I hope this year's festival isn't as cra...  iPad or iPhone App   \n",
       "4  @sxtxstate great stuff on Fri #SXSW: Marissa M...              Google   \n",
       "\n",
       "          sentiment  \n",
       "0  Negative emotion  \n",
       "1  Positive emotion  \n",
       "2  Positive emotion  \n",
       "3  Negative emotion  \n",
       "4  Positive emotion  "
      ]
     },
     "execution_count": 230,
     "metadata": {},
     "output_type": "execute_result"
    }
   ],
   "source": [
    "data_renamed.head()"
   ]
  },
  {
   "cell_type": "code",
   "execution_count": 231,
   "metadata": {},
   "outputs": [
    {
     "data": {
      "text/html": [
       "<div>\n",
       "<style scoped>\n",
       "    .dataframe tbody tr th:only-of-type {\n",
       "        vertical-align: middle;\n",
       "    }\n",
       "\n",
       "    .dataframe tbody tr th {\n",
       "        vertical-align: top;\n",
       "    }\n",
       "\n",
       "    .dataframe thead th {\n",
       "        text-align: right;\n",
       "    }\n",
       "</style>\n",
       "<table border=\"1\" class=\"dataframe\">\n",
       "  <thead>\n",
       "    <tr style=\"text-align: right;\">\n",
       "      <th></th>\n",
       "      <th>tweet_text</th>\n",
       "      <th>product_brand</th>\n",
       "      <th>sentiment</th>\n",
       "    </tr>\n",
       "  </thead>\n",
       "  <tbody>\n",
       "    <tr>\n",
       "      <th>468</th>\n",
       "      <td>Before It Even Begins, Apple Wins #SXSW {link}</td>\n",
       "      <td>Apple</td>\n",
       "      <td>Positive emotion</td>\n",
       "    </tr>\n",
       "    <tr>\n",
       "      <th>776</th>\n",
       "      <td>Google to Launch Major New Social Network Call...</td>\n",
       "      <td>missing_value</td>\n",
       "      <td>No emotion toward brand or product</td>\n",
       "    </tr>\n",
       "    <tr>\n",
       "      <th>2232</th>\n",
       "      <td>Marissa Mayer: Google Will Connect the Digital...</td>\n",
       "      <td>missing_value</td>\n",
       "      <td>No emotion toward brand or product</td>\n",
       "    </tr>\n",
       "    <tr>\n",
       "      <th>2559</th>\n",
       "      <td>Counting down the days to #sxsw plus strong Ca...</td>\n",
       "      <td>Apple</td>\n",
       "      <td>Positive emotion</td>\n",
       "    </tr>\n",
       "    <tr>\n",
       "      <th>3950</th>\n",
       "      <td>Really enjoying the changes in Gowalla 3.0 for...</td>\n",
       "      <td>Android App</td>\n",
       "      <td>Positive emotion</td>\n",
       "    </tr>\n",
       "    <tr>\n",
       "      <th>3962</th>\n",
       "      <td>#SXSW is just starting, #CTIA is around the co...</td>\n",
       "      <td>Android</td>\n",
       "      <td>Positive emotion</td>\n",
       "    </tr>\n",
       "    <tr>\n",
       "      <th>4897</th>\n",
       "      <td>Oh. My. God. The #SXSW app for iPad is pure, u...</td>\n",
       "      <td>iPad or iPhone App</td>\n",
       "      <td>Positive emotion</td>\n",
       "    </tr>\n",
       "    <tr>\n",
       "      <th>5338</th>\n",
       "      <td>RT @mention ÷¼ GO BEYOND BORDERS! ÷_ {link} ...</td>\n",
       "      <td>missing_value</td>\n",
       "      <td>No emotion toward brand or product</td>\n",
       "    </tr>\n",
       "    <tr>\n",
       "      <th>5341</th>\n",
       "      <td>RT @mention ÷¼ Happy Woman's Day! Make love, ...</td>\n",
       "      <td>missing_value</td>\n",
       "      <td>No emotion toward brand or product</td>\n",
       "    </tr>\n",
       "    <tr>\n",
       "      <th>5881</th>\n",
       "      <td>RT @mention Google to Launch Major New Social ...</td>\n",
       "      <td>missing_value</td>\n",
       "      <td>No emotion toward brand or product</td>\n",
       "    </tr>\n",
       "    <tr>\n",
       "      <th>5882</th>\n",
       "      <td>RT @mention Google to Launch Major New Social ...</td>\n",
       "      <td>missing_value</td>\n",
       "      <td>No emotion toward brand or product</td>\n",
       "    </tr>\n",
       "    <tr>\n",
       "      <th>5883</th>\n",
       "      <td>RT @mention Google to Launch Major New Social ...</td>\n",
       "      <td>missing_value</td>\n",
       "      <td>No emotion toward brand or product</td>\n",
       "    </tr>\n",
       "    <tr>\n",
       "      <th>5884</th>\n",
       "      <td>RT @mention Google to Launch Major New Social ...</td>\n",
       "      <td>missing_value</td>\n",
       "      <td>No emotion toward brand or product</td>\n",
       "    </tr>\n",
       "    <tr>\n",
       "      <th>5885</th>\n",
       "      <td>RT @mention Google to Launch Major New Social ...</td>\n",
       "      <td>missing_value</td>\n",
       "      <td>No emotion toward brand or product</td>\n",
       "    </tr>\n",
       "    <tr>\n",
       "      <th>6296</th>\n",
       "      <td>RT @mention Marissa Mayer: Google Will Connect...</td>\n",
       "      <td>Google</td>\n",
       "      <td>Positive emotion</td>\n",
       "    </tr>\n",
       "    <tr>\n",
       "      <th>6297</th>\n",
       "      <td>RT @mention Marissa Mayer: Google Will Connect...</td>\n",
       "      <td>missing_value</td>\n",
       "      <td>No emotion toward brand or product</td>\n",
       "    </tr>\n",
       "    <tr>\n",
       "      <th>6298</th>\n",
       "      <td>RT @mention Marissa Mayer: Google Will Connect...</td>\n",
       "      <td>Google</td>\n",
       "      <td>Positive emotion</td>\n",
       "    </tr>\n",
       "    <tr>\n",
       "      <th>6299</th>\n",
       "      <td>RT @mention Marissa Mayer: Google Will Connect...</td>\n",
       "      <td>missing_value</td>\n",
       "      <td>No emotion toward brand or product</td>\n",
       "    </tr>\n",
       "    <tr>\n",
       "      <th>6300</th>\n",
       "      <td>RT @mention Marissa Mayer: Google Will Connect...</td>\n",
       "      <td>missing_value</td>\n",
       "      <td>No emotion toward brand or product</td>\n",
       "    </tr>\n",
       "    <tr>\n",
       "      <th>6546</th>\n",
       "      <td>RT @mention RT @mention Google to Launch Major...</td>\n",
       "      <td>missing_value</td>\n",
       "      <td>No emotion toward brand or product</td>\n",
       "    </tr>\n",
       "    <tr>\n",
       "      <th>8483</th>\n",
       "      <td>I just noticed DST is coming this weekend. How...</td>\n",
       "      <td>iPhone</td>\n",
       "      <td>Negative emotion</td>\n",
       "    </tr>\n",
       "    <tr>\n",
       "      <th>8747</th>\n",
       "      <td>Need to buy an iPad2 while I'm in Austin at #s...</td>\n",
       "      <td>iPad</td>\n",
       "      <td>Positive emotion</td>\n",
       "    </tr>\n",
       "  </tbody>\n",
       "</table>\n",
       "</div>"
      ],
      "text/plain": [
       "                                             tweet_text       product_brand  \\\n",
       "468      Before It Even Begins, Apple Wins #SXSW {link}               Apple   \n",
       "776   Google to Launch Major New Social Network Call...       missing_value   \n",
       "2232  Marissa Mayer: Google Will Connect the Digital...       missing_value   \n",
       "2559  Counting down the days to #sxsw plus strong Ca...               Apple   \n",
       "3950  Really enjoying the changes in Gowalla 3.0 for...         Android App   \n",
       "3962  #SXSW is just starting, #CTIA is around the co...             Android   \n",
       "4897  Oh. My. God. The #SXSW app for iPad is pure, u...  iPad or iPhone App   \n",
       "5338  RT @mention ÷¼ GO BEYOND BORDERS! ÷_ {link} ...       missing_value   \n",
       "5341  RT @mention ÷¼ Happy Woman's Day! Make love, ...       missing_value   \n",
       "5881  RT @mention Google to Launch Major New Social ...       missing_value   \n",
       "5882  RT @mention Google to Launch Major New Social ...       missing_value   \n",
       "5883  RT @mention Google to Launch Major New Social ...       missing_value   \n",
       "5884  RT @mention Google to Launch Major New Social ...       missing_value   \n",
       "5885  RT @mention Google to Launch Major New Social ...       missing_value   \n",
       "6296  RT @mention Marissa Mayer: Google Will Connect...              Google   \n",
       "6297  RT @mention Marissa Mayer: Google Will Connect...       missing_value   \n",
       "6298  RT @mention Marissa Mayer: Google Will Connect...              Google   \n",
       "6299  RT @mention Marissa Mayer: Google Will Connect...       missing_value   \n",
       "6300  RT @mention Marissa Mayer: Google Will Connect...       missing_value   \n",
       "6546  RT @mention RT @mention Google to Launch Major...       missing_value   \n",
       "8483  I just noticed DST is coming this weekend. How...              iPhone   \n",
       "8747  Need to buy an iPad2 while I'm in Austin at #s...                iPad   \n",
       "\n",
       "                               sentiment  \n",
       "468                     Positive emotion  \n",
       "776   No emotion toward brand or product  \n",
       "2232  No emotion toward brand or product  \n",
       "2559                    Positive emotion  \n",
       "3950                    Positive emotion  \n",
       "3962                    Positive emotion  \n",
       "4897                    Positive emotion  \n",
       "5338  No emotion toward brand or product  \n",
       "5341  No emotion toward brand or product  \n",
       "5881  No emotion toward brand or product  \n",
       "5882  No emotion toward brand or product  \n",
       "5883  No emotion toward brand or product  \n",
       "5884  No emotion toward brand or product  \n",
       "5885  No emotion toward brand or product  \n",
       "6296                    Positive emotion  \n",
       "6297  No emotion toward brand or product  \n",
       "6298                    Positive emotion  \n",
       "6299  No emotion toward brand or product  \n",
       "6300  No emotion toward brand or product  \n",
       "6546  No emotion toward brand or product  \n",
       "8483                    Negative emotion  \n",
       "8747                    Positive emotion  "
      ]
     },
     "execution_count": 231,
     "metadata": {},
     "output_type": "execute_result"
    }
   ],
   "source": [
    "\n",
    "# Identify duplicates\n",
    "duplicates = data_renamed[data_renamed.duplicated()]\n",
    "# Display the 22 duplicates, if available\n",
    "duplicates.head(22)"
   ]
  },
  {
   "cell_type": "code",
   "execution_count": 232,
   "metadata": {},
   "outputs": [],
   "source": [
    "# handling the duplicates \n",
    "\n",
    "data_renamed.drop_duplicates(subset=None, keep=\"first\", inplace=True)\n"
   ]
  },
  {
   "cell_type": "code",
   "execution_count": 233,
   "metadata": {},
   "outputs": [
    {
     "data": {
      "text/plain": [
       "(9071, 3)"
      ]
     },
     "execution_count": 233,
     "metadata": {},
     "output_type": "execute_result"
    }
   ],
   "source": [
    "data_renamed.shape"
   ]
  },
  {
   "cell_type": "markdown",
   "metadata": {},
   "source": []
  },
  {
   "cell_type": "code",
   "execution_count": 234,
   "metadata": {},
   "outputs": [],
   "source": [
    "# Create a working dataframe with easier column name\n",
    "df = data_renamed.copy(deep=True)\n",
    "df.dropna(subset=['tweet_text'], inplace=True)\n",
    "\n",
    "# Convert the data types to string\n",
    "df['tweet_text'] = df['tweet_text'].astype(str)\n",
    "df['brand_item'] = df['product_brand'].astype(str)\n",
    "\n",
    "# Brand name mapping\n",
    "brand = {'iPhone': 'apple',\n",
    "         'iPad or iPhone App':'apple',\n",
    "         'iPad': 'apple',\n",
    "         'Google': 'google',\n",
    "         'nan': 'UNK',\n",
    "         'Android':'google',\n",
    "         'Apple': 'apple',\n",
    "         'Android App':'google',\n",
    "         'Other Google product or service':'google',\n",
    "         'Other Apple product or service':'apple'\n",
    "        }\n",
    "\n",
    "df['product_brand'] = df['product_brand'].map(brand)\n",
    "\n",
    "# Encoding class label to brief\n",
    "label_encoder = {'Negative emotion': 'negative',\n",
    "                 'Positive emotion': 'positive',\n",
    "                 'No emotion toward brand or product': 'neutral',\n",
    "                 \"I can't tell\":'neutral'}\n",
    "\n",
    "df['sentiment'] = df['sentiment'].map(label_encoder)\n",
    "df = df[df['sentiment'] != 'confused']    # drop the rows containing 'confused' labels"
   ]
  },
  {
   "cell_type": "code",
   "execution_count": 235,
   "metadata": {},
   "outputs": [
    {
     "name": "stderr",
     "output_type": "stream",
     "text": [
      "C:\\Users\\Augustine Wanyonyi\\AppData\\Local\\Temp\\ipykernel_16148\\1609827060.py:2: FutureWarning: \n",
      "\n",
      "Passing `palette` without assigning `hue` is deprecated and will be removed in v0.14.0. Assign the `x` variable to `hue` and set `legend=False` for the same effect.\n",
      "\n",
      "  sns.countplot(x='sentiment', data=df,\n"
     ]
    },
    {
     "data": {
      "image/png": "[encoded data removed]",
      "text/plain": [
       "<Figure size 1200x600 with 1 Axes>"
      ]
     },
     "metadata": {},
     "output_type": "display_data"
    }
   ],
   "source": [
    "fig =  plt.figure(figsize=(12,6))\n",
    "sns.countplot(x='sentiment', data=df,  \n",
    "              palette={'positive':'b', 'negative':'r', 'neutral':'g'}, alpha=0.7)\n",
    "plt.xlabel('Emotion', fontsize=15)\n",
    "plt.ylabel('Count', fontsize=15);"
   ]
  },
  {
   "cell_type": "code",
   "execution_count": 236,
   "metadata": {},
   "outputs": [
    {
     "data": {
      "text/html": [
       "<div>\n",
       "<style scoped>\n",
       "    .dataframe tbody tr th:only-of-type {\n",
       "        vertical-align: middle;\n",
       "    }\n",
       "\n",
       "    .dataframe tbody tr th {\n",
       "        vertical-align: top;\n",
       "    }\n",
       "\n",
       "    .dataframe thead th {\n",
       "        text-align: right;\n",
       "    }\n",
       "</style>\n",
       "<table border=\"1\" class=\"dataframe\">\n",
       "  <thead>\n",
       "    <tr style=\"text-align: right;\">\n",
       "      <th></th>\n",
       "      <th>tweet_text</th>\n",
       "      <th>product_brand</th>\n",
       "      <th>sentiment</th>\n",
       "      <th>brand_item</th>\n",
       "    </tr>\n",
       "  </thead>\n",
       "  <tbody>\n",
       "    <tr>\n",
       "      <th>0</th>\n",
       "      <td>.@wesley83 I have a 3G iPhone. After 3 hrs twe...</td>\n",
       "      <td>apple</td>\n",
       "      <td>negative</td>\n",
       "      <td>iPhone</td>\n",
       "    </tr>\n",
       "    <tr>\n",
       "      <th>1</th>\n",
       "      <td>@jessedee Know about @fludapp ? Awesome iPad/i...</td>\n",
       "      <td>apple</td>\n",
       "      <td>positive</td>\n",
       "      <td>iPad or iPhone App</td>\n",
       "    </tr>\n",
       "    <tr>\n",
       "      <th>2</th>\n",
       "      <td>@swonderlin Can not wait for #iPad 2 also. The...</td>\n",
       "      <td>apple</td>\n",
       "      <td>positive</td>\n",
       "      <td>iPad</td>\n",
       "    </tr>\n",
       "    <tr>\n",
       "      <th>3</th>\n",
       "      <td>@sxsw I hope this year's festival isn't as cra...</td>\n",
       "      <td>apple</td>\n",
       "      <td>negative</td>\n",
       "      <td>iPad or iPhone App</td>\n",
       "    </tr>\n",
       "    <tr>\n",
       "      <th>4</th>\n",
       "      <td>@sxtxstate great stuff on Fri #SXSW: Marissa M...</td>\n",
       "      <td>google</td>\n",
       "      <td>positive</td>\n",
       "      <td>Google</td>\n",
       "    </tr>\n",
       "  </tbody>\n",
       "</table>\n",
       "</div>"
      ],
      "text/plain": [
       "                                          tweet_text product_brand sentiment  \\\n",
       "0  .@wesley83 I have a 3G iPhone. After 3 hrs twe...         apple  negative   \n",
       "1  @jessedee Know about @fludapp ? Awesome iPad/i...         apple  positive   \n",
       "2  @swonderlin Can not wait for #iPad 2 also. The...         apple  positive   \n",
       "3  @sxsw I hope this year's festival isn't as cra...         apple  negative   \n",
       "4  @sxtxstate great stuff on Fri #SXSW: Marissa M...        google  positive   \n",
       "\n",
       "           brand_item  \n",
       "0              iPhone  \n",
       "1  iPad or iPhone App  \n",
       "2                iPad  \n",
       "3  iPad or iPhone App  \n",
       "4              Google  "
      ]
     },
     "execution_count": 236,
     "metadata": {},
     "output_type": "execute_result"
    }
   ],
   "source": [
    "df.head()"
   ]
  },
  {
   "cell_type": "code",
   "execution_count": 237,
   "metadata": {},
   "outputs": [
    {
     "data": {
      "text/plain": [
       "sentiment\n",
       "neutral     0.609856\n",
       "positive    0.327417\n",
       "negative    0.062727\n",
       "Name: proportion, dtype: float64"
      ]
     },
     "execution_count": 237,
     "metadata": {},
     "output_type": "execute_result"
    }
   ],
   "source": [
    "df.sentiment.value_counts(normalize=True)"
   ]
  },
  {
   "cell_type": "code",
   "execution_count": 238,
   "metadata": {},
   "outputs": [
    {
     "data": {
      "image/png": "[encoded data removed]",
      "text/plain": [
       "<Figure size 1200x600 with 1 Axes>"
      ]
     },
     "metadata": {},
     "output_type": "display_data"
    }
   ],
   "source": [
    "fig =  plt.figure(figsize=(12,6))\n",
    "sns.countplot(x='brand_item', data=df)\n",
    "plt.xticks(rotation=45);"
   ]
  },
  {
   "cell_type": "markdown",
   "metadata": {},
   "source": [
    "We can see, the number of tweets associated with the Apple is far greater than Google. So, we will need to use a % difference between these two brands when comparing against one another."
   ]
  },
  {
   "cell_type": "code",
   "execution_count": 239,
   "metadata": {},
   "outputs": [
    {
     "data": {
      "image/png": "[encoded data removed]",
      "text/plain": [
       "<Figure size 1200x600 with 1 Axes>"
      ]
     },
     "metadata": {},
     "output_type": "display_data"
    }
   ],
   "source": [
    "plt.figure(figsize=(12,6))\n",
    "ax = sns.countplot(data=df, x = 'sentiment', hue='product_brand')"
   ]
  },
  {
   "cell_type": "markdown",
   "metadata": {},
   "source": [
    "##  **TEXT PREPROCESSING**\n",
    "\n",
    "In this step, we will clean the tweet_text column by:\n",
    "\n",
    "Removing unnecessary elements such as:\n",
    "\n",
    "URLs\n",
    "\n",
    "Mentions (@rname)\n",
    "\n",
    "Hashtags (#)\n",
    "\n",
    "Special characters, digits, and extra spaces\n",
    "\n",
    "Converting all text to lowercase to standardize the data.\n",
    "\n",
    "Tokenizing the text and removing common stopwords (words that don't carry much meaning like \"the\", \"and\", etc.)."
   ]
  },
  {
   "cell_type": "code",
   "execution_count": 240,
   "metadata": {},
   "outputs": [
    {
     "name": "stdout",
     "output_type": "stream",
     "text": [
      "\n",
      "First few cleaned tweet texts:\n",
      "0    i have a g iphone after hrs tweeting at it was...\n",
      "1    know about awesome ipadiphone app that youll l...\n",
      "2    can not wait for also they should sale them do...\n",
      "3    i hope this years festival isnt as crashy as t...\n",
      "4    great stuff on fri marissa mayer google tim or...\n",
      "Name: cleaned_text, dtype: object\n",
      "\n",
      "Dataframe shape: (9071, 5)\n"
     ]
    }
   ],
   "source": [
    "# Function to clean text\n",
    "def clean_text(text):\n",
    "    # Remove URLs\n",
    "    text = re.sub(r'http\\S+|www.\\S+', '', text)\n",
    "    \n",
    "    # Remove mentions and hashtags\n",
    "    text = re.sub(r'@\\w+|#\\w+', '', text)\n",
    "    \n",
    "    # Remove special characters, digits, and extra spaces\n",
    "    text = re.sub(r'[^a-zA-Z\\s]', '', text)\n",
    "    text = re.sub(r'\\s+', ' ', text).strip()\n",
    "    \n",
    "    # Convert to lowercase\n",
    "    text = text.lower()\n",
    "    \n",
    "    return text\n",
    "\n",
    "# Apply the cleaning function to the tweet_text column\n",
    "df['cleaned_text'] = df['tweet_text'].apply(clean_text)\n",
    "\n",
    "# Display the first few cleaned tweets\n",
    "print(\"\\nFirst few cleaned tweet texts:\")\n",
    "print(df['cleaned_text'].head())\n",
    "\n",
    "\n",
    "# Print the shape of the dataframe\n",
    "print(\"\\nDataframe shape:\", df.shape)"
   ]
  },
  {
   "cell_type": "code",
   "execution_count": 241,
   "metadata": {},
   "outputs": [
    {
     "name": "stdout",
     "output_type": "stream",
     "text": [
      "                                          tweet_text  \\\n",
      "0  .@wesley83 I have a 3G iPhone. After 3 hrs twe...   \n",
      "1  @jessedee Know about @fludapp ? Awesome iPad/i...   \n",
      "2  @swonderlin Can not wait for #iPad 2 also. The...   \n",
      "3  @sxsw I hope this year's festival isn't as cra...   \n",
      "4  @sxtxstate great stuff on Fri #SXSW: Marissa M...   \n",
      "\n",
      "                                        cleaned_text  \\\n",
      "0  i have a g iphone after hrs tweeting at it was...   \n",
      "1  know about awesome ipadiphone app that youll l...   \n",
      "2  can not wait for also they should sale them do...   \n",
      "3  i hope this years festival isnt as crashy as t...   \n",
      "4  great stuff on fri marissa mayer google tim or...   \n",
      "\n",
      "                                   preprocessed_text  \\\n",
      "0  g iphone hr tweeting dead need upgrade plugin ...   \n",
      "1  know awesome ipadiphone app youll likely appre...   \n",
      "2                                     wait also sale   \n",
      "3     hope year festival isnt crashy year iphone app   \n",
      "4  great stuff fri marissa mayer google tim oreil...   \n",
      "\n",
      "                                      tokenized_text  \n",
      "0  [i, have, a, g, iphone, after, hrs, tweeting, ...  \n",
      "1  [know, about, awesome, ipadiphone, app, that, ...  \n",
      "2  [can, not, wait, for, also, they, should, sale...  \n",
      "3  [i, hope, this, years, festival, isnt, as, cra...  \n",
      "4  [great, stuff, on, fri, marissa, mayer, google...  \n",
      "\n",
      "Dataframe shape: (9071, 7)\n",
      "                                      tweet_text product_brand sentiment  \\\n",
      "count                                       9071          3282      9071   \n",
      "unique                                      9066             2         3   \n",
      "top     Win free iPad 2 from webdoc.com #sxsw RT         apple   neutral   \n",
      "freq                                           2          2404      5532   \n",
      "\n",
      "           brand_item                                       cleaned_text  \\\n",
      "count            9071                                               9071   \n",
      "unique             10                                               8672   \n",
      "top     missing_value  rt google to launch major new social network c...   \n",
      "freq             5789                                                 20   \n",
      "\n",
      "                                        preprocessed_text  \\\n",
      "count                                                9071   \n",
      "unique                                               8572   \n",
      "top     rt google launch major new social network call...   \n",
      "freq                                                   25   \n",
      "\n",
      "                                           tokenized_text  \n",
      "count                                                9071  \n",
      "unique                                               8672  \n",
      "top     [rt, google, to, launch, major, new, social, n...  \n",
      "freq                                                   20  \n"
     ]
    }
   ],
   "source": [
    "lemmatizer = WordNetLemmatizer()\n",
    "stop_words = set(stopwords.words('english'))\n",
    "def advanced_preprocess(text):\n",
    "    # Tokenization\n",
    "    tokens = word_tokenize(text)\n",
    "    \n",
    "    # Remove stop words and lemmatize\n",
    "    cleaned_tokens = [lemmatizer.lemmatize(token) for token in tokens if token.lower() not in stop_words]\n",
    "    \n",
    "    return ' '.join(cleaned_tokens), tokens\n",
    "# Apply advanced preprocessing to the 'cleaned_text' column and store both results\n",
    "df['preprocessed_text'], df['tokenized_text'] = zip(*df['cleaned_text'].apply(advanced_preprocess))\n",
    "\n",
    "# Display the first few rows including the new tokenized text column\n",
    "print(df[['tweet_text', 'cleaned_text', 'preprocessed_text', 'tokenized_text']].head())\n",
    "\n",
    "# Print the shape of the dataframe\n",
    "print(\"\\nDataframe shape:\", df.shape)\n",
    "\n",
    "print(df.describe())"
   ]
  },
  {
   "cell_type": "code",
   "execution_count": 242,
   "metadata": {},
   "outputs": [
    {
     "data": {
      "text/html": [
       "<div>\n",
       "<style scoped>\n",
       "    .dataframe tbody tr th:only-of-type {\n",
       "        vertical-align: middle;\n",
       "    }\n",
       "\n",
       "    .dataframe tbody tr th {\n",
       "        vertical-align: top;\n",
       "    }\n",
       "\n",
       "    .dataframe thead th {\n",
       "        text-align: right;\n",
       "    }\n",
       "</style>\n",
       "<table border=\"1\" class=\"dataframe\">\n",
       "  <thead>\n",
       "    <tr style=\"text-align: right;\">\n",
       "      <th></th>\n",
       "      <th>tweet_text</th>\n",
       "      <th>product_brand</th>\n",
       "      <th>sentiment</th>\n",
       "      <th>brand_item</th>\n",
       "      <th>cleaned_text</th>\n",
       "      <th>preprocessed_text</th>\n",
       "      <th>tokenized_text</th>\n",
       "    </tr>\n",
       "  </thead>\n",
       "  <tbody>\n",
       "    <tr>\n",
       "      <th>0</th>\n",
       "      <td>.@wesley83 I have a 3G iPhone. After 3 hrs twe...</td>\n",
       "      <td>apple</td>\n",
       "      <td>negative</td>\n",
       "      <td>iPhone</td>\n",
       "      <td>i have a g iphone after hrs tweeting at it was...</td>\n",
       "      <td>g iphone hr tweeting dead need upgrade plugin ...</td>\n",
       "      <td>[i, have, a, g, iphone, after, hrs, tweeting, ...</td>\n",
       "    </tr>\n",
       "    <tr>\n",
       "      <th>1</th>\n",
       "      <td>@jessedee Know about @fludapp ? Awesome iPad/i...</td>\n",
       "      <td>apple</td>\n",
       "      <td>positive</td>\n",
       "      <td>iPad or iPhone App</td>\n",
       "      <td>know about awesome ipadiphone app that youll l...</td>\n",
       "      <td>know awesome ipadiphone app youll likely appre...</td>\n",
       "      <td>[know, about, awesome, ipadiphone, app, that, ...</td>\n",
       "    </tr>\n",
       "    <tr>\n",
       "      <th>2</th>\n",
       "      <td>@swonderlin Can not wait for #iPad 2 also. The...</td>\n",
       "      <td>apple</td>\n",
       "      <td>positive</td>\n",
       "      <td>iPad</td>\n",
       "      <td>can not wait for also they should sale them do...</td>\n",
       "      <td>wait also sale</td>\n",
       "      <td>[can, not, wait, for, also, they, should, sale...</td>\n",
       "    </tr>\n",
       "    <tr>\n",
       "      <th>3</th>\n",
       "      <td>@sxsw I hope this year's festival isn't as cra...</td>\n",
       "      <td>apple</td>\n",
       "      <td>negative</td>\n",
       "      <td>iPad or iPhone App</td>\n",
       "      <td>i hope this years festival isnt as crashy as t...</td>\n",
       "      <td>hope year festival isnt crashy year iphone app</td>\n",
       "      <td>[i, hope, this, years, festival, isnt, as, cra...</td>\n",
       "    </tr>\n",
       "    <tr>\n",
       "      <th>4</th>\n",
       "      <td>@sxtxstate great stuff on Fri #SXSW: Marissa M...</td>\n",
       "      <td>google</td>\n",
       "      <td>positive</td>\n",
       "      <td>Google</td>\n",
       "      <td>great stuff on fri marissa mayer google tim or...</td>\n",
       "      <td>great stuff fri marissa mayer google tim oreil...</td>\n",
       "      <td>[great, stuff, on, fri, marissa, mayer, google...</td>\n",
       "    </tr>\n",
       "  </tbody>\n",
       "</table>\n",
       "</div>"
      ],
      "text/plain": [
       "                                          tweet_text product_brand sentiment  \\\n",
       "0  .@wesley83 I have a 3G iPhone. After 3 hrs twe...         apple  negative   \n",
       "1  @jessedee Know about @fludapp ? Awesome iPad/i...         apple  positive   \n",
       "2  @swonderlin Can not wait for #iPad 2 also. The...         apple  positive   \n",
       "3  @sxsw I hope this year's festival isn't as cra...         apple  negative   \n",
       "4  @sxtxstate great stuff on Fri #SXSW: Marissa M...        google  positive   \n",
       "\n",
       "           brand_item                                       cleaned_text  \\\n",
       "0              iPhone  i have a g iphone after hrs tweeting at it was...   \n",
       "1  iPad or iPhone App  know about awesome ipadiphone app that youll l...   \n",
       "2                iPad  can not wait for also they should sale them do...   \n",
       "3  iPad or iPhone App  i hope this years festival isnt as crashy as t...   \n",
       "4              Google  great stuff on fri marissa mayer google tim or...   \n",
       "\n",
       "                                   preprocessed_text  \\\n",
       "0  g iphone hr tweeting dead need upgrade plugin ...   \n",
       "1  know awesome ipadiphone app youll likely appre...   \n",
       "2                                     wait also sale   \n",
       "3     hope year festival isnt crashy year iphone app   \n",
       "4  great stuff fri marissa mayer google tim oreil...   \n",
       "\n",
       "                                      tokenized_text  \n",
       "0  [i, have, a, g, iphone, after, hrs, tweeting, ...  \n",
       "1  [know, about, awesome, ipadiphone, app, that, ...  \n",
       "2  [can, not, wait, for, also, they, should, sale...  \n",
       "3  [i, hope, this, years, festival, isnt, as, cra...  \n",
       "4  [great, stuff, on, fri, marissa, mayer, google...  "
      ]
     },
     "execution_count": 242,
     "metadata": {},
     "output_type": "execute_result"
    }
   ],
   "source": [
    "df.head()"
   ]
  },
  {
   "cell_type": "markdown",
   "metadata": {},
   "source": [
    "Modeling"
   ]
  },
  {
   "cell_type": "code",
   "execution_count": 243,
   "metadata": {},
   "outputs": [],
   "source": [
    "# Function to prepare data for binary or multi-class classification\n",
    "def prepare_data(df, binary=True):\n",
    "    if binary:\n",
    "        # Keep only positive and negative emotions\n",
    "        df = df[df['sentiment'].isin(['positive', 'negative'])]\n",
    "    else:\n",
    "        df = df[df['sentiment'].isin(['neutral'])]\n",
    "        \n",
    "    # Encode the target variable\n",
    "    le = LabelEncoder()\n",
    "    df['sentiment_encoded'] = le.fit_transform(df['sentiment'])\n",
    "    \n",
    "    # Prepare features and target\n",
    "    X = df[['preprocessed_text', 'product_brand']]\n",
    "    y = df['sentiment_encoded']\n",
    "\n",
    "    \n",
    "    return X, y, le"
   ]
  },
  {
   "cell_type": "code",
   "execution_count": 138,
   "metadata": {},
   "outputs": [],
   "source": []
  },
  {
   "cell_type": "code",
   "execution_count": 244,
   "metadata": {},
   "outputs": [
    {
     "data": {
      "text/html": [
       "<div>\n",
       "<style scoped>\n",
       "    .dataframe tbody tr th:only-of-type {\n",
       "        vertical-align: middle;\n",
       "    }\n",
       "\n",
       "    .dataframe tbody tr th {\n",
       "        vertical-align: top;\n",
       "    }\n",
       "\n",
       "    .dataframe thead th {\n",
       "        text-align: right;\n",
       "    }\n",
       "</style>\n",
       "<table border=\"1\" class=\"dataframe\">\n",
       "  <thead>\n",
       "    <tr style=\"text-align: right;\">\n",
       "      <th></th>\n",
       "      <th>tweet_text</th>\n",
       "      <th>product_brand</th>\n",
       "      <th>sentiment</th>\n",
       "      <th>brand_item</th>\n",
       "      <th>cleaned_text</th>\n",
       "      <th>preprocessed_text</th>\n",
       "      <th>tokenized_text</th>\n",
       "    </tr>\n",
       "  </thead>\n",
       "  <tbody>\n",
       "    <tr>\n",
       "      <th>0</th>\n",
       "      <td>.@wesley83 I have a 3G iPhone. After 3 hrs twe...</td>\n",
       "      <td>apple</td>\n",
       "      <td>negative</td>\n",
       "      <td>iPhone</td>\n",
       "      <td>i have a g iphone after hrs tweeting at it was...</td>\n",
       "      <td>g iphone hr tweeting dead need upgrade plugin ...</td>\n",
       "      <td>[i, have, a, g, iphone, after, hrs, tweeting, ...</td>\n",
       "    </tr>\n",
       "    <tr>\n",
       "      <th>1</th>\n",
       "      <td>@jessedee Know about @fludapp ? Awesome iPad/i...</td>\n",
       "      <td>apple</td>\n",
       "      <td>positive</td>\n",
       "      <td>iPad or iPhone App</td>\n",
       "      <td>know about awesome ipadiphone app that youll l...</td>\n",
       "      <td>know awesome ipadiphone app youll likely appre...</td>\n",
       "      <td>[know, about, awesome, ipadiphone, app, that, ...</td>\n",
       "    </tr>\n",
       "    <tr>\n",
       "      <th>2</th>\n",
       "      <td>@swonderlin Can not wait for #iPad 2 also. The...</td>\n",
       "      <td>apple</td>\n",
       "      <td>positive</td>\n",
       "      <td>iPad</td>\n",
       "      <td>can not wait for also they should sale them do...</td>\n",
       "      <td>wait also sale</td>\n",
       "      <td>[can, not, wait, for, also, they, should, sale...</td>\n",
       "    </tr>\n",
       "    <tr>\n",
       "      <th>3</th>\n",
       "      <td>@sxsw I hope this year's festival isn't as cra...</td>\n",
       "      <td>apple</td>\n",
       "      <td>negative</td>\n",
       "      <td>iPad or iPhone App</td>\n",
       "      <td>i hope this years festival isnt as crashy as t...</td>\n",
       "      <td>hope year festival isnt crashy year iphone app</td>\n",
       "      <td>[i, hope, this, years, festival, isnt, as, cra...</td>\n",
       "    </tr>\n",
       "    <tr>\n",
       "      <th>4</th>\n",
       "      <td>@sxtxstate great stuff on Fri #SXSW: Marissa M...</td>\n",
       "      <td>google</td>\n",
       "      <td>positive</td>\n",
       "      <td>Google</td>\n",
       "      <td>great stuff on fri marissa mayer google tim or...</td>\n",
       "      <td>great stuff fri marissa mayer google tim oreil...</td>\n",
       "      <td>[great, stuff, on, fri, marissa, mayer, google...</td>\n",
       "    </tr>\n",
       "  </tbody>\n",
       "</table>\n",
       "</div>"
      ],
      "text/plain": [
       "                                          tweet_text product_brand sentiment  \\\n",
       "0  .@wesley83 I have a 3G iPhone. After 3 hrs twe...         apple  negative   \n",
       "1  @jessedee Know about @fludapp ? Awesome iPad/i...         apple  positive   \n",
       "2  @swonderlin Can not wait for #iPad 2 also. The...         apple  positive   \n",
       "3  @sxsw I hope this year's festival isn't as cra...         apple  negative   \n",
       "4  @sxtxstate great stuff on Fri #SXSW: Marissa M...        google  positive   \n",
       "\n",
       "           brand_item                                       cleaned_text  \\\n",
       "0              iPhone  i have a g iphone after hrs tweeting at it was...   \n",
       "1  iPad or iPhone App  know about awesome ipadiphone app that youll l...   \n",
       "2                iPad  can not wait for also they should sale them do...   \n",
       "3  iPad or iPhone App  i hope this years festival isnt as crashy as t...   \n",
       "4              Google  great stuff on fri marissa mayer google tim or...   \n",
       "\n",
       "                                   preprocessed_text  \\\n",
       "0  g iphone hr tweeting dead need upgrade plugin ...   \n",
       "1  know awesome ipadiphone app youll likely appre...   \n",
       "2                                     wait also sale   \n",
       "3     hope year festival isnt crashy year iphone app   \n",
       "4  great stuff fri marissa mayer google tim oreil...   \n",
       "\n",
       "                                      tokenized_text  \n",
       "0  [i, have, a, g, iphone, after, hrs, tweeting, ...  \n",
       "1  [know, about, awesome, ipadiphone, app, that, ...  \n",
       "2  [can, not, wait, for, also, they, should, sale...  \n",
       "3  [i, hope, this, years, festival, isnt, as, cra...  \n",
       "4  [great, stuff, on, fri, marissa, mayer, google...  "
      ]
     },
     "execution_count": 244,
     "metadata": {},
     "output_type": "execute_result"
    }
   ],
   "source": [
    "df.head()"
   ]
  },
  {
   "cell_type": "code",
   "execution_count": 245,
   "metadata": {},
   "outputs": [],
   "source": [
    "preprocessor = ColumnTransformer(\n",
    "    transformers=[\n",
    "        ('text_tfidf', TfidfVectorizer(max_features=5000), 'preprocessed_text'),\n",
    "        ('product_onehot', OneHotEncoder(drop='first', sparse_output=False), ['product_brand'])\n",
    "    ])"
   ]
  },
  {
   "cell_type": "markdown",
   "metadata": {},
   "source": [
    "**PIPELINES**"
   ]
  },
  {
   "cell_type": "code",
   "execution_count": 246,
   "metadata": {},
   "outputs": [],
   "source": [
    "from sklearn.neural_network import MLPClassifier\n",
    "from xgboost import XGBClassifier\n",
    "#from lightgbm import LGBMClassifier"
   ]
  },
  {
   "cell_type": "code",
   "execution_count": 247,
   "metadata": {},
   "outputs": [],
   "source": [
    "pipelines = {\n",
    "    'Logistic Regression': Pipeline([\n",
    "        ('preprocessor', preprocessor),\n",
    "        ('clf', LogisticRegression(random_state=42))\n",
    "    ]),\n",
    "    'Random Forest': Pipeline([\n",
    "        ('preprocessor', preprocessor),\n",
    "        ('clf', RandomForestClassifier(n_estimators=100, random_state=42))\n",
    "    ]),\n",
    "    'SVM': Pipeline([\n",
    "        ('preprocessor', preprocessor),\n",
    "        ('clf', SVC(kernel='rbf', random_state=42))\n",
    "    ]),\n",
    "    'Gradient Boosting': Pipeline([\n",
    "        ('preprocessor', preprocessor),\n",
    "        ('clf', GradientBoostingClassifier(n_estimators=100, random_state=42))\n",
    "    ]),\n",
    "    'Neural Network': Pipeline([\n",
    "        ('preprocessor', preprocessor),\n",
    "        ('clf', MLPClassifier(hidden_layer_sizes=(100, 50), max_iter=500, random_state=42))\n",
    "    ]),\n",
    "    'XGBoost': Pipeline([\n",
    "        ('preprocessor', preprocessor),\n",
    "        ('clf', XGBClassifier(n_estimators=100, random_state=42))\n",
    "    ])\n",
    "    # 'LightGBM': Pipeline([\n",
    "    #     ('preprocessor', preprocessor),\n",
    "    #     ('clf', LGBMClassifier(n_estimators=100, random_state=42))\n",
    "    # ])\n",
    "}"
   ]
  },
  {
   "cell_type": "markdown",
   "metadata": {},
   "source": [
    "### LSTM Modeling"
   ]
  },
  {
   "cell_type": "code",
   "execution_count": 248,
   "metadata": {},
   "outputs": [],
   "source": [
    "# Helper function: Define callbacks and save final model\n",
    "\n",
    "def predict(model, epochs, batch_size):\n",
    "    early_stop = [EarlyStopping(monitor='val_loss', patience=5),\n",
    "             ModelCheckpoint(filepath='best_model/cp.ckpt', monitor='val_loss',\n",
    "                             save_weights_only = True,\n",
    "                             save_best_only=True)]\n",
    "\n",
    "    history = model.fit(X_train_seq, y_train, \n",
    "                     batch_size=batch_size, epochs=epochs, verbose=1, \n",
    "                     validation_data=(X_val_seq, y_val),\n",
    "                     callbacks=early_stop,\n",
    "                       )\n",
    "        \n",
    "#     graph_model(history, 'loss')\n",
    "#     graph_model(history, 'accuracy')\n",
    "    \n",
    "    train_prediction = model.predict(X_train_seq, batch_size=batch_size)\n",
    "    val_prediction = model.predict(X_val_seq, batch_size=batch_size)\n",
    "    test_prediction = model.predict(X_test_seq, batch_size=batch_size)    \n",
    "    \n",
    "    return history, train_prediction, val_prediction, test_prediction,"
   ]
  },
  {
   "cell_type": "code",
   "execution_count": 254,
   "metadata": {},
   "outputs": [
    {
     "ename": "NameError",
     "evalue": "name 'vocab_size' is not defined",
     "output_type": "error",
     "traceback": [
      "\u001b[1;31m---------------------------------------------------------------------------\u001b[0m",
      "\u001b[1;31mNameError\u001b[0m                                 Traceback (most recent call last)",
      "Cell \u001b[1;32mIn[254], line 6\u001b[0m\n\u001b[0;32m      3\u001b[0m embed_dim\u001b[38;5;241m=\u001b[39m\u001b[38;5;241m128\u001b[39m\n\u001b[0;32m      5\u001b[0m model_lstm1 \u001b[38;5;241m=\u001b[39m Sequential()\n\u001b[1;32m----> 6\u001b[0m model_lstm1\u001b[38;5;241m.\u001b[39madd(layers\u001b[38;5;241m.\u001b[39mEmbedding(input_dim \u001b[38;5;241m=\u001b[39m \u001b[43mvocab_size\u001b[49m,\n\u001b[0;32m      7\u001b[0m                     output_dim \u001b[38;5;241m=\u001b[39m \u001b[38;5;241m100\u001b[39m,\n\u001b[0;32m      8\u001b[0m                     input_length \u001b[38;5;241m=\u001b[39m maxlen))\n\u001b[0;32m      9\u001b[0m model_lstm1\u001b[38;5;241m.\u001b[39madd(layers\u001b[38;5;241m.\u001b[39mLSTM(embed_dim, return_sequences\u001b[38;5;241m=\u001b[39m\u001b[38;5;28;01mTrue\u001b[39;00m))\n\u001b[0;32m     10\u001b[0m model_lstm1\u001b[38;5;241m.\u001b[39madd(layers\u001b[38;5;241m.\u001b[39mGlobalMaxPool1D())\n",
      "\u001b[1;31mNameError\u001b[0m: name 'vocab_size' is not defined"
     ]
    }
   ],
   "source": [
    "# Train a simple LSTM model\n",
    "\n",
    "embed_dim=128\n",
    "\n",
    "model_lstm1 = Sequential()\n",
    "model_lstm1.add(layers.Embedding(input_dim = vocab_size,\n",
    "                    output_dim = 100,\n",
    "                    input_length = maxlen))\n",
    "model_lstm1.add(layers.LSTM(embed_dim, return_sequences=True))\n",
    "model_lstm1.add(layers.GlobalMaxPool1D())\n",
    "model_lstm1.add(layers.Dropout(0.2))\n",
    "model_lstm1.add(layers.Dense(64, activation='relu'))\n",
    "model_lstm1.add(layers.Dense(3, activation='softmax'))\n",
    "          \n",
    "model_lstm1.compile(loss='categorical_crossentropy', optimizer='adam', metrics=['accuracy'])\n",
    "print(model_lstm1.summary())"
   ]
  },
  {
   "cell_type": "markdown",
   "metadata": {},
   "source": [
    "**TRAINING**"
   ]
  },
  {
   "cell_type": "code",
   "execution_count": 217,
   "metadata": {},
   "outputs": [],
   "source": [
    "# Function to train and evaluate models\n",
    "def train_and_evaluate(X, y, pipelines):\n",
    "    X_train, X_test, y_train, y_test = train_test_split(X, y, test_size=0.2, random_state=42)\n",
    "    results = {}\n",
    "\n",
    "    for name, pipeline in pipelines.items():\n",
    "        print(f\"\\nTraining {name}...\")\n",
    "        pipeline.fit(X_train, y_train)\n",
    "        \n",
    "        y_pred = pipeline.predict(X_test)\n",
    "        \n",
    "        accuracy = accuracy_score(y_test, y_pred)\n",
    "        report = classification_report(y_test, y_pred, target_names=le.classes_, output_dict=True)\n",
    "        cm = confusion_matrix(y_test, y_pred)\n",
    "        \n",
    "        results[name] = {\n",
    "            'accuracy': accuracy,\n",
    "            'report': report,\n",
    "            'confusion_matrix': cm\n",
    "        }\n",
    "        \n",
    "        print(f\"{name} Accuracy: {accuracy:.4f}\")\n",
    "\n",
    "    return results, X_test"
   ]
  },
  {
   "cell_type": "markdown",
   "metadata": {},
   "source": [
    "### Binary classification"
   ]
  },
  {
   "cell_type": "code",
   "execution_count": 218,
   "metadata": {},
   "outputs": [
    {
     "name": "stdout",
     "output_type": "stream",
     "text": [
      "Binary Classification (Positive vs Negative)\n",
      "\n",
      "Training Logistic Regression...\n"
     ]
    },
    {
     "name": "stderr",
     "output_type": "stream",
     "text": [
      "C:\\Users\\Augustine Wanyonyi\\AppData\\Local\\Temp\\ipykernel_16148\\3855777745.py:11: SettingWithCopyWarning: \n",
      "A value is trying to be set on a copy of a slice from a DataFrame.\n",
      "Try using .loc[row_indexer,col_indexer] = value instead\n",
      "\n",
      "See the caveats in the documentation: https://pandas.pydata.org/pandas-docs/stable/user_guide/indexing.html#returning-a-view-versus-a-copy\n",
      "  df['sentiment_encoded'] = le.fit_transform(df['sentiment'])\n"
     ]
    },
    {
     "name": "stdout",
     "output_type": "stream",
     "text": [
      "Logistic Regression Accuracy: 0.8658\n",
      "\n",
      "Training Random Forest...\n",
      "Random Forest Accuracy: 0.8927\n",
      "\n",
      "Training SVM...\n",
      "SVM Accuracy: 0.8729\n",
      "\n",
      "Training Gradient Boosting...\n",
      "Gradient Boosting Accuracy: 0.8672\n",
      "\n",
      "Training Neural Network...\n",
      "Neural Network Accuracy: 0.8912\n",
      "\n",
      "Training XGBoost...\n",
      "XGBoost Accuracy: 0.8701\n"
     ]
    }
   ],
   "source": [
    "# Train and evaluate binary classification models\n",
    "print(\"Binary Classification (Positive vs Negative)\")\n",
    "X, y, le = prepare_data(df, binary=True)\n",
    "binary_results, X_test_binary = train_and_evaluate(X, y, pipelines)"
   ]
  }
 ],
 "metadata": {
  "kernelspec": {
   "display_name": "learn-env",
   "language": "python",
   "name": "python3"
  },
  "language_info": {
   "codemirror_mode": {
    "name": "ipython",
    "version": 3
   },
   "file_extension": ".py",
   "mimetype": "text/x-python",
   "name": "python",
   "nbconvert_exporter": "python",
   "pygments_lexer": "ipython3",
   "version": "3.9.19"
  }
 },
 "nbformat": 4,
 "nbformat_minor": 2
}
