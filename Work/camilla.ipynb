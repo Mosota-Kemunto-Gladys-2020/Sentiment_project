{
 "cells": [
  {
   "cell_type": "markdown",
   "metadata": {},
   "source": [
    "# IMPORTING LIBRARIES"
   ]
  },
  {
   "cell_type": "code",
   "execution_count": 31,
   "metadata": {},
   "outputs": [],
   "source": [
    "# IMPORTING LIBRARIES\n",
    "import pandas as pd\n",
    "import numpy as np\n",
    "import seaborn as sns\n",
    "import matplotlib.pyplot as plt\n",
    "import re\n",
    "import nltk\n",
    "\n",
    "from collections import Counter\n",
    "from wordcloud import WordCloud\n",
    "from PIL import Image\n",
    "from xgboost import XGBClassifier\n",
    "from imblearn.over_sampling import SMOTE\n",
    "from sklearn.metrics import classification_report, confusion_matrix\n",
    "from sklearn.feature_extraction.text import TfidfVectorizer, CountVectorizer\n",
    "from sklearn.model_selection import train_test_split, GridSearchCV\n",
    "from sklearn.preprocessing import LabelEncoder\n",
    "from sklearn.ensemble import RandomForestClassifier\n",
    "from sklearn.linear_model import LogisticRegression\n",
    "from sklearn.pipeline import Pipeline\n",
    "import warnings\n",
    "\n",
    "warnings.filterwarnings('ignore')\n"
   ]
  },
  {
   "cell_type": "code",
   "execution_count": 32,
   "metadata": {},
   "outputs": [
    {
     "name": "stderr",
     "output_type": "stream",
     "text": [
      "[nltk_data] Downloading package wordnet to\n",
      "[nltk_data]     C:\\Users\\User\\AppData\\Roaming\\nltk_data...\n",
      "[nltk_data]   Package wordnet is already up-to-date!\n",
      "[nltk_data] Downloading package punkt to\n",
      "[nltk_data]     C:\\Users\\User\\AppData\\Roaming\\nltk_data...\n",
      "[nltk_data]   Package punkt is already up-to-date!\n"
     ]
    },
    {
     "data": {
      "text/plain": [
       "True"
      ]
     },
     "execution_count": 32,
     "metadata": {},
     "output_type": "execute_result"
    }
   ],
   "source": [
    "# Ensure NLTK resources are available\n",
    "nltk.download('wordnet')\n",
    "nltk.download('punkt')"
   ]
  },
  {
   "cell_type": "markdown",
   "metadata": {},
   "source": [
    "# LOADING THE DATASET"
   ]
  },
  {
   "cell_type": "code",
   "execution_count": 33,
   "metadata": {},
   "outputs": [
    {
     "data": {
      "text/html": [
       "<div>\n",
       "<style scoped>\n",
       "    .dataframe tbody tr th:only-of-type {\n",
       "        vertical-align: middle;\n",
       "    }\n",
       "\n",
       "    .dataframe tbody tr th {\n",
       "        vertical-align: top;\n",
       "    }\n",
       "\n",
       "    .dataframe thead th {\n",
       "        text-align: right;\n",
       "    }\n",
       "</style>\n",
       "<table border=\"1\" class=\"dataframe\">\n",
       "  <thead>\n",
       "    <tr style=\"text-align: right;\">\n",
       "      <th></th>\n",
       "      <th>tweet_text</th>\n",
       "      <th>emotion_in_tweet_is_directed_at</th>\n",
       "      <th>is_there_an_emotion_directed_at_a_brand_or_product</th>\n",
       "    </tr>\n",
       "  </thead>\n",
       "  <tbody>\n",
       "    <tr>\n",
       "      <th>0</th>\n",
       "      <td>.@wesley83 I have a 3G iPhone. After 3 hrs twe...</td>\n",
       "      <td>iPhone</td>\n",
       "      <td>Negative emotion</td>\n",
       "    </tr>\n",
       "    <tr>\n",
       "      <th>1</th>\n",
       "      <td>@jessedee Know about @fludapp ? Awesome iPad/i...</td>\n",
       "      <td>iPad or iPhone App</td>\n",
       "      <td>Positive emotion</td>\n",
       "    </tr>\n",
       "    <tr>\n",
       "      <th>2</th>\n",
       "      <td>@swonderlin Can not wait for #iPad 2 also. The...</td>\n",
       "      <td>iPad</td>\n",
       "      <td>Positive emotion</td>\n",
       "    </tr>\n",
       "    <tr>\n",
       "      <th>3</th>\n",
       "      <td>@sxsw I hope this year's festival isn't as cra...</td>\n",
       "      <td>iPad or iPhone App</td>\n",
       "      <td>Negative emotion</td>\n",
       "    </tr>\n",
       "    <tr>\n",
       "      <th>4</th>\n",
       "      <td>@sxtxstate great stuff on Fri #SXSW: Marissa M...</td>\n",
       "      <td>Google</td>\n",
       "      <td>Positive emotion</td>\n",
       "    </tr>\n",
       "  </tbody>\n",
       "</table>\n",
       "</div>"
      ],
      "text/plain": [
       "                                          tweet_text  \\\n",
       "0  .@wesley83 I have a 3G iPhone. After 3 hrs twe...   \n",
       "1  @jessedee Know about @fludapp ? Awesome iPad/i...   \n",
       "2  @swonderlin Can not wait for #iPad 2 also. The...   \n",
       "3  @sxsw I hope this year's festival isn't as cra...   \n",
       "4  @sxtxstate great stuff on Fri #SXSW: Marissa M...   \n",
       "\n",
       "  emotion_in_tweet_is_directed_at  \\\n",
       "0                          iPhone   \n",
       "1              iPad or iPhone App   \n",
       "2                            iPad   \n",
       "3              iPad or iPhone App   \n",
       "4                          Google   \n",
       "\n",
       "  is_there_an_emotion_directed_at_a_brand_or_product  \n",
       "0                                   Negative emotion  \n",
       "1                                   Positive emotion  \n",
       "2                                   Positive emotion  \n",
       "3                                   Negative emotion  \n",
       "4                                   Positive emotion  "
      ]
     },
     "execution_count": 33,
     "metadata": {},
     "output_type": "execute_result"
    }
   ],
   "source": [
    "# Loading the data \n",
    "data = pd.read_csv('C:/Users/User/Downloads/twitter_sentiment_analysis.csv', encoding='ISO-8859-1')\n",
    "data.head()\n"
   ]
  },
  {
   "cell_type": "code",
   "execution_count": 34,
   "metadata": {},
   "outputs": [
    {
     "data": {
      "text/html": [
       "<div>\n",
       "<style scoped>\n",
       "    .dataframe tbody tr th:only-of-type {\n",
       "        vertical-align: middle;\n",
       "    }\n",
       "\n",
       "    .dataframe tbody tr th {\n",
       "        vertical-align: top;\n",
       "    }\n",
       "\n",
       "    .dataframe thead th {\n",
       "        text-align: right;\n",
       "    }\n",
       "</style>\n",
       "<table border=\"1\" class=\"dataframe\">\n",
       "  <thead>\n",
       "    <tr style=\"text-align: right;\">\n",
       "      <th></th>\n",
       "      <th>Tweet</th>\n",
       "      <th>Brand</th>\n",
       "      <th>Emotion</th>\n",
       "    </tr>\n",
       "  </thead>\n",
       "  <tbody>\n",
       "    <tr>\n",
       "      <th>0</th>\n",
       "      <td>.@wesley83 I have a 3G iPhone. After 3 hrs twe...</td>\n",
       "      <td>iPhone</td>\n",
       "      <td>Negative emotion</td>\n",
       "    </tr>\n",
       "    <tr>\n",
       "      <th>1</th>\n",
       "      <td>@jessedee Know about @fludapp ? Awesome iPad/i...</td>\n",
       "      <td>iPad or iPhone App</td>\n",
       "      <td>Positive emotion</td>\n",
       "    </tr>\n",
       "    <tr>\n",
       "      <th>2</th>\n",
       "      <td>@swonderlin Can not wait for #iPad 2 also. The...</td>\n",
       "      <td>iPad</td>\n",
       "      <td>Positive emotion</td>\n",
       "    </tr>\n",
       "    <tr>\n",
       "      <th>3</th>\n",
       "      <td>@sxsw I hope this year's festival isn't as cra...</td>\n",
       "      <td>iPad or iPhone App</td>\n",
       "      <td>Negative emotion</td>\n",
       "    </tr>\n",
       "    <tr>\n",
       "      <th>4</th>\n",
       "      <td>@sxtxstate great stuff on Fri #SXSW: Marissa M...</td>\n",
       "      <td>Google</td>\n",
       "      <td>Positive emotion</td>\n",
       "    </tr>\n",
       "    <tr>\n",
       "      <th>...</th>\n",
       "      <td>...</td>\n",
       "      <td>...</td>\n",
       "      <td>...</td>\n",
       "    </tr>\n",
       "    <tr>\n",
       "      <th>9088</th>\n",
       "      <td>Ipad everywhere. #SXSW {link}</td>\n",
       "      <td>iPad</td>\n",
       "      <td>Positive emotion</td>\n",
       "    </tr>\n",
       "    <tr>\n",
       "      <th>9089</th>\n",
       "      <td>Wave, buzz... RT @mention We interrupt your re...</td>\n",
       "      <td>NaN</td>\n",
       "      <td>No emotion toward brand or product</td>\n",
       "    </tr>\n",
       "    <tr>\n",
       "      <th>9090</th>\n",
       "      <td>Google's Zeiger, a physician never reported po...</td>\n",
       "      <td>NaN</td>\n",
       "      <td>No emotion toward brand or product</td>\n",
       "    </tr>\n",
       "    <tr>\n",
       "      <th>9091</th>\n",
       "      <td>Some Verizon iPhone customers complained their...</td>\n",
       "      <td>NaN</td>\n",
       "      <td>No emotion toward brand or product</td>\n",
       "    </tr>\n",
       "    <tr>\n",
       "      <th>9092</th>\n",
       "      <td>Ï¡Ïàü_ÊÎÒ£Áââ_£â_ÛâRT @...</td>\n",
       "      <td>NaN</td>\n",
       "      <td>No emotion toward brand or product</td>\n",
       "    </tr>\n",
       "  </tbody>\n",
       "</table>\n",
       "<p>9093 rows × 3 columns</p>\n",
       "</div>"
      ],
      "text/plain": [
       "                                                  Tweet               Brand  \\\n",
       "0     .@wesley83 I have a 3G iPhone. After 3 hrs twe...              iPhone   \n",
       "1     @jessedee Know about @fludapp ? Awesome iPad/i...  iPad or iPhone App   \n",
       "2     @swonderlin Can not wait for #iPad 2 also. The...                iPad   \n",
       "3     @sxsw I hope this year's festival isn't as cra...  iPad or iPhone App   \n",
       "4     @sxtxstate great stuff on Fri #SXSW: Marissa M...              Google   \n",
       "...                                                 ...                 ...   \n",
       "9088                      Ipad everywhere. #SXSW {link}                iPad   \n",
       "9089  Wave, buzz... RT @mention We interrupt your re...                 NaN   \n",
       "9090  Google's Zeiger, a physician never reported po...                 NaN   \n",
       "9091  Some Verizon iPhone customers complained their...                 NaN   \n",
       "9092  Ï¡Ïàü_ÊÎÒ£Áââ_£â_ÛâRT @...                 NaN   \n",
       "\n",
       "                                 Emotion  \n",
       "0                       Negative emotion  \n",
       "1                       Positive emotion  \n",
       "2                       Positive emotion  \n",
       "3                       Negative emotion  \n",
       "4                       Positive emotion  \n",
       "...                                  ...  \n",
       "9088                    Positive emotion  \n",
       "9089  No emotion toward brand or product  \n",
       "9090  No emotion toward brand or product  \n",
       "9091  No emotion toward brand or product  \n",
       "9092  No emotion toward brand or product  \n",
       "\n",
       "[9093 rows x 3 columns]"
      ]
     },
     "execution_count": 34,
     "metadata": {},
     "output_type": "execute_result"
    }
   ],
   "source": [
    "# Rename columns for clarity\n",
    "data.columns = ['Tweet', 'Brand', 'Emotion']\n",
    "data"
   ]
  },
  {
   "cell_type": "markdown",
   "metadata": {},
   "source": [
    "# DATA EXPLORATION"
   ]
  },
  {
   "cell_type": "code",
   "execution_count": 35,
   "metadata": {},
   "outputs": [
    {
     "data": {
      "text/plain": [
       "(9093, 3)"
      ]
     },
     "execution_count": 35,
     "metadata": {},
     "output_type": "execute_result"
    }
   ],
   "source": [
    "data.shape\n"
   ]
  },
  {
   "cell_type": "code",
   "execution_count": 36,
   "metadata": {},
   "outputs": [
    {
     "data": {
      "text/plain": [
       "Index(['Tweet', 'Brand', 'Emotion'], dtype='object')"
      ]
     },
     "execution_count": 36,
     "metadata": {},
     "output_type": "execute_result"
    }
   ],
   "source": [
    "data.columns"
   ]
  },
  {
   "cell_type": "code",
   "execution_count": 37,
   "metadata": {},
   "outputs": [
    {
     "name": "stdout",
     "output_type": "stream",
     "text": [
      "<class 'pandas.core.frame.DataFrame'>\n",
      "RangeIndex: 9093 entries, 0 to 9092\n",
      "Data columns (total 3 columns):\n",
      " #   Column   Non-Null Count  Dtype \n",
      "---  ------   --------------  ----- \n",
      " 0   Tweet    9092 non-null   object\n",
      " 1   Brand    3291 non-null   object\n",
      " 2   Emotion  9093 non-null   object\n",
      "dtypes: object(3)\n",
      "memory usage: 213.2+ KB\n"
     ]
    }
   ],
   "source": [
    "data.info()\n"
   ]
  },
  {
   "cell_type": "code",
   "execution_count": 38,
   "metadata": {},
   "outputs": [
    {
     "data": {
      "text/plain": [
       "Tweet         1\n",
       "Brand      5802\n",
       "Emotion       0\n",
       "dtype: int64"
      ]
     },
     "execution_count": 38,
     "metadata": {},
     "output_type": "execute_result"
    }
   ],
   "source": [
    "data.isna().sum()\n"
   ]
  },
  {
   "cell_type": "code",
   "execution_count": 39,
   "metadata": {},
   "outputs": [
    {
     "name": "stdout",
     "output_type": "stream",
     "text": [
      "No emotion toward brand or product    5389\n",
      "Positive emotion                      2978\n",
      "Negative emotion                       570\n",
      "I can't tell                           156\n",
      "Name: Emotion, dtype: int64\n"
     ]
    }
   ],
   "source": [
    "# View sentiment distribution\n",
    "print(data['Emotion'].value_counts())\n"
   ]
  },
  {
   "cell_type": "code",
   "execution_count": 40,
   "metadata": {},
   "outputs": [
    {
     "name": "stderr",
     "output_type": "stream",
     "text": [
      "[nltk_data] Downloading package stopwords to\n",
      "[nltk_data]     C:\\Users\\User\\AppData\\Roaming\\nltk_data...\n",
      "[nltk_data]   Package stopwords is already up-to-date!\n"
     ]
    }
   ],
   "source": [
    "import nltk\n",
    "from nltk.corpus import stopwords\n",
    "\n",
    "# Initialize the lemmatizer and stemmer\n",
    "lemmatizer = nltk.WordNetLemmatizer()\n",
    "stemmer = nltk.PorterStemmer()\n",
    "\n",
    "def preprocess_text(text):\n",
    "    # Check if text is a string, if not, convert it to an empty string\n",
    "    if not isinstance(text, str):\n",
    "        return \"\"\n",
    "    \n",
    "    # Tokenize and remove stopwords\n",
    "    words = text.split()\n",
    "    stop_words = set(stopwords.words('english'))\n",
    "    \n",
    "    # Lemmatize and stem the words\n",
    "    words = [lemmatizer.lemmatize(w) for w in words if w.lower() not in stop_words]\n",
    "    words = [stemmer.stem(w) for w in words]\n",
    "    \n",
    "    # Return the processed text\n",
    "    return ' '.join(words)\n",
    "\n",
    "# Ensure stopwords are downloaded\n",
    "nltk.download('stopwords')\n",
    "\n",
    "# Apply the preprocess function to the 'Tweet' column\n",
    "data['processed_text'] = data['Tweet'].apply(preprocess_text)\n"
   ]
  },
  {
   "cell_type": "code",
   "execution_count": 41,
   "metadata": {},
   "outputs": [
    {
     "name": "stdout",
     "output_type": "stream",
     "text": [
      "[('@mention', 6703), ('{link}', 4255), ('#sxsw', 4013), ('the', 3887), ('#SXSW', 3643), ('to', 3496), ('RT', 2883), ('at', 2842), ('for', 2432), ('a', 2158)]\n"
     ]
    }
   ],
   "source": [
    "# Convert non-string values to empty strings in the 'tweet_text' column\n",
    "data['Tweet'] = data['Tweet'].fillna('')\n",
    "\n",
    "# Ensure all entries are strings\n",
    "data['Tweet'] = data['Tweet'].astype(str)\n",
    "\n",
    "# Tokenize the text and get word frequency\n",
    "words = ' '.join(data['Tweet']).split()\n",
    "word_freq = Counter(words)\n",
    "\n",
    "# Display the most common words\n",
    "print(word_freq.most_common(10))\n"
   ]
  },
  {
   "cell_type": "code",
   "execution_count": 42,
   "metadata": {},
   "outputs": [
    {
     "data": {
      "image/png": "[encoded data removed]",
      "text/plain": [
       "<Figure size 432x288 with 1 Axes>"
      ]
     },
     "metadata": {
      "needs_background": "light"
     },
     "output_type": "display_data"
    }
   ],
   "source": [
    "# plot sentiment distribution\n",
    "sns.countplot(data=data, x='Emotion', palette='Reds')\n",
    "plt.title('Sentiment Distribution')\n",
    "plt.xticks(rotation=45, ha='right')  \n",
    "plt.show()\n",
    "\n"
   ]
  },
  {
   "cell_type": "code",
   "execution_count": 43,
   "metadata": {},
   "outputs": [
    {
     "data": {
      "text/plain": [
       "22"
      ]
     },
     "execution_count": 43,
     "metadata": {},
     "output_type": "execute_result"
    }
   ],
   "source": [
    "data.duplicated().sum()\n"
   ]
  },
  {
   "cell_type": "code",
   "execution_count": 44,
   "metadata": {},
   "outputs": [
    {
     "data": {
      "text/html": [
       "<div>\n",
       "<style scoped>\n",
       "    .dataframe tbody tr th:only-of-type {\n",
       "        vertical-align: middle;\n",
       "    }\n",
       "\n",
       "    .dataframe tbody tr th {\n",
       "        vertical-align: top;\n",
       "    }\n",
       "\n",
       "    .dataframe thead th {\n",
       "        text-align: right;\n",
       "    }\n",
       "</style>\n",
       "<table border=\"1\" class=\"dataframe\">\n",
       "  <thead>\n",
       "    <tr style=\"text-align: right;\">\n",
       "      <th></th>\n",
       "      <th>Tweet</th>\n",
       "      <th>Brand</th>\n",
       "      <th>Emotion</th>\n",
       "      <th>processed_text</th>\n",
       "    </tr>\n",
       "  </thead>\n",
       "  <tbody>\n",
       "    <tr>\n",
       "      <th>468</th>\n",
       "      <td>Before It Even Begins, Apple Wins #SXSW {link}</td>\n",
       "      <td>Apple</td>\n",
       "      <td>Positive emotion</td>\n",
       "      <td>even begins, appl win #sxsw {link}</td>\n",
       "    </tr>\n",
       "    <tr>\n",
       "      <th>776</th>\n",
       "      <td>Google to Launch Major New Social Network Call...</td>\n",
       "      <td>NaN</td>\n",
       "      <td>No emotion toward brand or product</td>\n",
       "      <td>googl launch major new social network call cir...</td>\n",
       "    </tr>\n",
       "    <tr>\n",
       "      <th>2232</th>\n",
       "      <td>Marissa Mayer: Google Will Connect the Digital...</td>\n",
       "      <td>NaN</td>\n",
       "      <td>No emotion toward brand or product</td>\n",
       "      <td>marissa mayer: googl connect digit &amp;amp; physi...</td>\n",
       "    </tr>\n",
       "    <tr>\n",
       "      <th>2559</th>\n",
       "      <td>Counting down the days to #sxsw plus strong Ca...</td>\n",
       "      <td>Apple</td>\n",
       "      <td>Positive emotion</td>\n",
       "      <td>count day #sxsw plu strong canadian dollar mea...</td>\n",
       "    </tr>\n",
       "    <tr>\n",
       "      <th>3950</th>\n",
       "      <td>Really enjoying the changes in Gowalla 3.0 for...</td>\n",
       "      <td>Android App</td>\n",
       "      <td>Positive emotion</td>\n",
       "      <td>realli enjoy chang gowalla 3.0 android! look f...</td>\n",
       "    </tr>\n",
       "  </tbody>\n",
       "</table>\n",
       "</div>"
      ],
      "text/plain": [
       "                                                  Tweet        Brand  \\\n",
       "468      Before It Even Begins, Apple Wins #SXSW {link}        Apple   \n",
       "776   Google to Launch Major New Social Network Call...          NaN   \n",
       "2232  Marissa Mayer: Google Will Connect the Digital...          NaN   \n",
       "2559  Counting down the days to #sxsw plus strong Ca...        Apple   \n",
       "3950  Really enjoying the changes in Gowalla 3.0 for...  Android App   \n",
       "\n",
       "                                 Emotion  \\\n",
       "468                     Positive emotion   \n",
       "776   No emotion toward brand or product   \n",
       "2232  No emotion toward brand or product   \n",
       "2559                    Positive emotion   \n",
       "3950                    Positive emotion   \n",
       "\n",
       "                                         processed_text  \n",
       "468                  even begins, appl win #sxsw {link}  \n",
       "776   googl launch major new social network call cir...  \n",
       "2232  marissa mayer: googl connect digit &amp; physi...  \n",
       "2559  count day #sxsw plu strong canadian dollar mea...  \n",
       "3950  realli enjoy chang gowalla 3.0 android! look f...  "
      ]
     },
     "execution_count": 44,
     "metadata": {},
     "output_type": "execute_result"
    }
   ],
   "source": [
    "data[data.duplicated()].head()\n"
   ]
  },
  {
   "cell_type": "code",
   "execution_count": 45,
   "metadata": {},
   "outputs": [],
   "source": [
    "data = data.dropna(subset=['Tweet'])\n"
   ]
  },
  {
   "cell_type": "code",
   "execution_count": 46,
   "metadata": {},
   "outputs": [
    {
     "data": {
      "text/plain": [
       "Tweet             0\n",
       "Brand             0\n",
       "Emotion           0\n",
       "processed_text    0\n",
       "dtype: int64"
      ]
     },
     "execution_count": 46,
     "metadata": {},
     "output_type": "execute_result"
    }
   ],
   "source": [
    "\n",
    "data['Brand'].fillna(\"No Brand\", inplace = True)\n",
    "data.isna().sum()"
   ]
  },
  {
   "cell_type": "code",
   "execution_count": 47,
   "metadata": {},
   "outputs": [
    {
     "data": {
      "text/html": [
       "<div>\n",
       "<style scoped>\n",
       "    .dataframe tbody tr th:only-of-type {\n",
       "        vertical-align: middle;\n",
       "    }\n",
       "\n",
       "    .dataframe tbody tr th {\n",
       "        vertical-align: top;\n",
       "    }\n",
       "\n",
       "    .dataframe thead th {\n",
       "        text-align: right;\n",
       "    }\n",
       "</style>\n",
       "<table border=\"1\" class=\"dataframe\">\n",
       "  <thead>\n",
       "    <tr style=\"text-align: right;\">\n",
       "      <th></th>\n",
       "      <th>Tweet</th>\n",
       "      <th>Brand</th>\n",
       "      <th>Emotion</th>\n",
       "      <th>processed_text</th>\n",
       "    </tr>\n",
       "  </thead>\n",
       "  <tbody>\n",
       "    <tr>\n",
       "      <th>0</th>\n",
       "      <td>.@wesley83 I have a 3G iPhone. After 3 hrs twe...</td>\n",
       "      <td>iPhone</td>\n",
       "      <td>Negative</td>\n",
       "      <td>.@wesley83 3G iphone. 3 hr tweet #rise_austin,...</td>\n",
       "    </tr>\n",
       "    <tr>\n",
       "      <th>1</th>\n",
       "      <td>@jessedee Know about @fludapp ? Awesome iPad/i...</td>\n",
       "      <td>iPad or iPhone App</td>\n",
       "      <td>Positive</td>\n",
       "      <td>@jessede know @fludapp ? awesom ipad/iphon app...</td>\n",
       "    </tr>\n",
       "    <tr>\n",
       "      <th>2</th>\n",
       "      <td>@swonderlin Can not wait for #iPad 2 also. The...</td>\n",
       "      <td>iPad</td>\n",
       "      <td>Positive</td>\n",
       "      <td>@swonderlin wait #ipad 2 also. sale #sxsw.</td>\n",
       "    </tr>\n",
       "    <tr>\n",
       "      <th>3</th>\n",
       "      <td>@sxsw I hope this year's festival isn't as cra...</td>\n",
       "      <td>iPad or iPhone App</td>\n",
       "      <td>Negative</td>\n",
       "      <td>@sxsw hope year' festiv crashi year' iphon app...</td>\n",
       "    </tr>\n",
       "    <tr>\n",
       "      <th>4</th>\n",
       "      <td>@sxtxstate great stuff on Fri #SXSW: Marissa M...</td>\n",
       "      <td>Google</td>\n",
       "      <td>Positive</td>\n",
       "      <td>@sxtxstate great stuff fri #sxsw: marissa maye...</td>\n",
       "    </tr>\n",
       "  </tbody>\n",
       "</table>\n",
       "</div>"
      ],
      "text/plain": [
       "                                               Tweet               Brand  \\\n",
       "0  .@wesley83 I have a 3G iPhone. After 3 hrs twe...              iPhone   \n",
       "1  @jessedee Know about @fludapp ? Awesome iPad/i...  iPad or iPhone App   \n",
       "2  @swonderlin Can not wait for #iPad 2 also. The...                iPad   \n",
       "3  @sxsw I hope this year's festival isn't as cra...  iPad or iPhone App   \n",
       "4  @sxtxstate great stuff on Fri #SXSW: Marissa M...              Google   \n",
       "\n",
       "    Emotion                                     processed_text  \n",
       "0  Negative  .@wesley83 3G iphone. 3 hr tweet #rise_austin,...  \n",
       "1  Positive  @jessede know @fludapp ? awesom ipad/iphon app...  \n",
       "2  Positive         @swonderlin wait #ipad 2 also. sale #sxsw.  \n",
       "3  Negative  @sxsw hope year' festiv crashi year' iphon app...  \n",
       "4  Positive  @sxtxstate great stuff fri #sxsw: marissa maye...  "
      ]
     },
     "execution_count": 47,
     "metadata": {},
     "output_type": "execute_result"
    }
   ],
   "source": [
    "emotion = {'Positive emotion': 'Positive', 'Negative emotion': 'Negative', \n",
    "                'No emotion toward brand or product': 'Neutral', \n",
    "                \"I can't tell\": 'Unknown'}\n",
    "data['Emotion'] = data['Emotion'].map(emotion)\n",
    "data.head()"
   ]
  },
  {
   "cell_type": "code",
   "execution_count": 48,
   "metadata": {},
   "outputs": [
    {
     "data": {
      "text/plain": [
       "Neutral     5389\n",
       "Positive    2978\n",
       "Negative     570\n",
       "Unknown      156\n",
       "Name: Emotion, dtype: int64"
      ]
     },
     "execution_count": 48,
     "metadata": {},
     "output_type": "execute_result"
    }
   ],
   "source": [
    "data['Emotion'].value_counts()\n"
   ]
  },
  {
   "cell_type": "code",
   "execution_count": 49,
   "metadata": {},
   "outputs": [
    {
     "data": {
      "text/plain": [
       "Neutral     5389\n",
       "Positive    2978\n",
       "Negative     570\n",
       "Name: Emotion, dtype: int64"
      ]
     },
     "execution_count": 49,
     "metadata": {},
     "output_type": "execute_result"
    }
   ],
   "source": [
    "# Dropping the \"Unknown\" sentiment\n",
    "data = data[data['Emotion']!='Unknown']\n",
    "data['Emotion'].value_counts()"
   ]
  },
  {
   "cell_type": "markdown",
   "metadata": {},
   "source": [
    "# PREPROCESSING"
   ]
  },
  {
   "cell_type": "code",
   "execution_count": 50,
   "metadata": {},
   "outputs": [],
   "source": [
    "# Clean tweet text\n",
    "def clean_text(text):\n",
    "    text = re.sub(r'http\\S+|www\\S+', '', text)  # Remove URLs\n",
    "    text = re.sub(r'\\@\\w+|\\#', '', text)        # Remove mentions and hashtags\n",
    "    text = re.sub(r'[^A-Za-z\\s]', '', text)     # Remove special characters\n",
    "    return text.lower().strip()\n",
    "\n",
    "data['Tweet'] = data['Tweet'].fillna('').apply(clean_text)"
   ]
  },
  {
   "cell_type": "code",
   "execution_count": 51,
   "metadata": {},
   "outputs": [],
   "source": [
    "\n",
    "lemmatizer = nltk.WordNetLemmatizer()\n",
    "stemmer = nltk.PorterStemmer()\n",
    "\n",
    "def preprocess_text(text):\n",
    "    words = text.split()\n",
    "    stop_words = set(nltk.corpus.stopwords.words('english'))\n",
    "    words = [lemmatizer.lemmatize(w) for w in words if w not in stop_words]\n",
    "    words = [stemmer.stem(w) for w in words]\n",
    "    return ' '.join(words)\n",
    "\n",
    "data['processed_text'] = data['Tweet'].apply(preprocess_text)"
   ]
  },
  {
   "cell_type": "code",
   "execution_count": 52,
   "metadata": {},
   "outputs": [],
   "source": [
    "data['Tweet'] = data['Tweet'].fillna('')\n"
   ]
  },
  {
   "cell_type": "code",
   "execution_count": 53,
   "metadata": {},
   "outputs": [],
   "source": [
    "data['Tweet'] = data['Tweet'].apply(clean_text)\n"
   ]
  },
  {
   "cell_type": "code",
   "execution_count": 54,
   "metadata": {},
   "outputs": [
    {
     "name": "stdout",
     "output_type": "stream",
     "text": [
      "                                               Tweet               Brand  \\\n",
      "0  i have a g iphone after  hrs tweeting at risea...              iPhone   \n",
      "1  know about   awesome ipadiphone app that youll...  iPad or iPhone App   \n",
      "2  can not wait for ipad  also they should sale t...                iPad   \n",
      "3  i hope this years festival isnt as crashy as t...  iPad or iPhone App   \n",
      "4  great stuff on fri sxsw marissa mayer google t...              Google   \n",
      "\n",
      "    Emotion                                     processed_text  \n",
      "0  Negative  g iphon hr tweet riseaustin dead need upgrad p...  \n",
      "1  Positive  know awesom ipadiphon app youll like appreci d...  \n",
      "2  Positive                           wait ipad also sale sxsw  \n",
      "3  Negative   hope year festiv isnt crashi year iphon app sxsw  \n",
      "4  Positive  great stuff fri sxsw marissa mayer googl tim o...  \n",
      "Neutral     5389\n",
      "Positive    2978\n",
      "Negative     570\n",
      "Name: Emotion, dtype: int64\n"
     ]
    }
   ],
   "source": [
    "print(data.head())\n",
    "print(data['Emotion'].value_counts())\n"
   ]
  },
  {
   "cell_type": "code",
   "execution_count": 55,
   "metadata": {},
   "outputs": [
    {
     "name": "stderr",
     "output_type": "stream",
     "text": [
      "[nltk_data] Downloading package wordnet to\n",
      "[nltk_data]     C:\\Users\\User\\AppData\\Roaming\\nltk_data...\n",
      "[nltk_data]   Package wordnet is already up-to-date!\n",
      "[nltk_data] Downloading package omw-1.4 to\n",
      "[nltk_data]     C:\\Users\\User\\AppData\\Roaming\\nltk_data...\n",
      "[nltk_data]   Package omw-1.4 is already up-to-date!\n",
      "[nltk_data] Downloading package punkt to\n",
      "[nltk_data]     C:\\Users\\User\\AppData\\Roaming\\nltk_data...\n",
      "[nltk_data]   Package punkt is already up-to-date!\n"
     ]
    },
    {
     "name": "stdout",
     "output_type": "stream",
     "text": [
      "                                               Tweet  \\\n",
      "0  i have a g iphone after  hrs tweeting at risea...   \n",
      "1  know about   awesome ipadiphone app that youll...   \n",
      "2  can not wait for ipad  also they should sale t...   \n",
      "3  i hope this years festival isnt as crashy as t...   \n",
      "4  great stuff on fri sxsw marissa mayer google t...   \n",
      "\n",
      "                                      processed_text  \n",
      "0  g iphon hr tweet riseaustin dead need upgrad p...  \n",
      "1  know awesom ipadiphon app youll like appreci d...  \n",
      "2                           wait ipad also sale sxsw  \n",
      "3   hope year festiv isnt crashi year iphon app sxsw  \n",
      "4  great stuff fri sxsw marissa mayer googl tim o...  \n"
     ]
    }
   ],
   "source": [
    "# Preprocess text (lemmatization & stemming)\n",
    "# Download required NLTK resources\n",
    "nltk.download('wordnet')\n",
    "nltk.download('omw-1.4')  # Optional for multilingual support\n",
    "nltk.download('punkt')     # Optional for tokenization\n",
    "\n",
    "from nltk.stem import WordNetLemmatizer, PorterStemmer\n",
    "\n",
    "# Initialize the lemmatizer and stemmer\n",
    "lemmatizer = WordNetLemmatizer()\n",
    "stemmer = PorterStemmer()\n",
    "\n",
    "# Your preprocessing function goes here\n",
    "\n",
    "# Initialize the lemmatizer and stemmer\n",
    "lemmatizer = WordNetLemmatizer()\n",
    "stemmer = PorterStemmer()\n",
    "\n",
    "# Function for preprocessing\n",
    "def preprocess_text(text):\n",
    "    # Remove special characters and convert to lowercase\n",
    "    text = re.sub(r'[^A-Za-z\\s]', '', text)\n",
    "    text = text.lower()\n",
    "    \n",
    "    # Tokenize the text\n",
    "    words = text.split()\n",
    "    \n",
    "    # Remove stopwords\n",
    "    stop_words = set(stopwords.words('english'))\n",
    "    filtered_words = [word for word in words if word not in stop_words]\n",
    "    \n",
    "    # Lemmatization\n",
    "    lemmatized_words = [lemmatizer.lemmatize(word) for word in filtered_words]\n",
    "    \n",
    "    # Stemming\n",
    "    stemmed_words = [stemmer.stem(word) for word in lemmatized_words]\n",
    "    \n",
    "    return ' '.join(stemmed_words)\n",
    "\n",
    "# Apply preprocessing to the 'Tweet' column\n",
    "data['processed_text'] = data['Tweet'].apply(preprocess_text)\n",
    "\n",
    "# Display the processed text\n",
    "print(data[['Tweet', 'processed_text']].head())\n"
   ]
  },
  {
   "cell_type": "markdown",
   "metadata": {},
   "source": [
    "# FEATURE ENGINEERING"
   ]
  },
  {
   "cell_type": "code",
   "execution_count": 47,
   "metadata": {},
   "outputs": [
    {
     "name": "stdout",
     "output_type": "stream",
     "text": [
      "Feature shape: (8937, 5000)\n",
      "Labels shape: (8937,)\n",
      "['aapl' 'aaron' 'ab' 'abacu' 'abba' 'abc' 'abil' 'abl' 'abnorm' 'absolut']\n"
     ]
    }
   ],
   "source": [
    "from sklearn.feature_extraction.text import TfidfVectorizer\n",
    "from sklearn.preprocessing import LabelEncoder\n",
    "\n",
    "# Step 1: Convert processed text to TF-IDF features\n",
    "tfidf_vectorizer = TfidfVectorizer(max_features=5000)  # You can adjust max_features as needed\n",
    "X = tfidf_vectorizer.fit_transform(data['processed_text']).toarray()\n",
    "\n",
    "# Step 2: Encode sentiment labels\n",
    "label_encoder = LabelEncoder()\n",
    "y = label_encoder.fit_transform(data['Emotion'])\n",
    "\n",
    "# Display the shapes of the feature and label arrays\n",
    "print(f\"Feature shape: {X.shape}\")\n",
    "print(f\"Labels shape: {y.shape}\")\n",
    "\n",
    "# Optionally, display the first few feature names\n",
    "print(tfidf_vectorizer.get_feature_names_out()[:10])  # Display the first 10 feature names\n"
   ]
  },
  {
   "cell_type": "code",
   "execution_count": 48,
   "metadata": {},
   "outputs": [
    {
     "data": {
      "image/png": "[encoded data removed]",
      "text/plain": [
       "<Figure size 720x432 with 1 Axes>"
      ]
     },
     "metadata": {
      "needs_background": "light"
     },
     "output_type": "display_data"
    }
   ],
   "source": [
    "df = pd.DataFrame(data)\n",
    "\n",
    "# Step 2: Extract Bi-Grams\n",
    "vectorizer = CountVectorizer(ngram_range=(2, 2))  # Change to (3, 3) for tri-grams\n",
    "X_ngrams = vectorizer.fit_transform(df['processed_text'])\n",
    "\n",
    "# Step 3: Count the n-grams and sort them\n",
    "ngram_counts = X_ngrams.sum(axis=0).A1\n",
    "ngrams = vectorizer.get_feature_names_out()\n",
    "top_ngrams = pd.DataFrame(ngram_counts, index=ngrams, columns=['Count']).sort_values(by='Count', ascending=False).head(10)\n",
    "\n",
    "# Step 4: Create the Bar Plot\n",
    "plt.figure(figsize=(10, 6))\n",
    "sns.barplot(x=top_ngrams['Count'], y=top_ngrams.index, palette='Reds')\n",
    "plt.title('Top Bi-Grams in Tweets', fontsize=16)\n",
    "plt.xlabel('Count', fontsize=14)\n",
    "plt.ylabel('Bi-Gram', fontsize=14)\n",
    "plt.xticks(fontsize=12)\n",
    "plt.yticks(fontsize=12)\n",
    "plt.show()\n"
   ]
  },
  {
   "cell_type": "code",
   "execution_count": 49,
   "metadata": {},
   "outputs": [
    {
     "name": "stdout",
     "output_type": "stream",
     "text": [
      "Confusion Matrix:\n",
      "[[ 10  81  23]\n",
      " [  1 947 130]\n",
      " [  0 314 282]]\n",
      "\n",
      "Classification Report:\n",
      "              precision    recall  f1-score   support\n",
      "\n",
      "    Negative       0.91      0.09      0.16       114\n",
      "     Neutral       0.71      0.88      0.78      1078\n",
      "    Positive       0.65      0.47      0.55       596\n",
      "\n",
      "    accuracy                           0.69      1788\n",
      "   macro avg       0.75      0.48      0.50      1788\n",
      "weighted avg       0.70      0.69      0.66      1788\n",
      "\n"
     ]
    }
   ],
   "source": [
    "from sklearn.model_selection import train_test_split\n",
    "from sklearn.linear_model import LogisticRegression\n",
    "from sklearn.metrics import classification_report, confusion_matrix\n",
    "\n",
    "\n",
    "# Step 1: Split the data into training and testing sets (80/20 split)\n",
    "X_train, X_test, y_train, y_test = train_test_split(X, y, test_size=0.2, random_state=42, stratify=y)\n",
    "\n",
    "# Step 2: Train a Logistic Regression model\n",
    "model = LogisticRegression(max_iter=1000)\n",
    "model.fit(X_train, y_train)\n",
    "\n",
    "# Step 3: Make predictions on the test set\n",
    "y_pred = model.predict(X_test)\n",
    "\n",
    "# Step 4: Evaluate the model\n",
    "print(\"Confusion Matrix:\")\n",
    "print(confusion_matrix(y_test, y_pred))\n",
    "\n",
    "print(\"\\nClassification Report:\")\n",
    "print(classification_report(y_test, y_pred, target_names=label_encoder.classes_))"
   ]
  },
  {
   "cell_type": "code",
   "execution_count": 50,
   "metadata": {},
   "outputs": [
    {
     "name": "stdout",
     "output_type": "stream",
     "text": [
      "Fitting 2 folds for each of 1 candidates, totalling 2 fits\n"
     ]
    },
    {
     "data": {
      "text/plain": [
       "GridSearchCV(cv=2, estimator=RandomForestClassifier(random_state=42), n_jobs=-1,\n",
       "             param_grid={'max_depth': [None], 'max_features': ['sqrt'],\n",
       "                         'min_samples_leaf': [1], 'min_samples_split': [2],\n",
       "                         'n_estimators': [100]},\n",
       "             scoring='f1_weighted', verbose=2)"
      ]
     },
     "execution_count": 50,
     "metadata": {},
     "output_type": "execute_result"
    }
   ],
   "source": [
    "# Sample a smaller dataset for testing\n",
    "data_sample = data.sample(frac=0.1, random_state=42)  # Use 10% of the data\n",
    "X = tfidf_vectorizer.fit_transform(data_sample['processed_text']).toarray()\n",
    "y = label_encoder.fit_transform(data_sample['Emotion'])\n",
    "\n",
    "# Class Balancing using SMOTE\n",
    "smote = SMOTE(random_state=42)\n",
    "X_resampled, y_resampled = smote.fit_resample(X, y)\n",
    "\n",
    "# Split the resampled data into training and testing sets\n",
    "X_train, X_test, y_train, y_test = train_test_split(X_resampled, y_resampled, test_size=0.2, random_state=42, stratify=y_resampled)\n",
    "\n",
    "# Random Forest model\n",
    "rf_model = RandomForestClassifier(random_state=42)\n",
    "\n",
    "# Smaller hyperparameter grid\n",
    "param_grid = {\n",
    "    'n_estimators': [100],\n",
    "    'max_features': ['sqrt'],\n",
    "    'max_depth': [None],\n",
    "    'min_samples_split': [2],\n",
    "    'min_samples_leaf': [1]\n",
    "}\n",
    "\n",
    "grid_search = GridSearchCV(estimator=rf_model, param_grid=param_grid, cv=2, scoring='f1_weighted', n_jobs=-1, verbose=2)\n",
    "grid_search.fit(X_train, y_train)\n",
    "\n",
    "# Best parameters and evaluation...\n"
   ]
  },
  {
   "cell_type": "code",
   "execution_count": 51,
   "metadata": {},
   "outputs": [
    {
     "name": "stdout",
     "output_type": "stream",
     "text": [
      "Best parameters found:  {'max_depth': None, 'max_features': 'sqrt', 'min_samples_leaf': 1, 'min_samples_split': 2, 'n_estimators': 100}\n",
      "Confusion Matrix:\n",
      "[[98  7  3]\n",
      " [ 0 96 13]\n",
      " [ 0 37 72]]\n",
      "\n",
      "Classification Report:\n",
      "              precision    recall  f1-score   support\n",
      "\n",
      "    Negative       1.00      0.91      0.95       108\n",
      "     Neutral       0.69      0.88      0.77       109\n",
      "    Positive       0.82      0.66      0.73       109\n",
      "\n",
      "    accuracy                           0.82       326\n",
      "   macro avg       0.83      0.82      0.82       326\n",
      "weighted avg       0.83      0.82      0.82       326\n",
      "\n"
     ]
    }
   ],
   "source": [
    "# Best parameters found\n",
    "print(\"Best parameters found: \", grid_search.best_params_)\n",
    "\n",
    "# Get the best model from grid search\n",
    "best_rf_model = grid_search.best_estimator_\n",
    "\n",
    "# Predict on the test set\n",
    "y_pred = best_rf_model.predict(X_test)\n",
    "\n",
    "# Confusion Matrix\n",
    "print(\"Confusion Matrix:\")\n",
    "print(confusion_matrix(y_test, y_pred))\n",
    "\n",
    "# Classification Report\n",
    "print(\"\\nClassification Report:\")\n",
    "print(classification_report(y_test, y_pred, target_names=label_encoder.classes_))\n"
   ]
  },
  {
   "cell_type": "code",
   "execution_count": 52,
   "metadata": {},
   "outputs": [
    {
     "name": "stdout",
     "output_type": "stream",
     "text": [
      "                                        processed_text True Emotion  \\\n",
      "23             photo instal sxsw iphon app realli nice     Positive   \n",
      "27   someon start austin group googl group presxsw ...      Neutral   \n",
      "32   attn sxsw frine regist gdgtlive see cobra irad...      Neutral   \n",
      "37   spin play new concept music discoveri ipad amp...     Positive   \n",
      "38   fals alarm googl circl come nowand probabl eve...      Neutral   \n",
      "46   handheld hobo drafthous launch hobo shotgun ip...      Neutral   \n",
      "48   orli googl set launch new social network circl...     Positive   \n",
      "49   wooooo appl store downtown austin open til mid...     Positive   \n",
      "55   talk link googl effort allow user open system ...     Positive   \n",
      "57   link rt st stop sxsw chao amp hunt austin java...      Neutral   \n",
      "63   smile rt think appl quotpopup storequot austin...     Negative   \n",
      "65   agre rt wait fiona appl town somebodi kidnap p...     Positive   \n",
      "71   chilcott sxsw stand talk blogger staff late wi...     Positive   \n",
      "73   gowalla promis launch foursquar checkin groupo...     Positive   \n",
      "83   nice rt hey appl fan get peek space that slate...      Neutral   \n",
      "87                        thank awesom sxsw parti link      Neutral   \n",
      "99   gsdampm amp googl industri parti tonight see u...     Positive   \n",
      "104  quotgoogl launch checkin month agoquot check i...     Negative   \n",
      "111  kawasaki quotpagemak save applequot oh day sxs...     Negative   \n",
      "119  temporari appl store th congress sxsw along ha...     Negative   \n",
      "126  appl ipad taken sxsw austin storm link excit p...     Positive   \n",
      "127                        haz ipad ifrom sxsw gr link     Positive   \n",
      "129  googl mobil futur elus power link via eurorscg...     Positive   \n",
      "134  samsung soni follow appl hp lead link austin a...     Negative   \n",
      "151  offer sxsw ipad promo ninjafind user fan sxsw ...     Positive   \n",
      "158               free sxsw mp download time itun link     Positive   \n",
      "160  sxsw prompt memori go googl map describ childh...     Negative   \n",
      "163  left sxsw tradeshow demo googl theatr ok get s...     Positive   \n",
      "171  readi sxsw iphon app make ur blog easier link ...      Neutral   \n",
      "174                    went sxswi lousi ipad sxsw link     Positive   \n",
      "176  attend sxswi work iphon ipad game develop look...      Neutral   \n",
      "178  gsdampm googl rt what best parti hit tonight sxsw     Negative   \n",
      "181  sxsw day marissa mayer googl connect digit amp...     Positive   \n",
      "182  behind email give line iphon compos repli sxsw...      Neutral   \n",
      "196  new post iphon app well use south southwest in...     Positive   \n",
      "197  new post iphon app well use south southwest in...     Positive   \n",
      "199    million mile per day drive googl map navig sxsw     Positive   \n",
      "202  wonder sqwill attempt block gowalla crosscheck...     Positive   \n",
      "207  weve got busi week ahead new book googl app av...     Positive   \n",
      "219  hobo shotgun video game come ipadiphon user ye...     Negative   \n",
      "220  build store le hour one biggest launch compani...     Negative   \n",
      "224  wonder circl gt googl reveal new social networ...     Positive   \n",
      "225              googl search local marissa mayer sxsw      Neutral   \n",
      "236             meant also wish sxsw dyac stupid iphon     Positive   \n",
      "241                appl secur guy lock store sxsw link     Positive   \n",
      "243                              got ipad sxsw link cc      Neutral   \n",
      "251                   market sale geniu link appl sxsw     Positive   \n",
      "255  backupifi announc cloudsight search first sear...     Positive   \n",
      "258                       u see anyth googl circl sxsw     Positive   \n",
      "262  sxsw app iphon live rsvp event phone amp check...      Neutral   \n",
      "265  sxsw appl quotpopupquot store nut still pack link     Positive   \n",
      "269  love appl didnt let someth like retail store n...     Positive   \n",
      "283                sxsw appl school market expert link     Positive   \n",
      "293  special appl store open th congress sxsw amp i...     Positive   \n",
      "294  makeshift appl store th congress your kid amaz...     Positive   \n",
      "296  temporari appl store sxsw realli coola ipad ap...     Positive   \n",
      "303                           base camp appl sxsw link     Negative   \n",
      "311  tweet stall data sluggish come atampt verizon ...     Positive   \n",
      "323  overheard sxsw quotth ipad relax computerquot ...     Positive   \n",
      "326  sxsw quotappl come cool technolog one ever hea...     Positive   \n",
      "\n",
      "    Predicted Emotion  \n",
      "23            Neutral  \n",
      "27           Positive  \n",
      "32           Positive  \n",
      "37            Neutral  \n",
      "38           Positive  \n",
      "46           Positive  \n",
      "48            Neutral  \n",
      "49            Neutral  \n",
      "55            Neutral  \n",
      "57           Positive  \n",
      "63           Positive  \n",
      "65            Neutral  \n",
      "71            Neutral  \n",
      "73            Neutral  \n",
      "83           Positive  \n",
      "87           Positive  \n",
      "99            Neutral  \n",
      "104           Neutral  \n",
      "111          Positive  \n",
      "119           Neutral  \n",
      "126           Neutral  \n",
      "127           Neutral  \n",
      "129           Neutral  \n",
      "134           Neutral  \n",
      "151           Neutral  \n",
      "158           Neutral  \n",
      "160           Neutral  \n",
      "163           Neutral  \n",
      "171          Positive  \n",
      "174           Neutral  \n",
      "176          Positive  \n",
      "178           Neutral  \n",
      "181           Neutral  \n",
      "182          Positive  \n",
      "196           Neutral  \n",
      "197           Neutral  \n",
      "199           Neutral  \n",
      "202           Neutral  \n",
      "207           Neutral  \n",
      "219          Positive  \n",
      "220           Neutral  \n",
      "224           Neutral  \n",
      "225          Positive  \n",
      "236           Neutral  \n",
      "241           Neutral  \n",
      "243          Positive  \n",
      "251           Neutral  \n",
      "255           Neutral  \n",
      "258           Neutral  \n",
      "262          Positive  \n",
      "265           Neutral  \n",
      "269           Neutral  \n",
      "283           Neutral  \n",
      "293           Neutral  \n",
      "294           Neutral  \n",
      "296           Neutral  \n",
      "303           Neutral  \n",
      "311           Neutral  \n",
      "323           Neutral  \n",
      "326           Neutral  \n"
     ]
    }
   ],
   "source": [
    "# handling misclassification\n",
    "misclassified_indices = np.where(y_test != y_pred)[0]\n",
    "misclassified = data.iloc[misclassified_indices]  # Use the original data to get full details\n",
    "misclassified['Predicted Emotion'] = label_encoder.inverse_transform(y_pred[misclassified_indices])  # Add predicted emotion\n",
    "misclassified['True Emotion'] = label_encoder.inverse_transform(y_test[misclassified_indices])  # Add true emotion\n",
    "\n",
    "# Display the misclassified examples\n",
    "print(misclassified[['processed_text', 'True Emotion', 'Predicted Emotion']])\n"
   ]
  },
  {
   "cell_type": "code",
   "execution_count": 53,
   "metadata": {},
   "outputs": [],
   "source": [
    "from sklearn.feature_extraction.text import CountVectorizer\n",
    "\n",
    "# Example of n-grams\n",
    "ngram_vectorizer = CountVectorizer(ngram_range=(1, 2), max_features=5000)\n",
    "X_ngrams = ngram_vectorizer.fit_transform(data_sample['processed_text']).toarray()\n"
   ]
  },
  {
   "cell_type": "markdown",
   "metadata": {},
   "source": [
    "# MODEL BUILDING"
   ]
  },
  {
   "cell_type": "code",
   "execution_count": 54,
   "metadata": {},
   "outputs": [
    {
     "name": "stdout",
     "output_type": "stream",
     "text": [
      "[17:31:01] WARNING: C:\\Users\\Administrator\\workspace\\xgboost-win64_release_1.2.0\\src\\learner.cc:516: \n",
      "Parameters: { use_label_encoder } might not be used.\n",
      "\n",
      "  This may not be accurate due to some parameters are only used in language bindings but\n",
      "  passed down to XGBoost core.  Or some parameters are not used but slip through this\n",
      "  verification. Please open an issue if you find above cases.\n",
      "\n",
      "\n"
     ]
    }
   ],
   "source": [
    "from xgboost import XGBClassifier\n",
    "\n",
    "# Sample XGBoost implementation\n",
    "xgb_model = XGBClassifier(use_label_encoder=False, eval_metric='mlogloss')\n",
    "xgb_model.fit(X_train, y_train)\n",
    "y_pred_xgb = xgb_model.predict(X_test)\n"
   ]
  },
  {
   "cell_type": "code",
   "execution_count": 55,
   "metadata": {},
   "outputs": [
    {
     "data": {
      "image/png": "[encoded data removed]",
      "text/plain": [
       "<Figure size 576x432 with 1 Axes>"
      ]
     },
     "metadata": {
      "needs_background": "light"
     },
     "output_type": "display_data"
    }
   ],
   "source": [
    "from sklearn.metrics import confusion_matrix\n",
    "import seaborn as sns\n",
    "\n",
    "cm = confusion_matrix(y_test, y_pred)\n",
    "\n",
    "plt.figure(figsize=(8, 6))\n",
    "sns.heatmap(cm, annot=True, fmt='d', cmap='Reds', cbar=False)\n",
    "plt.title('Confusion Matrix', fontsize=16)\n",
    "plt.xlabel('Predicted', fontsize=14)\n",
    "plt.ylabel('Actual', fontsize=14)\n",
    "plt.xticks(fontsize=12)\n",
    "plt.yticks(fontsize=12)\n",
    "plt.show()\n"
   ]
  },
  {
   "cell_type": "code",
   "execution_count": 56,
   "metadata": {},
   "outputs": [
    {
     "name": "stdout",
     "output_type": "stream",
     "text": [
      "Fitting 3 folds for each of 100 candidates, totalling 300 fits\n"
     ]
    },
    {
     "data": {
      "text/plain": [
       "RandomizedSearchCV(cv=3, estimator=RandomForestClassifier(random_state=42),\n",
       "                   n_iter=100, n_jobs=-1,\n",
       "                   param_distributions={'max_depth': [None, 10, 20, 30],\n",
       "                                        'min_samples_leaf': [1, 2, 4],\n",
       "                                        'min_samples_split': [2, 5, 10],\n",
       "                                        'n_estimators': [50, 100, 200]},\n",
       "                   scoring='f1_weighted', verbose=2)"
      ]
     },
     "execution_count": 56,
     "metadata": {},
     "output_type": "execute_result"
    }
   ],
   "source": [
    "from sklearn.model_selection import RandomizedSearchCV\n",
    "\n",
    "param_distributions = {\n",
    "    'n_estimators': [50, 100, 200],\n",
    "    'max_depth': [None, 10, 20, 30],\n",
    "    'min_samples_split': [2, 5, 10],\n",
    "    'min_samples_leaf': [1, 2, 4],\n",
    "}\n",
    "\n",
    "random_search = RandomizedSearchCV(estimator=rf_model, param_distributions=param_distributions, n_iter=100, cv=3, scoring='f1_weighted', n_jobs=-1, verbose=2)\n",
    "random_search.fit(X_train, y_train)\n"
   ]
  },
  {
   "cell_type": "code",
   "execution_count": 59,
   "metadata": {},
   "outputs": [
    {
     "data": {
      "image/png": "[encoded data removed]",
      "text/plain": [
       "<Figure size 576x432 with 1 Axes>"
      ]
     },
     "metadata": {
      "needs_background": "light"
     },
     "output_type": "display_data"
    }
   ],
   "source": [
    "# Import necessary libraries\n",
    "from sklearn.metrics import f1_score\n",
    "import matplotlib.pyplot as plt\n",
    "import seaborn as sns\n",
    "\n",
    "# Assuming your GridSearchCV object is named 'grid_search'\n",
    "best_model = grid_search.best_estimator_\n",
    "\n",
    "# Now you can use the best model to make predictions\n",
    "y_pred = best_model.predict(X_test)\n",
    "\n",
    "# Calculate F1 scores for each class (e.g., Neutral, Positive, Negative)\n",
    "f1_scores = f1_score(y_test, y_pred, average=None)\n",
    "\n",
    "# Define the class labels (adjust based on your dataset)\n",
    "class_labels = ['Neutral', 'Positive', 'Negative']  # Change if needed\n",
    "\n",
    "# Plot F1 scores for each class\n",
    "plt.figure(figsize=(8, 6))\n",
    "sns.barplot(x=class_labels, y=f1_scores, palette='Reds')\n",
    "plt.title('F1 Scores by Class', fontsize=16)\n",
    "plt.xlabel('Sentiment', fontsize=14)\n",
    "plt.ylabel('F1 Score', fontsize=14)\n",
    "plt.xticks(fontsize=12)\n",
    "plt.yticks(fontsize=12)\n",
    "plt.ylim(0, 1)\n",
    "plt.show()\n",
    "\n"
   ]
  },
  {
   "cell_type": "code",
   "execution_count": 60,
   "metadata": {},
   "outputs": [
    {
     "name": "stdout",
     "output_type": "stream",
     "text": [
      "Cross-validated F1 score: 0.8421583396783646\n"
     ]
    }
   ],
   "source": [
    "from sklearn.model_selection import cross_val_score\n",
    "\n",
    "# Use the best model found during GridSearchCV\n",
    "best_model = grid_search.best_estimator_\n",
    "\n",
    "# Perform cross-validation\n",
    "scores = cross_val_score(best_model, X_resampled, y_resampled, cv=5, scoring='f1_weighted')\n",
    "print(\"Cross-validated F1 score:\", scores.mean())\n"
   ]
  },
  {
   "cell_type": "code",
   "execution_count": 62,
   "metadata": {},
   "outputs": [
    {
     "data": {
      "image/png": "[encoded data removed]",
      "text/plain": [
       "<Figure size 576x432 with 1 Axes>"
      ]
     },
     "metadata": {
      "needs_background": "light"
     },
     "output_type": "display_data"
    }
   ],
   "source": [
    "from sklearn.preprocessing import OneHotEncoder\n",
    "from sklearn.metrics import precision_recall_curve, average_precision_score\n",
    "import matplotlib.pyplot as plt\n",
    "import numpy as np\n",
    "\n",
    "# Assuming best_model is already defined and fitted\n",
    "# Get predicted probabilities for each class\n",
    "y_scores = best_model.predict_proba(X_test)  # This returns probabilities for each class\n",
    "\n",
    "# One-hot encode y_test for multi-class classification\n",
    "encoder = OneHotEncoder(sparse=False)\n",
    "y_test_binarized = encoder.fit_transform(y_test.reshape(-1, 1))\n",
    "\n",
    "# Calculate average precision for each class (adjust the index for each class)\n",
    "average_precision = average_precision_score(y_test_binarized[:, 1], y_scores[:, 1])  # Change index for other classes\n",
    "precision, recall, _ = precision_recall_curve(y_test_binarized[:, 1], y_scores[:, 1])  # Change index for other classes\n",
    "\n",
    "# Plot the Precision-Recall curve\n",
    "plt.figure(figsize=(8, 6))\n",
    "plt.step(recall, precision, where='post', color='red', alpha=0.7,\n",
    "         label='Average precision: {0:0.2f}'.format(average_precision))\n",
    "plt.fill_between(recall, precision, alpha=0.2, color='red')\n",
    "plt.title('Precision-Recall Curve', fontsize=16)\n",
    "plt.xlabel('Recall', fontsize=14)\n",
    "plt.ylabel('Precision', fontsize=14)\n",
    "plt.xlim([0.0, 1.0])\n",
    "plt.ylim([0.0, 1.05])\n",
    "plt.xticks(fontsize=12)\n",
    "plt.yticks(fontsize=12)\n",
    "plt.legend(loc='best', fontsize=12)\n",
    "plt.show()\n"
   ]
  },
  {
   "cell_type": "code",
   "execution_count": 63,
   "metadata": {},
   "outputs": [
    {
     "data": {
      "image/png": "[encoded data removed]",
      "text/plain": [
       "<Figure size 576x432 with 1 Axes>"
      ]
     },
     "metadata": {
      "needs_background": "light"
     },
     "output_type": "display_data"
    }
   ],
   "source": [
    "from sklearn.metrics import f1_score\n",
    "\n",
    "# Assuming y_test and y_pred are defined\n",
    "f1_scores = f1_score(y_test, y_pred, average=None)  # Compute F1 scores for each class\n",
    "\n",
    "plt.figure(figsize=(8, 6))\n",
    "sns.barplot(x=['Negative', 'Positive', 'Neither'], y=f1_scores, palette='Reds')\n",
    "plt.title('F1 Scores by Class', fontsize=16)\n",
    "plt.xlabel('Sentiment', fontsize=14)\n",
    "plt.ylabel('F1 Score', fontsize=14)\n",
    "plt.xticks(fontsize=12)\n",
    "plt.yticks(fontsize=12)\n",
    "plt.ylim(0, 1)\n",
    "plt.show()\n"
   ]
  },
  {
   "cell_type": "code",
   "execution_count": 44,
   "metadata": {},
   "outputs": [
    {
     "name": "stdout",
     "output_type": "stream",
     "text": [
      "[13:53:52] WARNING: C:\\Users\\Administrator\\workspace\\xgboost-win64_release_1.2.0\\src\\learner.cc:516: \n",
      "Parameters: { use_label_encoder } might not be used.\n",
      "\n",
      "  This may not be accurate due to some parameters are only used in language bindings but\n",
      "  passed down to XGBoost core.  Or some parameters are not used but slip through this\n",
      "  verification. Please open an issue if you find above cases.\n",
      "\n",
      "\n",
      "Confusion Matrix:\n",
      "[[107   0   1   1]\n",
      " [  0 104   3   1]\n",
      " [  0   1  84  24]\n",
      " [  0   0  30  79]]\n",
      "Classification Report:\n",
      "              precision    recall  f1-score   support\n",
      "\n",
      "           0       1.00      0.98      0.99       109\n",
      "           1       0.99      0.96      0.98       108\n",
      "           2       0.71      0.77      0.74       109\n",
      "           3       0.75      0.72      0.74       109\n",
      "\n",
      "    accuracy                           0.86       435\n",
      "   macro avg       0.86      0.86      0.86       435\n",
      "weighted avg       0.86      0.86      0.86       435\n",
      "\n"
     ]
    }
   ],
   "source": [
    "\n",
    "X_train, X_test, y_train, y_test = train_test_split(X_resampled, y_resampled, test_size=0.2, random_state=42, stratify=y_resampled)\n",
    "\n",
    "# Create an XGBoost model\n",
    "xgb_model = xgb.XGBClassifier(\n",
    "    use_label_encoder=False,\n",
    "    eval_metric='mlogloss',\n",
    "    random_state=42\n",
    ")\n",
    "\n",
    "# Fit the model\n",
    "xgb_model.fit(X_train, y_train)\n",
    "\n",
    "# Make predictions\n",
    "y_pred = xgb_model.predict(X_test)\n",
    "\n",
    "# Evaluate the model\n",
    "cm = confusion_matrix(y_test, y_pred)\n",
    "print(\"Confusion Matrix:\")\n",
    "print(cm)\n",
    "\n",
    "report = classification_report(y_test, y_pred)\n",
    "print(\"Classification Report:\")\n",
    "print(report)\n"
   ]
  }
 ],
 "metadata": {
  "kernelspec": {
   "display_name": "learn-env",
   "language": "python",
   "name": "python3"
  },
  "language_info": {
   "codemirror_mode": {
    "name": "ipython",
    "version": 3
   },
   "file_extension": ".py",
   "mimetype": "text/x-python",
   "name": "python",
   "nbconvert_exporter": "python",
   "pygments_lexer": "ipython3",
   "version": "3.8.5"
  }
 },
 "nbformat": 4,
 "nbformat_minor": 2
}
