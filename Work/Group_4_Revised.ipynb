{
 "cells": [
  {
   "cell_type": "markdown",
   "metadata": {},
   "source": [
    "## Sentiment Analysis of Apple and Google Products Using NLP on Twitter Data"
   ]
  },
  {
   "cell_type": "markdown",
   "metadata": {},
   "source": [
    "![header](Images/GvsA.jpg)"
   ]
  },
  {
   "cell_type": "markdown",
   "metadata": {},
   "source": [
    "Final Project Submission:\n",
    "\n",
    "Student names: \n",
    "\n",
    "- Annah Mukethe\n",
    "- Collins Ouko\n",
    "- Camilla Lumwaji\n",
    "- Eric Rono\n",
    "- Edwin Mbuthia\n",
    "- Gladys Kemunto\n",
    "- Petra Kibugu\n",
    "\n",
    "Student pace: Part Time\n",
    "\n",
    "Scheduled project review date/time: Phase 4\n",
    "\n",
    "Instructor name: Samuel Karu\n",
    "\n",
    "Group 4 git url: [Sentiment Project GitHub Repository](https://github.com/Mosota-Kemunto-Gladys-2020/Sentiment_project.git)"
   ]
  },
  {
   "cell_type": "markdown",
   "metadata": {},
   "source": [
    "\n",
    "\n",
    "### Project Overview\n",
    "\n",
    "This project aims **to develop a Natural Language Processing (NLP) model to analyze sentiment in Tweets related to Apple and Google products**. **The goal is to classify these Tweets as **positive, negative, or neutral**, providing valuable insights into public perception. This data will assist businesses in refining marketing strategies and improving product development.\n",
    "\n",
    "### Business Problem\n",
    "\n",
    "In today's social media-driven world, brands must monitor customer sentiments in real time. Twitter has become a prominent platform for expressing opinions about products and brands. The rapid pace and vast number of tweets make it impossible to manually analyze all opinions. Therefore, a Natural Language Processing (NLP) model is needed to automatically classify the sentiment of tweets and identify the target brand or product.\n",
    "\n",
    "The dataset from CrowdFlower includes over 9,000 tweets tagged with sentiment (positive, negative, or neutral) and associated brands or products. **The project aims to build an NLP model that can:**\n",
    "\n",
    "1. **Classify Sentiments**: Determine if a tweet expresses positive, negative, or neutral sentiment.\n",
    "2. **Identify Brand/Product**: Recognize which brand or product is being referred to in the tweet.\n",
    "3. **Handle Ambiguity**: Manage tweets that reference multiple brands or express unclear sentiments.\n",
    "\n",
    "Key challenges include handling informal language, understanding subtle sentiment expressions, and building a real-time scalable solution to process large amounts of data efficiently.\n",
    "\n",
    "### Project Objectives\n",
    "\n",
    "1. **Binary Classification Model**: \n",
    "   - First, develop a binary classification model that classifies tweets as either positive or negative. Using Logistic Regression and other models, the goal is to achieve 85% accuracy as a proof of concept.\n",
    "\n",
    "2. **Multiclass Classification**: \n",
    "   - Expand the binary classifier to include neutral sentiments, creating a multiclass classifier using various models such as XGBoost and Multinomial Naive Bayes, with a target accuracy of 70%.\n",
    "\n",
    "3. **Sentiment Comparison Across Brands**: \n",
    "   - Compare sentiment distributions between Apple and Google products to provide insights for refining marketing and product strategies.\n",
    "\n",
    "#### Stakeholders\n",
    "\n",
    "1. **Product Managers** at Apple and Google to adjust product features based on consumer sentiment.\n",
    "2. **Marketing Teams** to evaluate the effectiveness of campaigns and brand perception.\n",
    "3. **Customer Support Teams** to address negative sentiment and leverage positive feedback.\n",
    "4. **Consultants and Market Analysts** to provide data-driven advice on consumer perceptions.\n",
    "\n",
    "#### Methodology Overview\n",
    "\n",
    "1. **Data Understanding**:\n",
    "   - Analyze the dataset, which includes columns such as `tweet_text`, `emotion_in_tweet_is_directed_at`, and `is_there_an_emotion_directed_at_a_brand_or_product`.\n",
    "   - Address any anomalies like missing values and duplicates.\n",
    "\n",
    "2. **Data Preparation**:\n",
    "   - Remove duplicate entries.\n",
    "   - Populate missing values in the `emotion_in_tweet_is_directed_at` column with \"none.\"\n",
    "   - Apply text preprocessing techniques: tokenization, lowercasing, stopword removal, and lemmatization.\n",
    "\n",
    "3. **Modeling**:\n",
    "   - Utilize libraries like NLTK (for tokenization, stopword removal, lemmatization), sklearn's CountVectorizer (for vectorization), and pandas (for data handling).\n",
    "   - Build a logistic regression model for binary classification (positive/negative sentiment), aiming for 70% accuracy.\n",
    "   - Expand the model to a multiclass classifier to include neutral sentiments.\n",
    "\n",
    "4. **Evaluation**:\n",
    "   - Use accuracy as the primary evaluation metric, assessing the model’s ability to classify sentiments correctly.\n",
    "   - Address potential limitations such as missing values and data quality issues.\n",
    "\n",
    "#### Data Understanding\n",
    "\n",
    "The dataset sourced from **CrowdFlower via Data.world** contains approximately 9,093 tweets about Apple and Google products. It includes columns such as `tweet_text`, `emotion_in_tweet_is_directed_at`, and `is_there_an_emotion_directed_at_a_brand_or_product`. The primary goal is to classify each tweet into one of three sentiment categories: positive, negative, or neutral."
   ]
  },
  {
   "cell_type": "markdown",
   "metadata": {},
   "source": [
    "## 1. Project Overview\n",
    "\n",
    "This project aims to develop a Natural Language Processing (NLP) model to analyze sentiment in Tweets related to Apple and Google products. By classifying the sentiment of these Tweets as positive, negative, or neutral, the model will provide valuable insights into public perception, aiding businesses in marketing strategies and product development."
   ]
  },
  {
   "cell_type": "markdown",
   "metadata": {},
   "source": [
    "\n",
    "**Business Problem:**\n",
    "\n",
    "In an era dominated by social media, brands must continuously track customer sentiments expressed online. Twitter, in particular, has become a critical platform where users voice their opinions about products and brands. However, the vast volume and rapid pace of tweets make it impractical for businesses to manually analyze these opinions for insights. To address this, a Natural Language Processing (NLP) model needs to be developed to automatically classify the sentiment of tweets and determine which brand or product is the target of those sentiments.\n",
    "\n",
    "The dataset from CrowdFlower includes over 9,000 tweets that have been evaluated for sentiment (positive, negative, or no emotion) and tagged with the associated brand or product. The goal is to build an NLP model that can accurately and efficiently:\n",
    "\n",
    "1. **Classify Sentiments**: Identify whether a tweet expresses positive, negative, or no emotion.\n",
    "2. **Identify Brand/Product**: Recognize which brand or product is being referred to in the tweet.\n",
    "3. **Handle Ambiguity**: Deal with tweets that might reference multiple brands or unclear sentiments.\n",
    "\n",
    "Key challenges include:\n",
    "\n",
    "- **Textual Variations**: Dealing with informal language, abbreviations, emojis, and slang used on social media.\n",
    "- **Context Understanding**: Ensuring the model understands subtle and implicit expressions of sentiment.\n",
    "- **Real-Time Processing**: Building a scalable solution that can process large volumes of data in real time for timely insights.\n",
    "\n",
    "Solving this problem will help brands enhance their reputation management, respond promptly to consumer feedback, and optimize their marketing strategies based on real-time sentiment analysis."
   ]
  },
  {
   "cell_type": "markdown",
   "metadata": {},
   "source": [
    "#### Project Objectives\n",
    "\n",
    "1.**Binary Classification Model:** The first objective is to develop a binary classification model to classify tweets as either positive or negative. Using Logistic Regression, this model aims to achieve a benchmark accuracy of 85%, serving as a proof of concept.\n",
    "\n",
    "2.**Multiclass Classification Expansion:** After establishing a successful binary classification, we will develop a multiclass classifier to include neutral sentiments. This will provide a more comprehensive understanding of consumer sentiment and will be built using models like XGBoost and Multinomial Naive Bayes, with a target accuracy of 70%.\n",
    "\n",
    "3.**Sentiment Comparison Between Apple and Google Products:** A final objective is to compare sentiment across the brands by analyzing the distribution of sentiments in tweets mentioning Apple, Google, and other products. This comparison will provide valuable insights for stakeholders to refine their strategies."
   ]
  },
  {
   "cell_type": "markdown",
   "metadata": {},
   "source": [
    "#### Stakeholders\n",
    "\n",
    "Key stakeholders who would benefit from this project include:\n",
    "\n",
    "**1. Product Managers** at Apple and Google, who can use the insights to tweak product features based on consumer sentiment.\n",
    "\n",
    "**2. Marketing Teams** looking to assess the effectiveness of campaigns or brand perception.\n",
    "\n",
    "**3. Customer Support Teams**, who can use the analysis to proactively address negative sentiment or capitalize on positive feedback.\n",
    "\n",
    "**4. Consultants and market analysts** seeking to provide data-driven advice to tech companies on consumer perceptions."
   ]
  },
  {
   "cell_type": "markdown",
   "metadata": {},
   "source": [
    "##### Methodology Overview\n",
    "\n",
    "\n",
    "1.**Data Understanding**\n",
    "   - Familiarizing with the structure of the dataset (e.g., columns like `tweet_text`, `emotion_in_tweet_is_directed_at`, and `is_there_an_emotion_directed_at_a_brand_or_product`).\n",
    "   - Identifying any initial anomalies (e.g., missing values, duplicates) that need cleaning.\n",
    "\n",
    "2.**Data Preparation**\n",
    "- Preprocessing steps:\n",
    "\n",
    "    - Removed duplicate entries.\n",
    "    - Addressed missing values by populating the emotion_in_tweet_is_directed_at column with \"none\" and removed entries     lacking tweet_text.\n",
    "    - Applied text preprocessing techniques: tokenization, lowercasing, stopword removal, and lemmatization.\n",
    "\n",
    "3.**Modeling**\n",
    "    - Utilized key libraries: NLTK (for tokenization, stopword removal, lemmatization), sklearn's CountVectorizer (for vectorization), and pandas (for data handling).\n",
    "    - Developed a logistic regression model for binary classification (positive/negative sentiment), aiming for 70% accuracy.\n",
    "    - Expanded to a multiclass classifier to include neutral sentiments.\n",
    "\n",
    "4.**Evaluation**\n",
    "    - Accuracy was used as the main evaluation metric, measuring the model's overall ability to classify sentiments correctly.\n",
    "    - While the model performed satisfactorily, missing values and data quality issues are potential limitations."
   ]
  },
  {
   "cell_type": "markdown",
   "metadata": {},
   "source": [
    "### **1 Data Understanding**\n",
    "\n",
    "We are using a dataset sourced from **CrowdFlower via Data.world,** containing approximately 9,000 tweets expressing sentiments about Apple and Google products. This dataset includes columns such as `tweet_text`, `emotion_in_tweet_is_directed_at`, and `is_there_an_emotion_directed_at_a_brand_or_product`. The main objective is to accurately classify each tweet into one of three sentiment categories: positive, negative, or neutral."
   ]
  },
  {
   "cell_type": "markdown",
   "metadata": {},
   "source": [
    " 1.1 Import Necessary Libraries"
   ]
  },
  {
   "cell_type": "code",
   "execution_count": 172,
   "metadata": {},
   "outputs": [
    {
     "name": "stderr",
     "output_type": "stream",
     "text": [
      "[nltk_data] Downloading package punkt to c:\\Users\\Augustine\n",
      "[nltk_data]     Wanyonyi\\anaconda3\\envs\\learn-env\\lib\\nltk_data...\n",
      "[nltk_data]   Package punkt is already up-to-date!\n"
     ]
    }
   ],
   "source": [
    "# Standard Libraries\n",
    "import os\n",
    "import numpy as np\n",
    "import pandas as pd\n",
    "import matplotlib.pyplot as plt\n",
    "import seaborn as sns\n",
    "%matplotlib inline\n",
    "sns.set_style('darkgrid')\n",
    "\n",
    "# NLTK for Natural Language Processing\n",
    "import nltk\n",
    "from nltk.tokenize import RegexpTokenizer, TweetTokenizer, word_tokenize\n",
    "from nltk.corpus import stopwords\n",
    "from nltk.stem import WordNetLemmatizer, SnowballStemmer\n",
    "import re\n",
    "\n",
    "# Download necessary NLTK data\n",
    "nltk.download('punkt')\n",
    "\n",
    "# Scikit-learn for Machine Learning Models and Preprocessing\n",
    "from sklearn.model_selection import train_test_split, cross_validate\n",
    "from sklearn.feature_extraction.text import CountVectorizer, TfidfVectorizer\n",
    "from sklearn.preprocessing import StandardScaler, LabelEncoder, OneHotEncoder\n",
    "from sklearn.impute import SimpleImputer\n",
    "from sklearn.compose import ColumnTransformer\n",
    "from sklearn.decomposition import PCA\n",
    "from sklearn.pipeline import Pipeline\n",
    "from sklearn.metrics import classification_report, confusion_matrix, accuracy_score, f1_score\n",
    "\n",
    "# Scikit-learn Models\n",
    "from sklearn.naive_bayes import MultinomialNB\n",
    "from sklearn.linear_model import LogisticRegression\n",
    "from sklearn.ensemble import RandomForestClassifier, GradientBoostingClassifier\n",
    "from sklearn.svm import SVC\n",
    "from sklearn.neural_network import MLPClassifier\n",
    "\n",
    "# TensorFlow/Keras for Deep Learning Models\n",
    "import tensorflow as tf\n",
    "from tensorflow import keras\n",
    "from tensorflow.keras import layers, models, Sequential\n",
    "from tensorflow.keras.preprocessing.text import Tokenizer\n",
    "from tensorflow.keras.preprocessing.sequence import pad_sequences\n",
    "from tensorflow.keras.losses import CategoricalCrossentropy\n",
    "from tensorflow.keras.optimizers import Adam\n",
    "from tensorflow.keras.callbacks import EarlyStopping, ModelCheckpoint\n",
    "\n",
    "# Imbalanced-learn for Handling Imbalanced Datasets\n",
    "from imblearn.over_sampling import SMOTE\n",
    "from imblearn.under_sampling import RandomUnderSampler\n",
    "from imblearn.pipeline import Pipeline as ImbPipeline\n",
    "\n",
    "# XGBoost for Gradient Boosting\n",
    "from xgboost import XGBClassifier\n",
    "\n",
    "# Progress Bar for Iterations\n",
    "from tqdm import tqdm\n",
    "\n",
    "# Optional Import for LightGBM (commented out)\n",
    "# from lightgbm import LGBMClassifier\n"
   ]
  },
  {
   "cell_type": "markdown",
   "metadata": {},
   "source": [
    "1.2 Load Data"
   ]
  },
  {
   "cell_type": "code",
   "execution_count": 173,
   "metadata": {},
   "outputs": [
    {
     "data": {
      "text/html": [
       "<div>\n",
       "<style scoped>\n",
       "    .dataframe tbody tr th:only-of-type {\n",
       "        vertical-align: middle;\n",
       "    }\n",
       "\n",
       "    .dataframe tbody tr th {\n",
       "        vertical-align: top;\n",
       "    }\n",
       "\n",
       "    .dataframe thead th {\n",
       "        text-align: right;\n",
       "    }\n",
       "</style>\n",
       "<table border=\"1\" class=\"dataframe\">\n",
       "  <thead>\n",
       "    <tr style=\"text-align: right;\">\n",
       "      <th></th>\n",
       "      <th>tweet_text</th>\n",
       "      <th>emotion_in_tweet_is_directed_at</th>\n",
       "      <th>is_there_an_emotion_directed_at_a_brand_or_product</th>\n",
       "    </tr>\n",
       "  </thead>\n",
       "  <tbody>\n",
       "    <tr>\n",
       "      <th>0</th>\n",
       "      <td>.@wesley83 I have a 3G iPhone. After 3 hrs twe...</td>\n",
       "      <td>iPhone</td>\n",
       "      <td>Negative emotion</td>\n",
       "    </tr>\n",
       "    <tr>\n",
       "      <th>1</th>\n",
       "      <td>@jessedee Know about @fludapp ? Awesome iPad/i...</td>\n",
       "      <td>iPad or iPhone App</td>\n",
       "      <td>Positive emotion</td>\n",
       "    </tr>\n",
       "    <tr>\n",
       "      <th>2</th>\n",
       "      <td>@swonderlin Can not wait for #iPad 2 also. The...</td>\n",
       "      <td>iPad</td>\n",
       "      <td>Positive emotion</td>\n",
       "    </tr>\n",
       "    <tr>\n",
       "      <th>3</th>\n",
       "      <td>@sxsw I hope this year's festival isn't as cra...</td>\n",
       "      <td>iPad or iPhone App</td>\n",
       "      <td>Negative emotion</td>\n",
       "    </tr>\n",
       "    <tr>\n",
       "      <th>4</th>\n",
       "      <td>@sxtxstate great stuff on Fri #SXSW: Marissa M...</td>\n",
       "      <td>Google</td>\n",
       "      <td>Positive emotion</td>\n",
       "    </tr>\n",
       "    <tr>\n",
       "      <th>...</th>\n",
       "      <td>...</td>\n",
       "      <td>...</td>\n",
       "      <td>...</td>\n",
       "    </tr>\n",
       "    <tr>\n",
       "      <th>9088</th>\n",
       "      <td>Ipad everywhere. #SXSW {link}</td>\n",
       "      <td>iPad</td>\n",
       "      <td>Positive emotion</td>\n",
       "    </tr>\n",
       "    <tr>\n",
       "      <th>9089</th>\n",
       "      <td>Wave, buzz... RT @mention We interrupt your re...</td>\n",
       "      <td>NaN</td>\n",
       "      <td>No emotion toward brand or product</td>\n",
       "    </tr>\n",
       "    <tr>\n",
       "      <th>9090</th>\n",
       "      <td>Google's Zeiger, a physician never reported po...</td>\n",
       "      <td>NaN</td>\n",
       "      <td>No emotion toward brand or product</td>\n",
       "    </tr>\n",
       "    <tr>\n",
       "      <th>9091</th>\n",
       "      <td>Some Verizon iPhone customers complained their...</td>\n",
       "      <td>NaN</td>\n",
       "      <td>No emotion toward brand or product</td>\n",
       "    </tr>\n",
       "    <tr>\n",
       "      <th>9092</th>\n",
       "      <td>Ï¡Ïàü_ÊÎÒ£Áââ_£â_ÛâRT @...</td>\n",
       "      <td>NaN</td>\n",
       "      <td>No emotion toward brand or product</td>\n",
       "    </tr>\n",
       "  </tbody>\n",
       "</table>\n",
       "<p>9093 rows × 3 columns</p>\n",
       "</div>"
      ],
      "text/plain": [
       "                                             tweet_text  \\\n",
       "0     .@wesley83 I have a 3G iPhone. After 3 hrs twe...   \n",
       "1     @jessedee Know about @fludapp ? Awesome iPad/i...   \n",
       "2     @swonderlin Can not wait for #iPad 2 also. The...   \n",
       "3     @sxsw I hope this year's festival isn't as cra...   \n",
       "4     @sxtxstate great stuff on Fri #SXSW: Marissa M...   \n",
       "...                                                 ...   \n",
       "9088                      Ipad everywhere. #SXSW {link}   \n",
       "9089  Wave, buzz... RT @mention We interrupt your re...   \n",
       "9090  Google's Zeiger, a physician never reported po...   \n",
       "9091  Some Verizon iPhone customers complained their...   \n",
       "9092  Ï¡Ïàü_ÊÎÒ£Áââ_£â_ÛâRT @...   \n",
       "\n",
       "     emotion_in_tweet_is_directed_at  \\\n",
       "0                             iPhone   \n",
       "1                 iPad or iPhone App   \n",
       "2                               iPad   \n",
       "3                 iPad or iPhone App   \n",
       "4                             Google   \n",
       "...                              ...   \n",
       "9088                            iPad   \n",
       "9089                             NaN   \n",
       "9090                             NaN   \n",
       "9091                             NaN   \n",
       "9092                             NaN   \n",
       "\n",
       "     is_there_an_emotion_directed_at_a_brand_or_product  \n",
       "0                                      Negative emotion  \n",
       "1                                      Positive emotion  \n",
       "2                                      Positive emotion  \n",
       "3                                      Negative emotion  \n",
       "4                                      Positive emotion  \n",
       "...                                                 ...  \n",
       "9088                                   Positive emotion  \n",
       "9089                 No emotion toward brand or product  \n",
       "9090                 No emotion toward brand or product  \n",
       "9091                 No emotion toward brand or product  \n",
       "9092                 No emotion toward brand or product  \n",
       "\n",
       "[9093 rows x 3 columns]"
      ]
     },
     "execution_count": 173,
     "metadata": {},
     "output_type": "execute_result"
    }
   ],
   "source": [
    "#load the dataset\n",
    "df = pd.read_csv('judge-1377884607_tweet_product_company.csv', encoding = 'unicode_escape')\n",
    "df"
   ]
  },
  {
   "cell_type": "markdown",
   "metadata": {},
   "source": [
    "1.3 Data Exploration "
   ]
  },
  {
   "cell_type": "code",
   "execution_count": 174,
   "metadata": {},
   "outputs": [
    {
     "name": "stdout",
     "output_type": "stream",
     "text": [
      "<class 'pandas.core.frame.DataFrame'>\n",
      "RangeIndex: 9093 entries, 0 to 9092\n",
      "Data columns (total 3 columns):\n",
      " #   Column                                              Non-Null Count  Dtype \n",
      "---  ------                                              --------------  ----- \n",
      " 0   tweet_text                                          9092 non-null   object\n",
      " 1   emotion_in_tweet_is_directed_at                     3291 non-null   object\n",
      " 2   is_there_an_emotion_directed_at_a_brand_or_product  9093 non-null   object\n",
      "dtypes: object(3)\n",
      "memory usage: 213.2+ KB\n",
      "None\n",
      "--------------------\n",
      "Total duplicated rows\n",
      "22\n",
      "--------------------\n",
      "Total null values\n",
      "tweet_text                                               1\n",
      "emotion_in_tweet_is_directed_at                       5802\n",
      "is_there_an_emotion_directed_at_a_brand_or_product       0\n",
      "dtype: int64\n"
     ]
    }
   ],
   "source": [
    "#looking at data, duplicates and null valuesprint\n",
    "def data_summary(df):\n",
    "    # Print the DataFrame info\n",
    "    print(df.info())\n",
    "    print((\"-\" * 20))\n",
    "    \n",
    "    # Print the total number of duplicated rows\n",
    "    print('Total duplicated rows')\n",
    "    print(df.duplicated().sum())\n",
    "    print((\"-\" * 20))\n",
    "    # Print the total number of null values in each column\n",
    "    print('Total null values')\n",
    "    \n",
    "    print(df.isna().sum())    \n",
    "data_summary(df)\n"
   ]
  },
  {
   "cell_type": "markdown",
   "metadata": {},
   "source": [
    "<small>\n",
    "Data Analysis Summary\n",
    "\n",
    "The dataset contains **9,093 rows and 3 columns**, with **tweet_text missing 1 value and emotion_in_tweet_is_directed_at missing 5,802 values**. There are **22 duplicated rows**, and **the column is_there_an_emotion_directed_at_a_brand_or_product has no missing values.**\n",
    "<small>"
   ]
  },
  {
   "cell_type": "markdown",
   "metadata": {},
   "source": [
    "1.4  Sentiment Breakdown and Visualization"
   ]
  },
  {
   "cell_type": "code",
   "execution_count": 175,
   "metadata": {},
   "outputs": [
    {
     "data": {
      "text/plain": [
       "is_there_an_emotion_directed_at_a_brand_or_product\n",
       "No emotion toward brand or product    5389\n",
       "Positive emotion                      2978\n",
       "Negative emotion                       570\n",
       "I can't tell                           156\n",
       "Name: count, dtype: int64"
      ]
     },
     "execution_count": 175,
     "metadata": {},
     "output_type": "execute_result"
    }
   ],
   "source": [
    "#Sentiment Breakdown and Visualization\n",
    "df['is_there_an_emotion_directed_at_a_brand_or_product'].value_counts() "
   ]
  },
  {
   "cell_type": "code",
   "execution_count": 176,
   "metadata": {},
   "outputs": [
    {
     "data": {
      "text/plain": [
       "<Axes: xlabel='is_there_an_emotion_directed_at_a_brand_or_product', ylabel='count'>"
      ]
     },
     "execution_count": 176,
     "metadata": {},
     "output_type": "execute_result"
    },
    {
     "data": {
      "image/png": "[encoded data removed]",
      "text/plain": [
       "<Figure size 1200x600 with 1 Axes>"
      ]
     },
     "metadata": {},
     "output_type": "display_data"
    }
   ],
   "source": [
    "# Plot the sentiment breakdown for 'is_there_an_emotion_directed_at_a_brand_or_product'\n",
    "fig =  plt.figure(figsize=(12,6))\n",
    "sns.countplot(x='is_there_an_emotion_directed_at_a_brand_or_product', data=df)"
   ]
  },
  {
   "cell_type": "code",
   "execution_count": 177,
   "metadata": {},
   "outputs": [
    {
     "data": {
      "image/png": "[encoded data removed]",
      "text/plain": [
       "<Figure size 1200x600 with 1 Axes>"
      ]
     },
     "metadata": {},
     "output_type": "display_data"
    }
   ],
   "source": [
    "# Plot the sentiment breakdown for 'emotion_in_tweet_is_directed_at'\n",
    "\n",
    "fig =  plt.figure(figsize=(12,6))\n",
    "sns.countplot(x='emotion_in_tweet_is_directed_at', data=df)\n",
    "plt.xticks(rotation=45);"
   ]
  },
  {
   "cell_type": "markdown",
   "metadata": {},
   "source": [
    "<small>\n",
    "Summary of Sentiment Breakdown:\n",
    "\n",
    "The bar chart reveals that **iPad** is the most frequently mentioned product in the tweets, followed by other **Apple products** (iPad, iPhone, and Apple) and **Google products**. **Android-related products** receive fewer mentions, highlighting the dominance of Apple products in user-directed sentiments.\n",
    "<small>."
   ]
  },
  {
   "cell_type": "markdown",
   "metadata": {},
   "source": [
    "1.5  Renaming long column names\n",
    "\n",
    "We renamed  the column ```emotion_in_tweet_is_directed_at``` to ```product_brand``` and the column ```is_there_an_emotion_directed_at_a_brand_or_product``` to ```sentiment``` to enhance clarity and facilitate their usage in our subsequent computation"
   ]
  },
  {
   "cell_type": "code",
   "execution_count": 178,
   "metadata": {},
   "outputs": [
    {
     "name": "stdout",
     "output_type": "stream",
     "text": [
      "Index(['tweet_text', 'product_brand', 'sentiment'], dtype='object')\n"
     ]
    }
   ],
   "source": [
    "# Renaming the columns\n",
    "data_renamed = df.rename(columns={\n",
    "    'emotion_in_tweet_is_directed_at':'product_brand',\n",
    "    'is_there_an_emotion_directed_at_a_brand_or_product': 'sentiment'\n",
    "})\n",
    "\n",
    "# Display the updated columns\n",
    "print(data_renamed.columns)"
   ]
  },
  {
   "cell_type": "code",
   "execution_count": 179,
   "metadata": {},
   "outputs": [
    {
     "data": {
      "text/html": [
       "<div>\n",
       "<style scoped>\n",
       "    .dataframe tbody tr th:only-of-type {\n",
       "        vertical-align: middle;\n",
       "    }\n",
       "\n",
       "    .dataframe tbody tr th {\n",
       "        vertical-align: top;\n",
       "    }\n",
       "\n",
       "    .dataframe thead th {\n",
       "        text-align: right;\n",
       "    }\n",
       "</style>\n",
       "<table border=\"1\" class=\"dataframe\">\n",
       "  <thead>\n",
       "    <tr style=\"text-align: right;\">\n",
       "      <th></th>\n",
       "      <th>tweet_text</th>\n",
       "      <th>product_brand</th>\n",
       "      <th>sentiment</th>\n",
       "    </tr>\n",
       "  </thead>\n",
       "  <tbody>\n",
       "    <tr>\n",
       "      <th>0</th>\n",
       "      <td>.@wesley83 I have a 3G iPhone. After 3 hrs twe...</td>\n",
       "      <td>iPhone</td>\n",
       "      <td>Negative emotion</td>\n",
       "    </tr>\n",
       "    <tr>\n",
       "      <th>1</th>\n",
       "      <td>@jessedee Know about @fludapp ? Awesome iPad/i...</td>\n",
       "      <td>iPad or iPhone App</td>\n",
       "      <td>Positive emotion</td>\n",
       "    </tr>\n",
       "    <tr>\n",
       "      <th>2</th>\n",
       "      <td>@swonderlin Can not wait for #iPad 2 also. The...</td>\n",
       "      <td>iPad</td>\n",
       "      <td>Positive emotion</td>\n",
       "    </tr>\n",
       "    <tr>\n",
       "      <th>3</th>\n",
       "      <td>@sxsw I hope this year's festival isn't as cra...</td>\n",
       "      <td>iPad or iPhone App</td>\n",
       "      <td>Negative emotion</td>\n",
       "    </tr>\n",
       "    <tr>\n",
       "      <th>4</th>\n",
       "      <td>@sxtxstate great stuff on Fri #SXSW: Marissa M...</td>\n",
       "      <td>Google</td>\n",
       "      <td>Positive emotion</td>\n",
       "    </tr>\n",
       "  </tbody>\n",
       "</table>\n",
       "</div>"
      ],
      "text/plain": [
       "                                          tweet_text       product_brand  \\\n",
       "0  .@wesley83 I have a 3G iPhone. After 3 hrs twe...              iPhone   \n",
       "1  @jessedee Know about @fludapp ? Awesome iPad/i...  iPad or iPhone App   \n",
       "2  @swonderlin Can not wait for #iPad 2 also. The...                iPad   \n",
       "3  @sxsw I hope this year's festival isn't as cra...  iPad or iPhone App   \n",
       "4  @sxtxstate great stuff on Fri #SXSW: Marissa M...              Google   \n",
       "\n",
       "          sentiment  \n",
       "0  Negative emotion  \n",
       "1  Positive emotion  \n",
       "2  Positive emotion  \n",
       "3  Negative emotion  \n",
       "4  Positive emotion  "
      ]
     },
     "execution_count": 179,
     "metadata": {},
     "output_type": "execute_result"
    }
   ],
   "source": [
    "# Displaying the first few rows of the DataFrame\n",
    "data_renamed.head()"
   ]
  },
  {
   "cell_type": "markdown",
   "metadata": {},
   "source": [
    "1.6  Imputing Missing Values in the Dataset"
   ]
  },
  {
   "cell_type": "code",
   "execution_count": 180,
   "metadata": {},
   "outputs": [
    {
     "data": {
      "text/plain": [
       "tweet_text       0\n",
       "product_brand    0\n",
       "sentiment        0\n",
       "dtype: int64"
      ]
     },
     "execution_count": 180,
     "metadata": {},
     "output_type": "execute_result"
    }
   ],
   "source": [
    "# Using SimpleImputer to fill missing values with a constant strategy\n",
    "\n",
    "imputer_mode = SimpleImputer(strategy='constant')\n",
    "data_renamed = pd.DataFrame(imputer_mode.fit_transform(data_renamed), columns=data_renamed.columns)\n",
    "data_renamed.isna().sum()"
   ]
  },
  {
   "cell_type": "code",
   "execution_count": 181,
   "metadata": {},
   "outputs": [
    {
     "data": {
      "text/html": [
       "<div>\n",
       "<style scoped>\n",
       "    .dataframe tbody tr th:only-of-type {\n",
       "        vertical-align: middle;\n",
       "    }\n",
       "\n",
       "    .dataframe tbody tr th {\n",
       "        vertical-align: top;\n",
       "    }\n",
       "\n",
       "    .dataframe thead th {\n",
       "        text-align: right;\n",
       "    }\n",
       "</style>\n",
       "<table border=\"1\" class=\"dataframe\">\n",
       "  <thead>\n",
       "    <tr style=\"text-align: right;\">\n",
       "      <th></th>\n",
       "      <th>tweet_text</th>\n",
       "      <th>product_brand</th>\n",
       "      <th>sentiment</th>\n",
       "    </tr>\n",
       "  </thead>\n",
       "  <tbody>\n",
       "    <tr>\n",
       "      <th>0</th>\n",
       "      <td>.@wesley83 I have a 3G iPhone. After 3 hrs twe...</td>\n",
       "      <td>iPhone</td>\n",
       "      <td>Negative emotion</td>\n",
       "    </tr>\n",
       "    <tr>\n",
       "      <th>1</th>\n",
       "      <td>@jessedee Know about @fludapp ? Awesome iPad/i...</td>\n",
       "      <td>iPad or iPhone App</td>\n",
       "      <td>Positive emotion</td>\n",
       "    </tr>\n",
       "    <tr>\n",
       "      <th>2</th>\n",
       "      <td>@swonderlin Can not wait for #iPad 2 also. The...</td>\n",
       "      <td>iPad</td>\n",
       "      <td>Positive emotion</td>\n",
       "    </tr>\n",
       "    <tr>\n",
       "      <th>3</th>\n",
       "      <td>@sxsw I hope this year's festival isn't as cra...</td>\n",
       "      <td>iPad or iPhone App</td>\n",
       "      <td>Negative emotion</td>\n",
       "    </tr>\n",
       "    <tr>\n",
       "      <th>4</th>\n",
       "      <td>@sxtxstate great stuff on Fri #SXSW: Marissa M...</td>\n",
       "      <td>Google</td>\n",
       "      <td>Positive emotion</td>\n",
       "    </tr>\n",
       "  </tbody>\n",
       "</table>\n",
       "</div>"
      ],
      "text/plain": [
       "                                          tweet_text       product_brand  \\\n",
       "0  .@wesley83 I have a 3G iPhone. After 3 hrs twe...              iPhone   \n",
       "1  @jessedee Know about @fludapp ? Awesome iPad/i...  iPad or iPhone App   \n",
       "2  @swonderlin Can not wait for #iPad 2 also. The...                iPad   \n",
       "3  @sxsw I hope this year's festival isn't as cra...  iPad or iPhone App   \n",
       "4  @sxtxstate great stuff on Fri #SXSW: Marissa M...              Google   \n",
       "\n",
       "          sentiment  \n",
       "0  Negative emotion  \n",
       "1  Positive emotion  \n",
       "2  Positive emotion  \n",
       "3  Negative emotion  \n",
       "4  Positive emotion  "
      ]
     },
     "execution_count": 181,
     "metadata": {},
     "output_type": "execute_result"
    }
   ],
   "source": [
    "data_renamed.head()"
   ]
  },
  {
   "cell_type": "markdown",
   "metadata": {},
   "source": [
    "1.7  Handling and Identifying Duplicates in the Dataset"
   ]
  },
  {
   "cell_type": "code",
   "execution_count": 182,
   "metadata": {},
   "outputs": [
    {
     "data": {
      "text/html": [
       "<div>\n",
       "<style scoped>\n",
       "    .dataframe tbody tr th:only-of-type {\n",
       "        vertical-align: middle;\n",
       "    }\n",
       "\n",
       "    .dataframe tbody tr th {\n",
       "        vertical-align: top;\n",
       "    }\n",
       "\n",
       "    .dataframe thead th {\n",
       "        text-align: right;\n",
       "    }\n",
       "</style>\n",
       "<table border=\"1\" class=\"dataframe\">\n",
       "  <thead>\n",
       "    <tr style=\"text-align: right;\">\n",
       "      <th></th>\n",
       "      <th>tweet_text</th>\n",
       "      <th>product_brand</th>\n",
       "      <th>sentiment</th>\n",
       "    </tr>\n",
       "  </thead>\n",
       "  <tbody>\n",
       "    <tr>\n",
       "      <th>468</th>\n",
       "      <td>Before It Even Begins, Apple Wins #SXSW {link}</td>\n",
       "      <td>Apple</td>\n",
       "      <td>Positive emotion</td>\n",
       "    </tr>\n",
       "    <tr>\n",
       "      <th>776</th>\n",
       "      <td>Google to Launch Major New Social Network Call...</td>\n",
       "      <td>missing_value</td>\n",
       "      <td>No emotion toward brand or product</td>\n",
       "    </tr>\n",
       "    <tr>\n",
       "      <th>2232</th>\n",
       "      <td>Marissa Mayer: Google Will Connect the Digital...</td>\n",
       "      <td>missing_value</td>\n",
       "      <td>No emotion toward brand or product</td>\n",
       "    </tr>\n",
       "    <tr>\n",
       "      <th>2559</th>\n",
       "      <td>Counting down the days to #sxsw plus strong Ca...</td>\n",
       "      <td>Apple</td>\n",
       "      <td>Positive emotion</td>\n",
       "    </tr>\n",
       "    <tr>\n",
       "      <th>3950</th>\n",
       "      <td>Really enjoying the changes in Gowalla 3.0 for...</td>\n",
       "      <td>Android App</td>\n",
       "      <td>Positive emotion</td>\n",
       "    </tr>\n",
       "  </tbody>\n",
       "</table>\n",
       "</div>"
      ],
      "text/plain": [
       "                                             tweet_text  product_brand  \\\n",
       "468      Before It Even Begins, Apple Wins #SXSW {link}          Apple   \n",
       "776   Google to Launch Major New Social Network Call...  missing_value   \n",
       "2232  Marissa Mayer: Google Will Connect the Digital...  missing_value   \n",
       "2559  Counting down the days to #sxsw plus strong Ca...          Apple   \n",
       "3950  Really enjoying the changes in Gowalla 3.0 for...    Android App   \n",
       "\n",
       "                               sentiment  \n",
       "468                     Positive emotion  \n",
       "776   No emotion toward brand or product  \n",
       "2232  No emotion toward brand or product  \n",
       "2559                    Positive emotion  \n",
       "3950                    Positive emotion  "
      ]
     },
     "execution_count": 182,
     "metadata": {},
     "output_type": "execute_result"
    }
   ],
   "source": [
    "\n",
    "# Identify duplicates\n",
    "duplicates = data_renamed[data_renamed.duplicated()]\n",
    "# Display the 22 duplicates, if available\n",
    "duplicates.head()"
   ]
  },
  {
   "cell_type": "code",
   "execution_count": 183,
   "metadata": {},
   "outputs": [],
   "source": [
    "# handling the duplicates \n",
    "\n",
    "data_renamed.drop_duplicates(subset=None, keep=\"first\", inplace=True)\n"
   ]
  },
  {
   "cell_type": "code",
   "execution_count": 184,
   "metadata": {},
   "outputs": [
    {
     "data": {
      "text/plain": [
       "(9071, 3)"
      ]
     },
     "execution_count": 184,
     "metadata": {},
     "output_type": "execute_result"
    }
   ],
   "source": [
    "data_renamed.shape"
   ]
  },
  {
   "cell_type": "markdown",
   "metadata": {},
   "source": [
    "1.8 Mapping Product_brand to brand_item"
   ]
  },
  {
   "cell_type": "code",
   "execution_count": 185,
   "metadata": {},
   "outputs": [],
   "source": [
    "# Create a working dataframe with easier column name\n",
    "df = data_renamed.copy(deep=True)\n",
    "df.dropna(subset=['tweet_text'], inplace=True)\n",
    "\n",
    "# Convert the data types to string\n",
    "df['tweet_text'] = df['tweet_text'].astype(str)\n",
    "df['brand_item'] = df['product_brand'].astype(str)\n",
    "\n",
    "# Brand name mapping\n",
    "brand = {'iPhone': 'apple',\n",
    "         'iPad or iPhone App':'apple',\n",
    "         'iPad': 'apple',\n",
    "         'Google': 'google',\n",
    "         'nan': 'UNK',\n",
    "         'Android':'google',\n",
    "         'Apple': 'apple',\n",
    "         'Android App':'google',\n",
    "         'Other Google product or service':'google',\n",
    "         'Other Apple product or service':'apple'\n",
    "        }\n",
    "\n",
    "df['product_brand'] = df['product_brand'].map(brand)\n",
    "\n",
    "# Encoding class label to brief\n",
    "label_encoder = {'Negative emotion': 'negative',\n",
    "                 'Positive emotion': 'positive',\n",
    "                 'No emotion toward brand or product': 'neutral',\n",
    "                 \"I can't tell\":'neutral'}\n",
    "\n",
    "df['sentiment'] = df['sentiment'].map(label_encoder)\n",
    "df = df[df['sentiment'] != 'confused']    # drop the rows containing 'confused' labels"
   ]
  },
  {
   "cell_type": "markdown",
   "metadata": {},
   "source": [
    "1.9 Sentiment Visualization"
   ]
  },
  {
   "cell_type": "code",
   "execution_count": 186,
   "metadata": {},
   "outputs": [
    {
     "data": {
      "text/plain": [
       "sentiment\n",
       "neutral     0.609856\n",
       "positive    0.327417\n",
       "negative    0.062727\n",
       "Name: proportion, dtype: float64"
      ]
     },
     "execution_count": 186,
     "metadata": {},
     "output_type": "execute_result"
    }
   ],
   "source": [
    "df.sentiment.value_counts(normalize=True)"
   ]
  },
  {
   "cell_type": "code",
   "execution_count": 187,
   "metadata": {},
   "outputs": [
    {
     "data": {
      "text/plain": [
       "Text(0.5, 1.0, 'Brand Item Distribution')"
      ]
     },
     "execution_count": 187,
     "metadata": {},
     "output_type": "execute_result"
    },
    {
     "data": {
      "image/png": "[encoded data removed]",
      "text/plain": [
       "<Figure size 1200x600 with 1 Axes>"
      ]
     },
     "metadata": {},
     "output_type": "display_data"
    }
   ],
   "source": [
    "fig =  plt.figure(figsize=(12,6))\n",
    "sns.countplot(x='brand_item', data=df)\n",
    "plt.xticks(rotation=45);\n",
    "plt.title('Brand Item Distribution', fontsize=16)"
   ]
  },
  {
   "cell_type": "markdown",
   "metadata": {},
   "source": [
    "<small>\n",
    "\n",
    "- **iPad** and **Apple** products have a noticeable presence, indicating that they are frequently mentioned in the dataset.\n",
    "- **Google** and **Android** have fewer mentions compared to Apple-related products.\n",
    "- Other product categories, such as **iPhone**, **iPad or iPhone App**, **Android App**, and **Other Google or Apple products or services**, have minimal representation.\n",
    "\n",
    "In our next visualization, we will focus on comparing **Apple** and **Google** products after mapping product brands to the **brand_item** variable. This will help us further analyze the sentiment and mentions between these two major brands.\n",
    "\n",
    "<small>\n"
   ]
  },
  {
   "cell_type": "code",
   "execution_count": 188,
   "metadata": {},
   "outputs": [
    {
     "data": {
      "text/plain": [
       "Text(0.5, 1.0, 'Sentiment Comparison Between Apple and Google')"
      ]
     },
     "execution_count": 188,
     "metadata": {},
     "output_type": "execute_result"
    },
    {
     "data": {
      "image/png": "[encoded data removed]",
      "text/plain": [
       "<Figure size 1200x600 with 1 Axes>"
      ]
     },
     "metadata": {},
     "output_type": "display_data"
    }
   ],
   "source": [
    "plt.figure(figsize=(12,6))\n",
    "ax = sns.countplot(data=df, x = 'sentiment', hue='product_brand')\n",
    "# Adding a title to the plot\n",
    "plt.title('Sentiment Comparison Between Apple and Google', fontsize=16)"
   ]
  },
  {
   "cell_type": "markdown",
   "metadata": {},
   "source": [
    "<small>\n",
    "Sentiment Comparison Between Apple and Google:\n",
    "\n",
    "The bar chart compares the sentiment distribution between **Apple** and **Google** products. For **positive sentiment**, Apple has a significantly higher count compared to Google, indicating a strong positive reaction toward Apple products. **Negative sentiment** is more balanced but still higher for Apple than Google. Both brands have very low counts in the **neutral sentiment** category, with Apple showing slightly more mentions than Google. This comparison suggests that Apple products generate more engagement, particularly in positive sentiment, than Google products.\n",
    "<small>\n"
   ]
  },
  {
   "cell_type": "markdown",
   "metadata": {},
   "source": [
    "### **2 Text Processing**\n",
    "\n",
    "<small>\n",
    "In this step, we will clean and prepare the `tweet_text` column by performing the following actions:\n",
    "\n",
    "- **Removing URLs, Mentions, and Hashtags**: Eliminated URLs, Twitter mentions (e.g., @username), and hashtags (e.g., #topic) to reduce noise.\n",
    "- **Removing Special Characters, Digits, and Extra Spaces**: Cleansed the text by removing non-alphabetical characters, digits, and unnecessary spaces.\n",
    "- **Converting Text to Lowercase**: Standardized the text by converting all characters to lowercase.\n",
    "- **Tokenizing and Removing Stopwords**: Split the text into individual tokens (words) and removed common stopwords (e.g., \"the\", \"and\") to focus on meaningful content.\n",
    "<small>"
   ]
  },
  {
   "cell_type": "markdown",
   "metadata": {},
   "source": [
    "2.1 Text Cleaning and Data Overview"
   ]
  },
  {
   "cell_type": "code",
   "execution_count": 189,
   "metadata": {},
   "outputs": [
    {
     "name": "stdout",
     "output_type": "stream",
     "text": [
      "\n",
      "First few cleaned tweet texts:\n",
      "0    i have a g iphone after hrs tweeting at it was...\n",
      "1    know about awesome ipadiphone app that youll l...\n",
      "2    can not wait for also they should sale them do...\n",
      "3    i hope this years festival isnt as crashy as t...\n",
      "4    great stuff on fri marissa mayer google tim or...\n",
      "Name: cleaned_text, dtype: object\n",
      "\n",
      "Dataframe shape: (9071, 5)\n"
     ]
    }
   ],
   "source": [
    "# Function to clean text\n",
    "def clean_text(text):\n",
    "    # Remove URLs\n",
    "    text = re.sub(r'http\\S+|www.\\S+', '', text)\n",
    "    \n",
    "    # Remove mentions and hashtags\n",
    "    text = re.sub(r'@\\w+|#\\w+', '', text)\n",
    "    \n",
    "    # Remove special characters, digits, and extra spaces\n",
    "    text = re.sub(r'[^a-zA-Z\\s]', '', text)\n",
    "    text = re.sub(r'\\s+', ' ', text).strip()\n",
    "    \n",
    "    # Convert to lowercase\n",
    "    text = text.lower()\n",
    "    \n",
    "    return text\n",
    "\n",
    "# Apply the cleaning function to the tweet_text column\n",
    "df['cleaned_text'] = df['tweet_text'].apply(clean_text)\n",
    "\n",
    "# Display the first few cleaned tweets\n",
    "print(\"\\nFirst few cleaned tweet texts:\")\n",
    "print(df['cleaned_text'].head())\n",
    "\n",
    "\n",
    "# Print the shape of the dataframe\n",
    "print(\"\\nDataframe shape:\", df.shape)"
   ]
  },
  {
   "cell_type": "markdown",
   "metadata": {},
   "source": [
    "2.2 Advanced Text Preprocessing with Lemmatization and Stopword Removal"
   ]
  },
  {
   "cell_type": "code",
   "execution_count": 190,
   "metadata": {},
   "outputs": [
    {
     "name": "stdout",
     "output_type": "stream",
     "text": [
      "                                          tweet_text  \\\n",
      "0  .@wesley83 I have a 3G iPhone. After 3 hrs twe...   \n",
      "1  @jessedee Know about @fludapp ? Awesome iPad/i...   \n",
      "2  @swonderlin Can not wait for #iPad 2 also. The...   \n",
      "3  @sxsw I hope this year's festival isn't as cra...   \n",
      "4  @sxtxstate great stuff on Fri #SXSW: Marissa M...   \n",
      "\n",
      "                                        cleaned_text  \\\n",
      "0  i have a g iphone after hrs tweeting at it was...   \n",
      "1  know about awesome ipadiphone app that youll l...   \n",
      "2  can not wait for also they should sale them do...   \n",
      "3  i hope this years festival isnt as crashy as t...   \n",
      "4  great stuff on fri marissa mayer google tim or...   \n",
      "\n",
      "                                   preprocessed_text  \\\n",
      "0  g iphone hr tweeting dead need upgrade plugin ...   \n",
      "1  know awesome ipadiphone app youll likely appre...   \n",
      "2                                     wait also sale   \n",
      "3     hope year festival isnt crashy year iphone app   \n",
      "4  great stuff fri marissa mayer google tim oreil...   \n",
      "\n",
      "                                      tokenized_text  \n",
      "0  [i, have, a, g, iphone, after, hrs, tweeting, ...  \n",
      "1  [know, about, awesome, ipadiphone, app, that, ...  \n",
      "2  [can, not, wait, for, also, they, should, sale...  \n",
      "3  [i, hope, this, years, festival, isnt, as, cra...  \n",
      "4  [great, stuff, on, fri, marissa, mayer, google...  \n",
      "\n",
      "Dataframe shape: (9071, 7)\n",
      "                                               tweet_text product_brand  \\\n",
      "count                                                9071          3282   \n",
      "unique                                               9066             2   \n",
      "top     RT @mention RT @mention It's not a rumor: Appl...         apple   \n",
      "freq                                                    2          2404   \n",
      "\n",
      "       sentiment     brand_item  \\\n",
      "count       9071           9071   \n",
      "unique         3             10   \n",
      "top      neutral  missing_value   \n",
      "freq        5532           5789   \n",
      "\n",
      "                                             cleaned_text  \\\n",
      "count                                                9071   \n",
      "unique                                               8672   \n",
      "top     rt google to launch major new social network c...   \n",
      "freq                                                   20   \n",
      "\n",
      "                                        preprocessed_text  \\\n",
      "count                                                9071   \n",
      "unique                                               8572   \n",
      "top     rt google launch major new social network call...   \n",
      "freq                                                   25   \n",
      "\n",
      "                                           tokenized_text  \n",
      "count                                                9071  \n",
      "unique                                               8672  \n",
      "top     [rt, google, to, launch, major, new, social, n...  \n",
      "freq                                                   20  \n"
     ]
    }
   ],
   "source": [
    "lemmatizer = WordNetLemmatizer()\n",
    "stop_words = set(stopwords.words('english'))\n",
    "def advanced_preprocess(text):\n",
    "    # Tokenization\n",
    "    tokens = word_tokenize(text)\n",
    "    \n",
    "    # Remove stop words and lemmatize\n",
    "    cleaned_tokens = [lemmatizer.lemmatize(token) for token in tokens if token.lower() not in stop_words]\n",
    "    \n",
    "    return ' '.join(cleaned_tokens), tokens\n",
    "# Apply advanced preprocessing to the 'cleaned_text' column and store both results\n",
    "df['preprocessed_text'], df['tokenized_text'] = zip(*df['cleaned_text'].apply(advanced_preprocess))\n",
    "\n",
    "# Display the first few rows including the new tokenized text column\n",
    "print(df[['tweet_text', 'cleaned_text', 'preprocessed_text', 'tokenized_text']].head())\n",
    "\n",
    "# Print the shape of the dataframe\n",
    "print(\"\\nDataframe shape:\", df.shape)\n",
    "\n",
    "print(df.describe())"
   ]
  },
  {
   "cell_type": "code",
   "execution_count": 191,
   "metadata": {},
   "outputs": [
    {
     "data": {
      "text/html": [
       "<div>\n",
       "<style scoped>\n",
       "    .dataframe tbody tr th:only-of-type {\n",
       "        vertical-align: middle;\n",
       "    }\n",
       "\n",
       "    .dataframe tbody tr th {\n",
       "        vertical-align: top;\n",
       "    }\n",
       "\n",
       "    .dataframe thead th {\n",
       "        text-align: right;\n",
       "    }\n",
       "</style>\n",
       "<table border=\"1\" class=\"dataframe\">\n",
       "  <thead>\n",
       "    <tr style=\"text-align: right;\">\n",
       "      <th></th>\n",
       "      <th>tweet_text</th>\n",
       "      <th>product_brand</th>\n",
       "      <th>sentiment</th>\n",
       "      <th>brand_item</th>\n",
       "      <th>cleaned_text</th>\n",
       "      <th>preprocessed_text</th>\n",
       "      <th>tokenized_text</th>\n",
       "    </tr>\n",
       "  </thead>\n",
       "  <tbody>\n",
       "    <tr>\n",
       "      <th>0</th>\n",
       "      <td>.@wesley83 I have a 3G iPhone. After 3 hrs twe...</td>\n",
       "      <td>apple</td>\n",
       "      <td>negative</td>\n",
       "      <td>iPhone</td>\n",
       "      <td>i have a g iphone after hrs tweeting at it was...</td>\n",
       "      <td>g iphone hr tweeting dead need upgrade plugin ...</td>\n",
       "      <td>[i, have, a, g, iphone, after, hrs, tweeting, ...</td>\n",
       "    </tr>\n",
       "    <tr>\n",
       "      <th>1</th>\n",
       "      <td>@jessedee Know about @fludapp ? Awesome iPad/i...</td>\n",
       "      <td>apple</td>\n",
       "      <td>positive</td>\n",
       "      <td>iPad or iPhone App</td>\n",
       "      <td>know about awesome ipadiphone app that youll l...</td>\n",
       "      <td>know awesome ipadiphone app youll likely appre...</td>\n",
       "      <td>[know, about, awesome, ipadiphone, app, that, ...</td>\n",
       "    </tr>\n",
       "    <tr>\n",
       "      <th>2</th>\n",
       "      <td>@swonderlin Can not wait for #iPad 2 also. The...</td>\n",
       "      <td>apple</td>\n",
       "      <td>positive</td>\n",
       "      <td>iPad</td>\n",
       "      <td>can not wait for also they should sale them do...</td>\n",
       "      <td>wait also sale</td>\n",
       "      <td>[can, not, wait, for, also, they, should, sale...</td>\n",
       "    </tr>\n",
       "    <tr>\n",
       "      <th>3</th>\n",
       "      <td>@sxsw I hope this year's festival isn't as cra...</td>\n",
       "      <td>apple</td>\n",
       "      <td>negative</td>\n",
       "      <td>iPad or iPhone App</td>\n",
       "      <td>i hope this years festival isnt as crashy as t...</td>\n",
       "      <td>hope year festival isnt crashy year iphone app</td>\n",
       "      <td>[i, hope, this, years, festival, isnt, as, cra...</td>\n",
       "    </tr>\n",
       "    <tr>\n",
       "      <th>4</th>\n",
       "      <td>@sxtxstate great stuff on Fri #SXSW: Marissa M...</td>\n",
       "      <td>google</td>\n",
       "      <td>positive</td>\n",
       "      <td>Google</td>\n",
       "      <td>great stuff on fri marissa mayer google tim or...</td>\n",
       "      <td>great stuff fri marissa mayer google tim oreil...</td>\n",
       "      <td>[great, stuff, on, fri, marissa, mayer, google...</td>\n",
       "    </tr>\n",
       "  </tbody>\n",
       "</table>\n",
       "</div>"
      ],
      "text/plain": [
       "                                          tweet_text product_brand sentiment  \\\n",
       "0  .@wesley83 I have a 3G iPhone. After 3 hrs twe...         apple  negative   \n",
       "1  @jessedee Know about @fludapp ? Awesome iPad/i...         apple  positive   \n",
       "2  @swonderlin Can not wait for #iPad 2 also. The...         apple  positive   \n",
       "3  @sxsw I hope this year's festival isn't as cra...         apple  negative   \n",
       "4  @sxtxstate great stuff on Fri #SXSW: Marissa M...        google  positive   \n",
       "\n",
       "           brand_item                                       cleaned_text  \\\n",
       "0              iPhone  i have a g iphone after hrs tweeting at it was...   \n",
       "1  iPad or iPhone App  know about awesome ipadiphone app that youll l...   \n",
       "2                iPad  can not wait for also they should sale them do...   \n",
       "3  iPad or iPhone App  i hope this years festival isnt as crashy as t...   \n",
       "4              Google  great stuff on fri marissa mayer google tim or...   \n",
       "\n",
       "                                   preprocessed_text  \\\n",
       "0  g iphone hr tweeting dead need upgrade plugin ...   \n",
       "1  know awesome ipadiphone app youll likely appre...   \n",
       "2                                     wait also sale   \n",
       "3     hope year festival isnt crashy year iphone app   \n",
       "4  great stuff fri marissa mayer google tim oreil...   \n",
       "\n",
       "                                      tokenized_text  \n",
       "0  [i, have, a, g, iphone, after, hrs, tweeting, ...  \n",
       "1  [know, about, awesome, ipadiphone, app, that, ...  \n",
       "2  [can, not, wait, for, also, they, should, sale...  \n",
       "3  [i, hope, this, years, festival, isnt, as, cra...  \n",
       "4  [great, stuff, on, fri, marissa, mayer, google...  "
      ]
     },
     "execution_count": 191,
     "metadata": {},
     "output_type": "execute_result"
    }
   ],
   "source": [
    "df.head()# Displaying the First Few Rows of the cleaned Dataset"
   ]
  },
  {
   "cell_type": "markdown",
   "metadata": {},
   "source": [
    "### **3 Modeling**\n",
    "\n",
    "<small>\n",
    "In this section, we will build and evaluate various machine learning models to classify sentiments in the dataset. The goal is to determine the most effective model for both binary classification (positive/negative) and multi-class classification (positive/negative/neutral).\n",
    "<small>"
   ]
  },
  {
   "cell_type": "markdown",
   "metadata": {},
   "source": [
    "3.1 Preparing Data for Binary or Multi-class Classification \n",
    "<small>\n",
    "\n",
    "We begin by preparing the data for modeling. Depending on the task, we either restrict the dataset to only positive and negative sentiments for binary classification or include neutral sentiments for multi-class classification. We also encode the target sentiment labels into numerical values and prepare the features, including the processed text and product brand.\n",
    "<small>"
   ]
  },
  {
   "cell_type": "code",
   "execution_count": 192,
   "metadata": {},
   "outputs": [],
   "source": [
    "# Function to prepare data for binary or multi-class classification\n",
    "def prepare_data(df, binary=True):\n",
    "    if binary:\n",
    "        # Keep only positive and negative sentiments for binary classification\n",
    "        df = df[df['sentiment'].isin(['positive', 'negative'])].copy()  # Create a copy to avoid the warning\n",
    "    else:\n",
    "        # Include all sentiments for multi-class classification\n",
    "        df = df[df['sentiment'].isin(['positive', 'negative', 'neutral'])].copy()  # Copy for safety\n",
    "    \n",
    "    # Encode the target variable\n",
    "    le = LabelEncoder()\n",
    "    df['sentiment_encoded'] = le.fit_transform(df['sentiment'])  # Modify copy of DataFrame\n",
    "    \n",
    "    # Prepare features (X) and target (y)\n",
    "    X = df[['preprocessed_text', 'product_brand']]\n",
    "    y = df['sentiment_encoded']\n",
    "    \n",
    "    return X, y, le\n"
   ]
  },
  {
   "cell_type": "code",
   "execution_count": 193,
   "metadata": {},
   "outputs": [
    {
     "data": {
      "text/html": [
       "<div>\n",
       "<style scoped>\n",
       "    .dataframe tbody tr th:only-of-type {\n",
       "        vertical-align: middle;\n",
       "    }\n",
       "\n",
       "    .dataframe tbody tr th {\n",
       "        vertical-align: top;\n",
       "    }\n",
       "\n",
       "    .dataframe thead th {\n",
       "        text-align: right;\n",
       "    }\n",
       "</style>\n",
       "<table border=\"1\" class=\"dataframe\">\n",
       "  <thead>\n",
       "    <tr style=\"text-align: right;\">\n",
       "      <th></th>\n",
       "      <th>tweet_text</th>\n",
       "      <th>product_brand</th>\n",
       "      <th>sentiment</th>\n",
       "      <th>brand_item</th>\n",
       "      <th>cleaned_text</th>\n",
       "      <th>preprocessed_text</th>\n",
       "      <th>tokenized_text</th>\n",
       "    </tr>\n",
       "  </thead>\n",
       "  <tbody>\n",
       "    <tr>\n",
       "      <th>0</th>\n",
       "      <td>.@wesley83 I have a 3G iPhone. After 3 hrs twe...</td>\n",
       "      <td>apple</td>\n",
       "      <td>negative</td>\n",
       "      <td>iPhone</td>\n",
       "      <td>i have a g iphone after hrs tweeting at it was...</td>\n",
       "      <td>g iphone hr tweeting dead need upgrade plugin ...</td>\n",
       "      <td>[i, have, a, g, iphone, after, hrs, tweeting, ...</td>\n",
       "    </tr>\n",
       "    <tr>\n",
       "      <th>1</th>\n",
       "      <td>@jessedee Know about @fludapp ? Awesome iPad/i...</td>\n",
       "      <td>apple</td>\n",
       "      <td>positive</td>\n",
       "      <td>iPad or iPhone App</td>\n",
       "      <td>know about awesome ipadiphone app that youll l...</td>\n",
       "      <td>know awesome ipadiphone app youll likely appre...</td>\n",
       "      <td>[know, about, awesome, ipadiphone, app, that, ...</td>\n",
       "    </tr>\n",
       "    <tr>\n",
       "      <th>2</th>\n",
       "      <td>@swonderlin Can not wait for #iPad 2 also. The...</td>\n",
       "      <td>apple</td>\n",
       "      <td>positive</td>\n",
       "      <td>iPad</td>\n",
       "      <td>can not wait for also they should sale them do...</td>\n",
       "      <td>wait also sale</td>\n",
       "      <td>[can, not, wait, for, also, they, should, sale...</td>\n",
       "    </tr>\n",
       "    <tr>\n",
       "      <th>3</th>\n",
       "      <td>@sxsw I hope this year's festival isn't as cra...</td>\n",
       "      <td>apple</td>\n",
       "      <td>negative</td>\n",
       "      <td>iPad or iPhone App</td>\n",
       "      <td>i hope this years festival isnt as crashy as t...</td>\n",
       "      <td>hope year festival isnt crashy year iphone app</td>\n",
       "      <td>[i, hope, this, years, festival, isnt, as, cra...</td>\n",
       "    </tr>\n",
       "    <tr>\n",
       "      <th>4</th>\n",
       "      <td>@sxtxstate great stuff on Fri #SXSW: Marissa M...</td>\n",
       "      <td>google</td>\n",
       "      <td>positive</td>\n",
       "      <td>Google</td>\n",
       "      <td>great stuff on fri marissa mayer google tim or...</td>\n",
       "      <td>great stuff fri marissa mayer google tim oreil...</td>\n",
       "      <td>[great, stuff, on, fri, marissa, mayer, google...</td>\n",
       "    </tr>\n",
       "  </tbody>\n",
       "</table>\n",
       "</div>"
      ],
      "text/plain": [
       "                                          tweet_text product_brand sentiment  \\\n",
       "0  .@wesley83 I have a 3G iPhone. After 3 hrs twe...         apple  negative   \n",
       "1  @jessedee Know about @fludapp ? Awesome iPad/i...         apple  positive   \n",
       "2  @swonderlin Can not wait for #iPad 2 also. The...         apple  positive   \n",
       "3  @sxsw I hope this year's festival isn't as cra...         apple  negative   \n",
       "4  @sxtxstate great stuff on Fri #SXSW: Marissa M...        google  positive   \n",
       "\n",
       "           brand_item                                       cleaned_text  \\\n",
       "0              iPhone  i have a g iphone after hrs tweeting at it was...   \n",
       "1  iPad or iPhone App  know about awesome ipadiphone app that youll l...   \n",
       "2                iPad  can not wait for also they should sale them do...   \n",
       "3  iPad or iPhone App  i hope this years festival isnt as crashy as t...   \n",
       "4              Google  great stuff on fri marissa mayer google tim or...   \n",
       "\n",
       "                                   preprocessed_text  \\\n",
       "0  g iphone hr tweeting dead need upgrade plugin ...   \n",
       "1  know awesome ipadiphone app youll likely appre...   \n",
       "2                                     wait also sale   \n",
       "3     hope year festival isnt crashy year iphone app   \n",
       "4  great stuff fri marissa mayer google tim oreil...   \n",
       "\n",
       "                                      tokenized_text  \n",
       "0  [i, have, a, g, iphone, after, hrs, tweeting, ...  \n",
       "1  [know, about, awesome, ipadiphone, app, that, ...  \n",
       "2  [can, not, wait, for, also, they, should, sale...  \n",
       "3  [i, hope, this, years, festival, isnt, as, cra...  \n",
       "4  [great, stuff, on, fri, marissa, mayer, google...  "
      ]
     },
     "execution_count": 193,
     "metadata": {},
     "output_type": "execute_result"
    }
   ],
   "source": [
    "df.head()# Displaying the First Few Rows of the Dataset"
   ]
  },
  {
   "cell_type": "markdown",
   "metadata": {},
   "source": [
    "3.2 Vectorization using Tfi-df\n",
    "\n",
    "<small>\n",
    "The textual data is transformed into numerical form using TfidfVectorizer, which converts the preprocessed_text into a matrix of TF-IDF features. The categorical variable product_brand is also encoded using OneHotEncoder to incorporate brand information into the model. A ColumnTransformer is used to apply these transformations to the respective features\n",
    "<small>"
   ]
  },
  {
   "cell_type": "code",
   "execution_count": 194,
   "metadata": {},
   "outputs": [],
   "source": [
    "preprocessor = ColumnTransformer(\n",
    "    transformers=[\n",
    "        ('text_tfidf', TfidfVectorizer(max_features=5000), 'preprocessed_text'),\n",
    "        ('product_onehot', OneHotEncoder(drop='first', sparse_output=False), ['product_brand'])\n",
    "    ])"
   ]
  },
  {
   "cell_type": "markdown",
   "metadata": {},
   "source": [
    "3.3 Pipelines(Binary Classification )\n",
    "\n",
    "<small>\n",
    "To streamline the process of preprocessing and model training, we define several pipelines for different machine learning algorithms. These pipelines include:\n",
    "\n",
    "- **Logistic Regression**\n",
    "- **Random Forest**\n",
    "- **Support Vector Machine (SVM)**\n",
    "- **Gradient Boosting**\n",
    "- **Neural Networks (MLPClassifier)**\n",
    "- **XGBoost**\n",
    "<small>"
   ]
  },
  {
   "cell_type": "code",
   "execution_count": 195,
   "metadata": {},
   "outputs": [],
   "source": [
    "pipelines = {\n",
    "    'Logistic Regression': Pipeline([\n",
    "        ('preprocessor', preprocessor),\n",
    "        ('clf', LogisticRegression(random_state=42))\n",
    "    ]),\n",
    "    'Random Forest': Pipeline([\n",
    "        ('preprocessor', preprocessor),\n",
    "        ('clf', RandomForestClassifier(n_estimators=100, random_state=42))\n",
    "    ]),\n",
    "    'SVM': Pipeline([\n",
    "        ('preprocessor', preprocessor),\n",
    "        ('clf', SVC(kernel='rbf', random_state=42))\n",
    "    ]),\n",
    "    'Gradient Boosting': Pipeline([\n",
    "        ('preprocessor', preprocessor),\n",
    "        ('clf', GradientBoostingClassifier(n_estimators=100, random_state=42))\n",
    "    ]),\n",
    "    'Neural Network': Pipeline([\n",
    "        ('preprocessor', preprocessor),\n",
    "        ('clf', MLPClassifier(hidden_layer_sizes=(100, 50), max_iter=500, random_state=42))\n",
    "    ]),\n",
    "    'XGBoost': Pipeline([\n",
    "        ('preprocessor', preprocessor),\n",
    "        ('clf', XGBClassifier(n_estimators=100, random_state=42))\n",
    "    ])\n",
    "    # 'LightGBM': Pipeline([\n",
    "    #     ('preprocessor', preprocessor),\n",
    "    #     ('clf', LGBMClassifier(n_estimators=100, random_state=42))\n",
    "    # ])\n",
    "}"
   ]
  },
  {
   "cell_type": "markdown",
   "metadata": {},
   "source": [
    "3.4 LSTM Modeling"
   ]
  },
  {
   "cell_type": "code",
   "execution_count": 196,
   "metadata": {},
   "outputs": [],
   "source": [
    "# Helper function: Define callbacks and save final model\n",
    "\n",
    "def predict(model, epochs, batch_size):\n",
    "    early_stop = [EarlyStopping(monitor='val_loss', patience=5),\n",
    "             ModelCheckpoint(filepath='best_model/cp.ckpt', monitor='val_loss',\n",
    "                             save_weights_only = True,\n",
    "                             save_best_only=True)]\n",
    "\n",
    "    history = model.fit(X_train_seq, y_train, \n",
    "                     batch_size=batch_size, epochs=epochs, verbose=1, \n",
    "                     validation_data=(X_val_seq, y_val),\n",
    "                     callbacks=early_stop,\n",
    "                       )\n",
    "        \n",
    "#     graph_model(history, 'loss')\n",
    "#     graph_model(history, 'accuracy')\n",
    "    \n",
    "    train_prediction = model.predict(X_train_seq, batch_size=batch_size)\n",
    "    val_prediction = model.predict(X_val_seq, batch_size=batch_size)\n",
    "    test_prediction = model.predict(X_test_seq, batch_size=batch_size)    \n",
    "    \n",
    "    return history, train_prediction, val_prediction, test_prediction,"
   ]
  },
  {
   "cell_type": "markdown",
   "metadata": {},
   "source": [
    "### **4  Training and Evaluation of models**"
   ]
  },
  {
   "cell_type": "markdown",
   "metadata": {},
   "source": [
    "4.1  Train and Evaluation of Models"
   ]
  },
  {
   "cell_type": "code",
   "execution_count": 197,
   "metadata": {},
   "outputs": [],
   "source": [
    "# Function to train and evaluate models\n",
    "def train_and_evaluate(X, y, pipelines):\n",
    "    X_train, X_test, y_train, y_test = train_test_split(X, y, test_size=0.2, random_state=42)\n",
    "    results = {}\n",
    "\n",
    "    for name, pipeline in pipelines.items():\n",
    "        print(f\"\\nTraining {name}...\")\n",
    "        pipeline.fit(X_train, y_train)\n",
    "        \n",
    "        y_pred = pipeline.predict(X_test)\n",
    "        \n",
    "        accuracy = accuracy_score(y_test, y_pred)\n",
    "        report = classification_report(y_test, y_pred, target_names=le.classes_, output_dict=True)\n",
    "        cm = confusion_matrix(y_test, y_pred)\n",
    "        \n",
    "        results[name] = {\n",
    "            'accuracy': accuracy,\n",
    "            'report': report,\n",
    "            'confusion_matrix': cm\n",
    "        }\n",
    "        \n",
    "        print(f\"{name} Accuracy: {accuracy:.4f}\")\n",
    "\n",
    "    return results, X_test"
   ]
  },
  {
   "cell_type": "markdown",
   "metadata": {},
   "source": [
    "4.2 Train and Evaluate Binary Classification Models"
   ]
  },
  {
   "cell_type": "code",
   "execution_count": 198,
   "metadata": {},
   "outputs": [
    {
     "name": "stdout",
     "output_type": "stream",
     "text": [
      "Binary Classification (Positive vs Negative)\n",
      "\n",
      "Training Logistic Regression...\n",
      "Logistic Regression Accuracy: 0.8658\n",
      "\n",
      "Training Random Forest...\n",
      "Random Forest Accuracy: 0.8927\n",
      "\n",
      "Training SVM...\n",
      "SVM Accuracy: 0.8729\n",
      "\n",
      "Training Gradient Boosting...\n",
      "Gradient Boosting Accuracy: 0.8672\n",
      "\n",
      "Training Neural Network...\n",
      "Neural Network Accuracy: 0.8912\n",
      "\n",
      "Training XGBoost...\n",
      "XGBoost Accuracy: 0.8701\n"
     ]
    }
   ],
   "source": [
    "# Train and evaluate binary classification models\n",
    "print(\"Binary Classification (Positive vs Negative)\")\n",
    "X, y, le = prepare_data(df, binary=True)\n",
    "binary_results, X_test_binary = train_and_evaluate(X, y, pipelines)\n"
   ]
  },
  {
   "cell_type": "markdown",
   "metadata": {},
   "source": [
    "4.3  Train and evaluate multi-class classification models"
   ]
  },
  {
   "cell_type": "code",
   "execution_count": 199,
   "metadata": {},
   "outputs": [
    {
     "name": "stdout",
     "output_type": "stream",
     "text": [
      "\n",
      "Multi-class Classification (Positive vs Negative vs Neutral)\n",
      "\n",
      "Training Logistic Regression...\n",
      "Logistic Regression Accuracy: 0.8904\n",
      "\n",
      "Training Random Forest...\n",
      "Random Forest Accuracy: 0.8887\n",
      "\n",
      "Training SVM...\n",
      "SVM Accuracy: 0.8904\n",
      "\n",
      "Training Gradient Boosting...\n",
      "Gradient Boosting Accuracy: 0.8893\n",
      "\n",
      "Training Neural Network...\n",
      "Neural Network Accuracy: 0.8501\n",
      "\n",
      "Training XGBoost...\n",
      "XGBoost Accuracy: 0.8909\n"
     ]
    }
   ],
   "source": [
    "# Train and evaluate multi-class classification models\n",
    "print(\"\\nMulti-class Classification (Positive vs Negative vs Neutral)\")\n",
    "X, y, le = prepare_data(df, binary=False)\n",
    "multi_results, X_test_multi = train_and_evaluate(X, y, pipelines)"
   ]
  },
  {
   "cell_type": "markdown",
   "metadata": {},
   "source": [
    "4.4 Compare performances for Binary Classification and Multi-class Classification\n"
   ]
  },
  {
   "cell_type": "code",
   "execution_count": 200,
   "metadata": {},
   "outputs": [
    {
     "name": "stdout",
     "output_type": "stream",
     "text": [
      "\n",
      "Binary Classification Results:\n",
      "\n",
      "Logistic Regression:\n",
      "Accuracy: 0.8658\n",
      "F1-scores:\n",
      "  negative: 0.2017\n",
      "  positive: 0.9268\n",
      "  macro avg: 0.5642\n",
      "  weighted avg: 0.8182\n",
      "\n",
      "Random Forest:\n",
      "Accuracy: 0.8927\n",
      "F1-scores:\n",
      "  negative: 0.4648\n",
      "  positive: 0.9403\n",
      "  macro avg: 0.7026\n",
      "  weighted avg: 0.8691\n",
      "\n",
      "SVM:\n",
      "Accuracy: 0.8729\n",
      "F1-scores:\n",
      "  negative: 0.2857\n",
      "  positive: 0.9302\n",
      "  macro avg: 0.6080\n",
      "  weighted avg: 0.8337\n",
      "\n",
      "Gradient Boosting:\n",
      "Accuracy: 0.8672\n",
      "F1-scores:\n",
      "  negative: 0.2656\n",
      "  positive: 0.9270\n",
      "  macro avg: 0.5963\n",
      "  weighted avg: 0.8280\n",
      "\n",
      "Neural Network:\n",
      "Accuracy: 0.8912\n",
      "F1-scores:\n",
      "  negative: 0.6051\n",
      "  positive: 0.9369\n",
      "  macro avg: 0.7710\n",
      "  weighted avg: 0.8873\n",
      "\n",
      "XGBoost:\n",
      "Accuracy: 0.8701\n",
      "F1-scores:\n",
      "  negative: 0.4026\n",
      "  positive: 0.9271\n",
      "  macro avg: 0.6648\n",
      "  weighted avg: 0.8486\n",
      "\n",
      "Multi-class Classification Results:\n",
      "\n",
      "Logistic Regression:\n",
      "Accuracy: 0.8904\n",
      "F1-scores:\n",
      "  negative: 0.2893\n",
      "  neutral: 0.9571\n",
      "  positive: 0.8487\n",
      "  macro avg: 0.6984\n",
      "  weighted avg: 0.8734\n",
      "\n",
      "Random Forest:\n",
      "Accuracy: 0.8887\n",
      "F1-scores:\n",
      "  negative: 0.3354\n",
      "  neutral: 0.9523\n",
      "  positive: 0.8483\n",
      "  macro avg: 0.7120\n",
      "  weighted avg: 0.8737\n",
      "\n",
      "SVM:\n",
      "Accuracy: 0.8904\n",
      "F1-scores:\n",
      "  negative: 0.2632\n",
      "  neutral: 0.9571\n",
      "  positive: 0.8488\n",
      "  macro avg: 0.6897\n",
      "  weighted avg: 0.8716\n",
      "\n",
      "Gradient Boosting:\n",
      "Accuracy: 0.8893\n",
      "F1-scores:\n",
      "  negative: 0.2597\n",
      "  neutral: 0.9571\n",
      "  positive: 0.8469\n",
      "  macro avg: 0.6879\n",
      "  weighted avg: 0.8707\n",
      "\n",
      "Neural Network:\n",
      "Accuracy: 0.8501\n",
      "F1-scores:\n",
      "  negative: 0.4564\n",
      "  neutral: 0.9195\n",
      "  positive: 0.8017\n",
      "  macro avg: 0.7259\n",
      "  weighted avg: 0.8472\n",
      "\n",
      "XGBoost:\n",
      "Accuracy: 0.8909\n",
      "F1-scores:\n",
      "  negative: 0.3743\n",
      "  neutral: 0.9539\n",
      "  positive: 0.8498\n",
      "  macro avg: 0.7260\n",
      "  weighted avg: 0.8779\n"
     ]
    }
   ],
   "source": [
    "# Function to compare model performances\n",
    "def compare_performances(results):\n",
    "    for name, result in results.items():\n",
    "        print(f\"\\n{name}:\")\n",
    "        print(f\"Accuracy: {result['accuracy']:.4f}\")\n",
    "        print(\"F1-scores:\")\n",
    "        for class_name, metrics in result['report'].items():\n",
    "            if isinstance(metrics, dict):\n",
    "                print(f\"  {class_name}: {metrics['f1-score']:.4f}\")\n",
    "\n",
    "# Compare performances\n",
    "print(\"\\nBinary Classification Results:\")\n",
    "compare_performances(binary_results)\n",
    "\n",
    "print(\"\\nMulti-class Classification Results:\")\n",
    "compare_performances(multi_results)"
   ]
  },
  {
   "cell_type": "markdown",
   "metadata": {},
   "source": [
    "**Key Observations**\n",
    "\n",
    "<small>\n",
    "Class Imbalance: There seems to be a significant class imbalance in the  dataset. Neutral emotions are likely the most common, followed by positive, with negative emotions being rare.\n",
    "\n",
    "Difficulty with Negative Emotions: All models struggle to identify negative emotions accurately, especially in the binary classification task. This could be due to the class imbalance or the complexity of identifying negative sentiments.\n",
    "\n",
    "Model Performance: In binary classification, Random Forest and Neural Network perform best overall. In multi-class classification, Logistic Regression, SVM, and XGBoost perform similarly well.\n",
    "\n",
    "Multi-class vs Binary: The models seem to perform slightly better in the multi-class scenario, possibly because the addition of the neutral class helps to separate positive and negative emotions more effectively.\n",
    "<small>"
   ]
  },
  {
   "cell_type": "markdown",
   "metadata": {},
   "source": [
    "4.5 Model Testing\n",
    "\n",
    "<small>\n",
    "In this step, we test the performance of the selected model using a randomly chosen sample from the test dataset. The model makes a prediction based on the processed text and product brand, and the predicted sentiment is compared to the actual sentiment. The goal is to verify the model's accuracy on individual cases and assess how well it generalizes to unseen data. This step can be repeated for different models to evaluate their performance.\n",
    "</small>\n"
   ]
  },
  {
   "cell_type": "markdown",
   "metadata": {},
   "source": [
    "4.5.1 Model Testing Using Logistic Regression Model with a sample"
   ]
  },
  {
   "cell_type": "code",
   "execution_count": 201,
   "metadata": {},
   "outputs": [
    {
     "name": "stdout",
     "output_type": "stream",
     "text": [
      "\n",
      "Sample Test:\n",
      "Text: wouldnt think watching big game event without twitter ipad anymore\n",
      "product_brand: apple\n",
      "Predicted sentiment: positive\n"
     ]
    }
   ],
   "source": [
    "def test_model(model, X_test, le):\n",
    "    # Select a random sample from X_test\n",
    "    sample = X_test.sample(n=1, random_state=42)\n",
    "    \n",
    "    # Make prediction\n",
    "    prediction = model.predict(sample)\n",
    "    predicted_sentiment = le.inverse_transform(prediction)[0]\n",
    "    \n",
    "    print(\"\\nSample Test:\")\n",
    "    print(f\"Text: {sample['preprocessed_text'].values[0]}\")\n",
    "    print(f\"product_brand: {sample['product_brand'].values[0]}\")\n",
    "    print(f\"Predicted sentiment: {predicted_sentiment}\")\n",
    "\n",
    "# Test the best performing model (you can change this based on the results)\n",
    "best_model = pipelines['Logistic Regression']  # Change this to the best performing model\n",
    "test_model(best_model, X_test_multi, le)"
   ]
  },
  {
   "cell_type": "markdown",
   "metadata": {},
   "source": [
    "4.5.2 Model Testing Using Neural Network with a Sample"
   ]
  },
  {
   "cell_type": "code",
   "execution_count": 202,
   "metadata": {},
   "outputs": [
    {
     "name": "stdout",
     "output_type": "stream",
     "text": [
      "\n",
      "Sample Test:\n",
      "Text: wouldnt think watching big game event without twitter ipad anymore\n",
      "product_brand: apple\n",
      "Predicted sentiment: positive\n"
     ]
    }
   ],
   "source": [
    "def test_model(model, X_test, le):\n",
    "    # Select a random sample from X_test\n",
    "    sample = X_test.sample(n=1, random_state=42)\n",
    "    \n",
    "    # Make prediction\n",
    "    prediction = model.predict(sample)\n",
    "    predicted_sentiment = le.inverse_transform(prediction)[0]\n",
    "    \n",
    "    print(\"\\nSample Test:\")\n",
    "    print(f\"Text: {sample['preprocessed_text'].values[0]}\")\n",
    "    print(f\"product_brand: {sample['product_brand'].values[0]}\")\n",
    "    print(f\"Predicted sentiment: {predicted_sentiment}\")\n",
    "\n",
    "# Test the best performing model (you can change this based on the results)\n",
    "best_model = pipelines['Neural Network']  # Change this to the best performing model\n",
    "test_model(best_model, X_test_multi, le)"
   ]
  },
  {
   "cell_type": "markdown",
   "metadata": {},
   "source": [
    "4.5.3 Model Testing Using Random Forest Classifier with a sample"
   ]
  },
  {
   "cell_type": "code",
   "execution_count": 203,
   "metadata": {},
   "outputs": [
    {
     "name": "stdout",
     "output_type": "stream",
     "text": [
      "\n",
      "Sample Test:\n",
      "Text: wouldnt think watching big game event without twitter ipad anymore\n",
      "product_brand: apple\n",
      "Predicted sentiment: positive\n"
     ]
    }
   ],
   "source": [
    "def test_model(model, X_test, le):\n",
    "    # Select a random sample from X_test\n",
    "    sample = X_test.sample(n=1, random_state=42)\n",
    "    \n",
    "    # Make prediction\n",
    "    prediction = model.predict(sample)\n",
    "    predicted_sentiment = le.inverse_transform(prediction)[0]\n",
    "    \n",
    "    print(\"\\nSample Test:\")\n",
    "    print(f\"Text: {sample['preprocessed_text'].values[0]}\")\n",
    "    print(f\"product_brand: {sample['product_brand'].values[0]}\")\n",
    "    print(f\"Predicted sentiment: {predicted_sentiment}\")\n",
    "\n",
    "# Test the best performing model (you can change this based on the results)\n",
    "best_model = pipelines['Random Forest']  # Change this to the best performing model\n",
    "test_model(best_model, X_test_multi, le)"
   ]
  },
  {
   "cell_type": "markdown",
   "metadata": {},
   "source": [
    "4.6 Handling Class Imbalances- Using class weighting and SMOTE\n",
    "\n",
    "<small>\n",
    "In this step,we handle class imbalance using class weighting and SMOTE, evaluating both binary and multi-class models based on accuracy and F1 scores. The best model is selected using F1 scores, ensuring a balanced evaluation of precision and recall across different classes.\n",
    "<small>"
   ]
  },
  {
   "cell_type": "markdown",
   "metadata": {},
   "source": [
    "4.61 Calculating Class Weights to Handle Imbalanced Data"
   ]
  },
  {
   "cell_type": "code",
   "execution_count": 204,
   "metadata": {},
   "outputs": [],
   "source": [
    "# Function to get class weights\n",
    "def get_class_weights(y):\n",
    "    class_weights = dict(zip(np.unique(y), [1] * len(np.unique(y))))\n",
    "    sample_count = np.bincount(y)\n",
    "    total_samples = len(y)\n",
    "    for key in class_weights:\n",
    "        class_weights[key] = (1 / sample_count[key]) * (total_samples / len(class_weights))\n",
    "    return class_weights"
   ]
  },
  {
   "cell_type": "markdown",
   "metadata": {},
   "source": [
    "4.6.2  Creating Pipelines with Class Imbalance Handling Methods"
   ]
  },
  {
   "cell_type": "code",
   "execution_count": 205,
   "metadata": {},
   "outputs": [],
   "source": [
    "# Modified pipelines with class imbalance handling\n",
    "def get_pipelines(y, handling_method='class_weight'):\n",
    "    class_weights = get_class_weights(y)\n",
    "    \n",
    "    base_pipelines = {\n",
    "        'Logistic Regression': ('clf', LogisticRegression(random_state=42)),\n",
    "        'Random Forest': ('clf', RandomForestClassifier(n_estimators=100, random_state=42)),\n",
    "        'SVM': ('clf', SVC(kernel='rbf', random_state=42)),\n",
    "        'Gradient Boosting': ('clf', GradientBoostingClassifier(n_estimators=100, random_state=42)),\n",
    "        'Neural Network': ('clf', MLPClassifier(hidden_layer_sizes=(100, 50), max_iter=500, random_state=42)),\n",
    "        'XGBoost': ('clf', XGBClassifier(n_estimators=100, random_state=42))\n",
    "    }\n",
    "    \n",
    "    pipelines = {}\n",
    "    \n",
    "    for name, (clf_name, clf) in base_pipelines.items():\n",
    "        if handling_method == 'class_weight':\n",
    "            if hasattr(clf, 'class_weight'):\n",
    "                clf.set_params(class_weight=class_weights)\n",
    "            pipeline = Pipeline([('preprocessor', preprocessor), (clf_name, clf)])\n",
    "        elif handling_method == 'smote':\n",
    "            pipeline = ImbPipeline([\n",
    "                ('preprocessor', preprocessor),\n",
    "                ('smote', SMOTE(random_state=42)),\n",
    "                (clf_name, clf)\n",
    "            ])\n",
    "        else:\n",
    "            pipeline = Pipeline([('preprocessor', preprocessor), (clf_name, clf)])\n",
    "        \n",
    "        pipelines[name] = pipeline\n",
    "    \n",
    "    return pipelines"
   ]
  },
  {
   "cell_type": "markdown",
   "metadata": {},
   "source": [
    "4.6.3 Modifying the Train and Evaluate Function to Include F1 Score Calculation"
   ]
  },
  {
   "cell_type": "code",
   "execution_count": 206,
   "metadata": {},
   "outputs": [],
   "source": [
    "# Modify the train_and_evaluate function to include F1 score calculation\n",
    "def train_and_evaluate(X, y, handling_method='class_weight'):\n",
    "    X_train, X_test, y_train, y_test = train_test_split(X, y, test_size=0.2, random_state=42)\n",
    "    pipelines = get_pipelines(y_train, handling_method)\n",
    "    results = {}\n",
    "\n",
    "    for name, pipeline in pipelines.items():\n",
    "        print(f\"\\nTraining {name}...\")\n",
    "        pipeline.fit(X_train, y_train)\n",
    "        \n",
    "        y_pred = pipeline.predict(X_test)\n",
    "        \n",
    "        accuracy = accuracy_score(y_test, y_pred)\n",
    "        f1 = f1_score(y_test, y_pred, average='weighted')  # Use 'weighted' for multi-class\n",
    "        report = classification_report(y_test, y_pred, target_names=le.classes_, output_dict=True)\n",
    "        cm = confusion_matrix(y_test, y_pred)\n",
    "        \n",
    "        results[name] = {\n",
    "            'accuracy': accuracy,\n",
    "            'f1_score': f1,\n",
    "            'report': report,\n",
    "            'confusion_matrix': cm,\n",
    "            'model': pipeline  # Store the trained model for later use\n",
    "        }\n",
    "        \n",
    "        print(f\"{name} Accuracy: {accuracy:.4f}, F1 Score: {f1:.4f}\")\n",
    "\n",
    "    return results, X_test"
   ]
  },
  {
   "cell_type": "markdown",
   "metadata": {},
   "source": [
    "4.6.4 Evaluating Models on a Random Test Set"
   ]
  },
  {
   "cell_type": "code",
   "execution_count": 207,
   "metadata": {},
   "outputs": [],
   "source": [
    "# Function to evaluate models on a random test set\n",
    "def evaluate_on_random_test(models, random_test_set, le):\n",
    "    X_random = random_test_set[['preprocessed_text', 'product_brand']]\n",
    "    y_random = le.transform(random_test_set['sentiment'])\n",
    "    \n",
    "    results = {}\n",
    "    for name, model_info in models.items():\n",
    "        model = model_info['model']\n",
    "        y_pred = model.predict(X_random)\n",
    "        \n",
    "        accuracy = accuracy_score(y_random, y_pred)\n",
    "        f1 = f1_score(y_random, y_pred, average='weighted')\n",
    "        \n",
    "        results[name] = {\n",
    "            'accuracy': accuracy,\n",
    "            'f1_score': f1\n",
    "        }\n",
    "        \n",
    "        print(f\"{name} - Random Test Accuracy: {accuracy:.4f}, F1 Score: {f1:.4f}\")\n",
    "    \n",
    "    return results"
   ]
  },
  {
   "cell_type": "markdown",
   "metadata": {},
   "source": [
    " 4.6.5 Evaluating Binary and Multi-class Classification Models with Class Imbalance Handling"
   ]
  },
  {
   "cell_type": "code",
   "execution_count": 208,
   "metadata": {},
   "outputs": [
    {
     "name": "stdout",
     "output_type": "stream",
     "text": [
      "Binary Classification (Positive vs Negative)\n",
      "\n",
      "With Class Weighting:\n",
      "\n",
      "Training Logistic Regression...\n"
     ]
    },
    {
     "name": "stdout",
     "output_type": "stream",
     "text": [
      "Logistic Regression Accuracy: 0.8333, F1 Score: 0.8453\n",
      "\n",
      "Training Random Forest...\n",
      "Random Forest Accuracy: 0.8842, F1 Score: 0.8599\n",
      "\n",
      "Training SVM...\n",
      "SVM Accuracy: 0.9054, F1 Score: 0.8973\n",
      "\n",
      "Training Gradient Boosting...\n",
      "Gradient Boosting Accuracy: 0.8672, F1 Score: 0.8280\n",
      "\n",
      "Training Neural Network...\n",
      "Neural Network Accuracy: 0.8912, F1 Score: 0.8873\n",
      "\n",
      "Training XGBoost...\n",
      "XGBoost Accuracy: 0.8701, F1 Score: 0.8486\n",
      "\n",
      "With SMOTE:\n",
      "\n",
      "Training Logistic Regression...\n",
      "Logistic Regression Accuracy: 0.8630, F1 Score: 0.8688\n",
      "\n",
      "Training Random Forest...\n",
      "Random Forest Accuracy: 0.8884, F1 Score: 0.8695\n",
      "\n",
      "Training SVM...\n",
      "SVM Accuracy: 0.8955, F1 Score: 0.8755\n",
      "\n",
      "Training Gradient Boosting...\n",
      "Gradient Boosting Accuracy: 0.8404, F1 Score: 0.8401\n",
      "\n",
      "Training Neural Network...\n",
      "Neural Network Accuracy: 0.8927, F1 Score: 0.8890\n",
      "\n",
      "Training XGBoost...\n",
      "XGBoost Accuracy: 0.8658, F1 Score: 0.8492\n",
      "\n",
      "Multi-class Classification (Positive vs Negative vs Neutral)\n",
      "\n",
      "With Class Weighting:\n",
      "\n",
      "Training Logistic Regression...\n",
      "Logistic Regression Accuracy: 0.8854, F1 Score: 0.8848\n",
      "\n",
      "Training Random Forest...\n",
      "Random Forest Accuracy: 0.8904, F1 Score: 0.8763\n",
      "\n",
      "Training SVM...\n",
      "SVM Accuracy: 0.8970, F1 Score: 0.8903\n",
      "\n",
      "Training Gradient Boosting...\n",
      "Gradient Boosting Accuracy: 0.8893, F1 Score: 0.8707\n",
      "\n",
      "Training Neural Network...\n",
      "Neural Network Accuracy: 0.8501, F1 Score: 0.8472\n",
      "\n",
      "Training XGBoost...\n",
      "XGBoost Accuracy: 0.8909, F1 Score: 0.8779\n",
      "\n",
      "With SMOTE:\n",
      "\n",
      "Training Logistic Regression...\n",
      "Logistic Regression Accuracy: 0.8848, F1 Score: 0.8845\n",
      "\n",
      "Training Random Forest...\n",
      "Random Forest Accuracy: 0.8909, F1 Score: 0.8798\n",
      "\n",
      "Training SVM...\n",
      "SVM Accuracy: 0.8981, F1 Score: 0.8903\n",
      "\n",
      "Training Gradient Boosting...\n",
      "Gradient Boosting Accuracy: 0.8815, F1 Score: 0.8799\n",
      "\n",
      "Training Neural Network...\n",
      "Neural Network Accuracy: 0.8281, F1 Score: 0.8296\n",
      "\n",
      "Training XGBoost...\n",
      "XGBoost Accuracy: 0.8909, F1 Score: 0.8847\n"
     ]
    }
   ],
   "source": [
    "# Modify your train_and_evaluate function to return X_test and y_test\n",
    "def train_and_evaluate(X, y, handling_method='class_weight'):\n",
    "    X_train, X_test, y_train, y_test = train_test_split(X, y, test_size=0.2, random_state=42)\n",
    "    pipelines = get_pipelines(y_train, handling_method)\n",
    "    results = {}\n",
    "\n",
    "    for name, pipeline in pipelines.items():\n",
    "        print(f\"\\nTraining {name}...\")\n",
    "        pipeline.fit(X_train, y_train)\n",
    "        \n",
    "        y_pred = pipeline.predict(X_test)\n",
    "        \n",
    "        accuracy = accuracy_score(y_test, y_pred)\n",
    "        f1 = f1_score(y_test, y_pred, average='weighted')  # Use 'weighted' for multi-class\n",
    "        report = classification_report(y_test, y_pred, target_names=le.classes_, output_dict=True)\n",
    "        cm = confusion_matrix(y_test, y_pred)\n",
    "        \n",
    "        results[name] = {\n",
    "            'accuracy': accuracy,\n",
    "            'f1_score': f1,\n",
    "            'report': report,\n",
    "            'confusion_matrix': cm,\n",
    "            'model': pipeline  # Store the trained model for later use\n",
    "        }\n",
    "        \n",
    "        print(f\"{name} Accuracy: {accuracy:.4f}, F1 Score: {f1:.4f}\")\n",
    "\n",
    "    return results, X_test, y_test  # Return y_test as well\n",
    "\n",
    "# Function to get the best performing model\n",
    "def get_best_model(results):\n",
    "    return max(results.items(), key=lambda x: x[1]['f1_score'])\n",
    "\n",
    "# Your existing code for training and evaluation\n",
    "print(\"Binary Classification (Positive vs Negative)\")\n",
    "X, y, le = prepare_data(df, binary=True)\n",
    "\n",
    "print(\"\\nWith Class Weighting:\")\n",
    "binary_results_weighted, X_test_binary, y_test_binary = train_and_evaluate(X, y, handling_method='class_weight')\n",
    "\n",
    "print(\"\\nWith SMOTE:\")\n",
    "binary_results_smote, _, _ = train_and_evaluate(X, y, handling_method='smote')\n",
    "\n",
    "print(\"\\nMulti-class Classification (Positive vs Negative vs Neutral)\")\n",
    "X, y, le = prepare_data(df, binary=False)\n",
    "\n",
    "print(\"\\nWith Class Weighting:\")\n",
    "multi_results_weighted, X_test_multi, y_test_multi = train_and_evaluate(X, y, handling_method='class_weight')\n",
    "\n",
    "print(\"\\nWith SMOTE:\")\n",
    "multi_results_smote, _, _ = train_and_evaluate(X, y, handling_method='smote')"
   ]
  },
  {
   "cell_type": "markdown",
   "metadata": {},
   "source": [
    "4.6.6 Testing Individual Models with Random Samples"
   ]
  },
  {
   "cell_type": "code",
   "execution_count": 211,
   "metadata": {},
   "outputs": [],
   "source": [
    "import random\n",
    "\n",
    "# Add this function to test individual models\n",
    "def test_model(model, X_test, y_test, le, n_samples=3):\n",
    "    # Select random samples from X_test\n",
    "    sample_indices = random.sample(range(len(X_test)), n_samples)\n",
    "    samples = X_test.iloc[sample_indices]\n",
    "    true_sentiments = le.inverse_transform(y_test.iloc[sample_indices])\n",
    "    \n",
    "    print(\"\\nSample Tests:\")\n",
    "    for i, (_, sample) in enumerate(samples.iterrows()):\n",
    "        # Make prediction\n",
    "        prediction = model.predict(sample.to_frame().T)\n",
    "        predicted_sentiment = le.inverse_transform(prediction)[0]\n",
    "        \n",
    "        print(f\"\\nSample {i+1}:\")\n",
    "        print(f\"Text: {sample['preprocessed_text']}\")\n",
    "        print(f\"Product: {sample['product_brand']}\")\n",
    "        print(f\"True sentiment: {true_sentiments[i]}\")\n",
    "        print(f\"Predicted sentiment: {predicted_sentiment}\")\n",
    "        print(f\"Correct: {'Yes' if predicted_sentiment == true_sentiments[i] else 'No'}\")"
   ]
  },
  {
   "cell_type": "markdown",
   "metadata": {},
   "source": [
    "4.6.7 Modifying Train and Evaluate Function to Return Test Data"
   ]
  },
  {
   "cell_type": "code",
   "execution_count": 210,
   "metadata": {},
   "outputs": [
    {
     "name": "stdout",
     "output_type": "stream",
     "text": [
      "Binary Classification (Positive vs Negative)\n",
      "\n",
      "With Class Weighting:\n",
      "\n",
      "Training Logistic Regression...\n",
      "Logistic Regression Accuracy: 0.8333, F1 Score: 0.8453\n",
      "\n",
      "Training Random Forest...\n",
      "Random Forest Accuracy: 0.8842, F1 Score: 0.8599\n",
      "\n",
      "Training SVM...\n",
      "SVM Accuracy: 0.9054, F1 Score: 0.8973\n",
      "\n",
      "Training Gradient Boosting...\n",
      "Gradient Boosting Accuracy: 0.8672, F1 Score: 0.8280\n",
      "\n",
      "Training Neural Network...\n",
      "Neural Network Accuracy: 0.8912, F1 Score: 0.8873\n",
      "\n",
      "Training XGBoost...\n",
      "XGBoost Accuracy: 0.8701, F1 Score: 0.8486\n",
      "\n",
      "With SMOTE:\n",
      "\n",
      "Training Logistic Regression...\n",
      "Logistic Regression Accuracy: 0.8630, F1 Score: 0.8688\n",
      "\n",
      "Training Random Forest...\n",
      "Random Forest Accuracy: 0.8884, F1 Score: 0.8695\n",
      "\n",
      "Training SVM...\n",
      "SVM Accuracy: 0.8955, F1 Score: 0.8755\n",
      "\n",
      "Training Gradient Boosting...\n",
      "Gradient Boosting Accuracy: 0.8404, F1 Score: 0.8401\n",
      "\n",
      "Training Neural Network...\n",
      "Neural Network Accuracy: 0.8927, F1 Score: 0.8890\n",
      "\n",
      "Training XGBoost...\n",
      "XGBoost Accuracy: 0.8658, F1 Score: 0.8492\n",
      "\n",
      "Multi-class Classification (Positive vs Negative vs Neutral)\n",
      "\n",
      "With Class Weighting:\n",
      "\n",
      "Training Logistic Regression...\n",
      "Logistic Regression Accuracy: 0.8854, F1 Score: 0.8848\n",
      "\n",
      "Training Random Forest...\n",
      "Random Forest Accuracy: 0.8904, F1 Score: 0.8763\n",
      "\n",
      "Training SVM...\n",
      "SVM Accuracy: 0.8970, F1 Score: 0.8903\n",
      "\n",
      "Training Gradient Boosting...\n",
      "Gradient Boosting Accuracy: 0.8893, F1 Score: 0.8707\n",
      "\n",
      "Training Neural Network...\n",
      "Neural Network Accuracy: 0.8501, F1 Score: 0.8472\n",
      "\n",
      "Training XGBoost...\n",
      "XGBoost Accuracy: 0.8909, F1 Score: 0.8779\n",
      "\n",
      "With SMOTE:\n",
      "\n",
      "Training Logistic Regression...\n",
      "Logistic Regression Accuracy: 0.8848, F1 Score: 0.8845\n",
      "\n",
      "Training Random Forest...\n",
      "Random Forest Accuracy: 0.8909, F1 Score: 0.8798\n",
      "\n",
      "Training SVM...\n",
      "SVM Accuracy: 0.8981, F1 Score: 0.8903\n",
      "\n",
      "Training Gradient Boosting...\n",
      "Gradient Boosting Accuracy: 0.8815, F1 Score: 0.8799\n",
      "\n",
      "Training Neural Network...\n",
      "Neural Network Accuracy: 0.8281, F1 Score: 0.8296\n",
      "\n",
      "Training XGBoost...\n",
      "XGBoost Accuracy: 0.8909, F1 Score: 0.8847\n"
     ]
    }
   ],
   "source": [
    "# Modify your train_and_evaluate function to return X_test and y_test\n",
    "def train_and_evaluate(X, y, handling_method='class_weight'):\n",
    "    X_train, X_test, y_train, y_test = train_test_split(X, y, test_size=0.2, random_state=42)\n",
    "    pipelines = get_pipelines(y_train, handling_method)\n",
    "    results = {}\n",
    "\n",
    "    for name, pipeline in pipelines.items():\n",
    "        print(f\"\\nTraining {name}...\")\n",
    "        pipeline.fit(X_train, y_train)\n",
    "        \n",
    "        y_pred = pipeline.predict(X_test)\n",
    "        \n",
    "        accuracy = accuracy_score(y_test, y_pred)\n",
    "        f1 = f1_score(y_test, y_pred, average='weighted')  # Use 'weighted' for multi-class\n",
    "        report = classification_report(y_test, y_pred, target_names=le.classes_, output_dict=True)\n",
    "        cm = confusion_matrix(y_test, y_pred)\n",
    "        \n",
    "        results[name] = {\n",
    "            'accuracy': accuracy,\n",
    "            'f1_score': f1,\n",
    "            'report': report,\n",
    "            'confusion_matrix': cm,\n",
    "            'model': pipeline  # Store the trained model for later use\n",
    "        }\n",
    "        \n",
    "        print(f\"{name} Accuracy: {accuracy:.4f}, F1 Score: {f1:.4f}\")\n",
    "\n",
    "    return results, X_test, y_test  # Return y_test as well\n",
    "\n",
    "# Function to get the best performing model\n",
    "def get_best_model(results):\n",
    "    return max(results.items(), key=lambda x: x[1]['f1_score'])\n",
    "\n",
    "# Your existing code for training and evaluation\n",
    "print(\"Binary Classification (Positive vs Negative)\")\n",
    "X, y, le = prepare_data(df, binary=True)\n",
    "\n",
    "print(\"\\nWith Class Weighting:\")\n",
    "binary_results_weighted, X_test_binary, y_test_binary = train_and_evaluate(X, y, handling_method='class_weight')\n",
    "\n",
    "print(\"\\nWith SMOTE:\")\n",
    "binary_results_smote, _, _ = train_and_evaluate(X, y, handling_method='smote')\n",
    "\n",
    "print(\"\\nMulti-class Classification (Positive vs Negative vs Neutral)\")\n",
    "X, y, le = prepare_data(df, binary=False)\n",
    "\n",
    "print(\"\\nWith Class Weighting:\")\n",
    "multi_results_weighted, X_test_multi, y_test_multi = train_and_evaluate(X, y, handling_method='class_weight')\n",
    "\n",
    "print(\"\\nWith SMOTE:\")\n",
    "multi_results_smote, _, _ = train_and_evaluate(X, y, handling_method='smote')"
   ]
  },
  {
   "cell_type": "markdown",
   "metadata": {},
   "source": [
    "### **5 Evaluation**"
   ]
  },
  {
   "cell_type": "markdown",
   "metadata": {},
   "source": [
    "##### Sentiment Analysis Model Performance Comparison\n",
    "\n",
    "This summarizes the results of the binary and multi-class sentiment analysis models, highlighting accuracy and F1 scores for both class weighting (CW) and SMOTE techniques\n",
    "\n",
    "**Results Summary**\n",
    "\n",
    "##### Binary Classification (Positive vs Negative)\n",
    "\n",
    "\n",
    "| Model               | Accuracy (CW) | F1 Score (CW) | Accuracy (SMOTE) | F1 Score (SMOTE) |\n",
    "|---------------------|---------------|---------------|------------------|------------------|\n",
    "| Logistic Regression | 0.8333        | 0.8453        | 0.8630           | 0.8688           |\n",
    "| Random Forest       | 0.8842        | 0.8599        | 0.8884           | 0.8695           |\n",
    "| SVM                 | 0.9054        | 0.8973        | 0.8955           | 0.8755           |\n",
    "| Gradient Boosting   | 0.8672        | 0.8280        | 0.8404           | 0.8401           |\n",
    "| Neural Network      | 0.8912        | 0.8873        | 0.8927           | 0.8890           |\n",
    "| XGBoost             | 0.8701        | 0.8486        | 0.8658           | 0.8492           |\n",
    "\n",
    "##### Multi-class Classification (Positive vs Negative vs Neutral)\n",
    "\n",
    "| Model               | Accuracy (CW) | F1 Score (CW) | Accuracy (SMOTE) | F1 Score (SMOTE) |\n",
    "|---------------------|---------------|---------------|------------------|------------------|\n",
    "| Logistic Regression | 0.8854        | 0.8848        | 0.8848           | 0.8845           |\n",
    "| Random Forest       | 0.8904        | 0.8763        | 0.8909           | 0.8798           |\n",
    "| SVM                 | 0.8970        | 0.8903        | 0.8981           | 0.8903           |\n",
    "| Gradient Boosting   | 0.8893        | 0.8707        | 0.8815           | 0.8799           |\n",
    "| Neural Network      | 0.8501        | 0.8472        | 0.8281           | 0.8296           |\n",
    "| XGBoost             | 0.8909        | 0.8779        | 0.8909           | 0.8847           |\n",
    "\n",
    "\n",
    "\n",
    "##### Results Summary Analysis:\n",
    "\n",
    "<small>\n",
    "\n",
    " 1. Handling class imbalances significantly improved model performance, especially for the minority class (negative emotions).\n",
    "\n",
    "2. In **binary classification,SVM with class weighting performed best (Accuracy: 0.9054, F1 Score: 0.8973)**.\n",
    "\n",
    "3. For **multi-class classification, SVM with class weighting again showed the best results (Accuracy: 0.8970, F1 Score: 0.8903).**\n",
    "\n",
    "4. SMOTE and class weighting techniques showed similar improvements, with class weighting slightly outperforming SMOTE in most cases.\n",
    "\n",
    "5. Neural Networks performed well in binary classification but lagged in multi-class scenarios.\n",
    "\n",
    "6. Use SVM with class weighting as the primary model for both binary and multi-class sentiment analysis tasks.\n",
    "<small>"
   ]
  },
  {
   "cell_type": "markdown",
   "metadata": {},
   "source": [
    "##### Limitation and Challenges \n",
    "- Class Imbalance Issue: The dataset suffers from class imbalance, where one sentiment class is dominant while others are underrepresented. This can result in biased models that are more accurate for the majority class but perform poorly on the minority classes. Addressing this issue is important to ensure fair and balanced sentiment analysis.\n",
    "\n",
    "- Limited Dataset Size: The dataset used for sentiment analysis is relatively small, which can limit the model's ability to capture the full complexity of sentiments expressed in text. A larger and more diverse dataset would provide a broader representation of sentiments and improve the model's performance and generalization.\n",
    "\n",
    "- Language Ambiguity and Sarcasm Detection: Language can be inherently ambiguous, and detecting sarcasm in text adds an extra layer of complexity. Sarcasm detection is challenging due to the subtleties and nuances involved. Developing robust strategies to handle language ambiguity and detect sarcasm is crucial for accurate sentiment analysis"
   ]
  },
  {
   "cell_type": "markdown",
   "metadata": {},
   "source": [
    "\n",
    "### **6 Recommendations, Conclusions, and Next Steps..**\n",
    "\n",
    "6.1 Recommendations:\n",
    "- **Primary Model Selection**: Based on the evaluation, SVM with class weighting consistently performed the best in both binary and multi-class classification tasks. It should be the preferred model for future sentiment analysis on this dataset.\n",
    "- **Handling Class Imbalances**: The results show that class weighting slightly outperforms SMOTE in most cases. Therefore, use class weighting as the primary technique for handling class imbalances in future models.\n",
    "- **Further Data Collection**: Given the limitations of dataset size and class imbalance, collecting a larger and more balanced dataset would greatly improve the model's performance and generalization. Consider incorporating more diverse data sources.\n",
    "- **Addressing Textual Variations**: The model needs improvements to handle the complexity of social media language, such as abbreviations, slang, emojis, and informal expressions. Advanced NLP techniques like embeddings and context-aware models (e.g., BERT) should be considered to better capture these variations.\n",
    "- **Context and Sentiment Subtlety**: The model struggles with understanding implicit and subtle expressions of sentiment. Future iterations should incorporate more sophisticated context understanding, perhaps using transfer learning with pre-trained models that can capture nuanced text meaning.\n",
    "- **Real-Time Processing Capabilities**: As sentiment analysis tools are often needed in real-time applications (e.g., for social media monitoring), focus on building a scalable system that can efficiently handle large volumes of data in real time.\n",
    "\n",
    "6.2 Conclusion:\n",
    "- **SVM as the Best Model**: SVM with class weighting provided the highest accuracy and F1 scores for both binary and multi-class classifications, making it the best model for this sentiment analysis task.\n",
    "- **Class Imbalance Impact**: Handling class imbalances significantly improved model performance, particularly for the minority class (negative sentiment). This highlights the importance of addressing class imbalance in sentiment analysis tasks.\n",
    "- **Binary vs. Multi-class Performance**: While SVM excelled in both binary and multi-class tasks, the neural network model struggled with multi-class classification, suggesting that simpler models may be better suited for this dataset.\n",
    "- **Challenges in Textual Variations and Context**: The model faces challenges in handling the informal language and sentiment subtleties commonly seen in social media posts, emphasizing the need for more context-aware models.\n",
    "\n",
    "6.3 Next Steps:\n",
    "- **Deploy SVM Model**: Deploy the SVM with class weighting model as the primary model for sentiment analysis, focusing on binary and multi-class classifications of tweets related to Apple and Google products.\n",
    "- **Model Fine-Tuning**: Continue fine-tuning the SVM model, especially in hyperparameter tuning, to further improve its accuracy and F1 scores.\n",
    "- **Expand Dataset**: Collect and preprocess more data to address dataset size and diversity limitations. This will help improve the generalization and robustness of the model.\n",
    "- **Enhance Text Processing**: Develop advanced NLP models that can handle textual variations such as slang, emojis, and context-based sentiment, potentially using BERT or GPT-like models.\n",
    "- **Build Real-Time Processing Solution**: Focus on developing a scalable system that can process social media data in real time to provide timely insights for marketing or public relations purposes.\n",
    "\n",
    "6.4 Objectives Review:\n",
    "- **Binary Classification Model**: We successfully developed a binary classification model (SVM) that met the target accuracy of 85%, achieving a final accuracy of 90.54% with class weighting.\n",
    "- **Multi-class Classification**: We expanded the binary classifier to include neutral sentiments and achieved an accuracy of 89.70% in multi-class classification, surpassing the target of 70%.\n",
    "- **Sentiment Comparison Between Apple and Google**: The analysis provided a detailed comparison of sentiment distributions across Apple and Google products, offering insights into consumer sentiment that can guide future marketing strategies.\n"
   ]
  }
 ],
 "metadata": {
  "kernelspec": {
   "display_name": "learn-env",
   "language": "python",
   "name": "python3"
  },
  "language_info": {
   "codemirror_mode": {
    "name": "ipython",
    "version": 3
   },
   "file_extension": ".py",
   "mimetype": "text/x-python",
   "name": "python",
   "nbconvert_exporter": "python",
   "pygments_lexer": "ipython3",
   "version": "3.9.19"
  }
 },
 "nbformat": 4,
 "nbformat_minor": 2
}
